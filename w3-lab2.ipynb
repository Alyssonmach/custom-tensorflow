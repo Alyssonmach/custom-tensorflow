{
  "nbformat": 4,
  "nbformat_minor": 0,
  "metadata": {
    "colab": {
      "name": "w3_lab2.ipynb",
      "provenance": []
    },
    "kernelspec": {
      "name": "python3",
      "display_name": "Python 3"
    },
    "language_info": {
      "name": "python"
    }
  },
  "cells": [
    {
      "cell_type": "markdown",
      "metadata": {
        "id": "Q3aJwiUL9znW"
      },
      "source": [
        "# Implementing Custom Layers\n",
        "***\n",
        "In this lab, we'll through how to create a custom [Layer](https://keras.io/api/layers/base_layer/) that inherits the Layer class. Unlike simple Lambda layers you did previously, the custom laer here will contain weights that can be updated during training."
      ]
    },
    {
      "cell_type": "markdown",
      "metadata": {
        "id": "FYhnSnL4ASZd"
      },
      "source": [
        "### Imports\n",
        "***"
      ]
    },
    {
      "cell_type": "code",
      "metadata": {
        "id": "0_1UEPbD9t01"
      },
      "source": [
        "try:\n",
        "  %tensorflow_version 2.x\n",
        "except Exception:\n",
        "  pass\n",
        "\n",
        "import tensorflow as tf\n",
        "import numpy as np"
      ],
      "execution_count": 1,
      "outputs": []
    },
    {
      "cell_type": "markdown",
      "metadata": {
        "id": "U8eeat0_AdbG"
      },
      "source": [
        "### Custom Layer with weights\n",
        "***\n",
        "To make custom layer that is trainable, we need to define a class inherits the Layer base class from Keras. The Python syntax is shown below in the class declaration. This class requires three functions: `__init__()`, `build()` and `call()`. These ensure that our custom layer has a *state* and *computation* that can be acessed during training or inference."
      ]
    },
    {
      "cell_type": "code",
      "metadata": {
        "id": "Qr8bMzdEBLDZ"
      },
      "source": [
        "from tensorflow.keras.layers  import Layer\n",
        "\n",
        "class SimpleDense(Layer):\n",
        "\n",
        "  def __init__(self, units=32):\n",
        "\n",
        "    super(SimpleDense, self).__init__()\n",
        "    self.units = units\n",
        "\n",
        "  def build(self, input_shape):\n",
        "\n",
        "    w_init = tf.random_normal_initializer()\n",
        "    self.w = tf.Variable(name='kernel', initial_value=w_init(shape=(input_shape[-1], self.units), dtype='float32'), trainable=True)\n",
        "    b_init = tf.zeros_initializer()\n",
        "    self.b = tf.Variable(name='bias', initial_value=b_init(shape=(self.units), dtype='float32'), trainable=True)\n",
        "  \n",
        "  def call(self, inputs):\n",
        "\n",
        "    return tf.matmul(inputs, self.w) + self.b "
      ],
      "execution_count": 8,
      "outputs": []
    },
    {
      "cell_type": "markdown",
      "metadata": {
        "id": "qQRRTvPQjhR-"
      },
      "source": [
        "Now we can use our custom layer like below:"
      ]
    },
    {
      "cell_type": "code",
      "metadata": {
        "colab": {
          "base_uri": "https://localhost:8080/"
        },
        "id": "I5uilAyDjloh",
        "outputId": "daf10b11-bf10-4376-ceeb-0eba83368963"
      },
      "source": [
        "my_dense = SimpleDense(units=1)\n",
        "\n",
        "x = tf.ones((1, 1))\n",
        "y = my_dense(x)\n",
        "\n",
        "print(my_dense.variables)"
      ],
      "execution_count": 9,
      "outputs": [
        {
          "output_type": "stream",
          "text": [
            "[<tf.Variable 'simple_dense_1/kernel:0' shape=(1, 1) dtype=float32, numpy=array([[0.03973808]], dtype=float32)>, <tf.Variable 'simple_dense_1/bias:0' shape=(1,) dtype=float32, numpy=array([0.], dtype=float32)>]\n"
          ],
          "name": "stdout"
        }
      ]
    },
    {
      "cell_type": "markdown",
      "metadata": {
        "id": "mH-QTJgSkC9u"
      },
      "source": [
        "Let's then try using it in simple network:"
      ]
    },
    {
      "cell_type": "code",
      "metadata": {
        "colab": {
          "base_uri": "https://localhost:8080/"
        },
        "id": "9f3KMtq7kBBq",
        "outputId": "1b085be1-f0cb-441c-dc37-e39cecdf32ae"
      },
      "source": [
        "xs = np.array([-1.0, 0.0, 1.0, 2.0, 3.0, 4.0], dtype=float)\n",
        "ys = np.array([-3.0, -1.0, 1.0, 3.0, 5.0, 7.0], dtype=float)\n",
        "\n",
        "my_layer = SimpleDense(units=1)\n",
        "model = tf.keras.Sequential([my_layer])\n",
        "\n",
        "model.compile(optimizer='sgd', loss='mean_squared_error')\n",
        "model.fit(xs, ys, epochs=500, verbose=0)\n",
        "\n",
        "print(model.predict([10.0]))\n",
        "\n",
        "print(my_layer.variables)"
      ],
      "execution_count": 11,
      "outputs": [
        {
          "output_type": "stream",
          "text": [
            "[[18.981667]]\n",
            "[<tf.Variable 'simple_dense_3/kernel:0' shape=(1, 1) dtype=float32, numpy=array([[1.9973428]], dtype=float32)>, <tf.Variable 'simple_dense_3/bias:0' shape=(1,) dtype=float32, numpy=array([-0.99176204], dtype=float32)>]\n"
          ],
          "name": "stdout"
        }
      ]
    }
  ]
}