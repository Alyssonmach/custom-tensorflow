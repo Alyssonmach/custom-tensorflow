{
  "nbformat": 4,
  "nbformat_minor": 0,
  "metadata": {
    "colab": {
      "name": "c1w1lab1.ipynb",
      "provenance": []
    },
    "kernelspec": {
      "name": "python3",
      "display_name": "Python 3"
    },
    "language_info": {
      "name": "python"
    }
  },
  "cells": [
    {
      "cell_type": "markdown",
      "metadata": {
        "id": "1q6Sq4yn6I9X"
      },
      "source": [
        "# Functional API Practice\n",
        "***\n",
        "This lab will demonstrate how to build models with the `Functional` syntax. You'll build one using the `Sequential API` and see how you can do the same with the Functional API. Both will arrive at the same architecture and you can train and evaluate it as usual."
      ]
    },
    {
      "cell_type": "markdown",
      "metadata": {
        "id": "dbXTJA1-6WHE"
      },
      "source": [
        "### Imports\n",
        "***"
      ]
    },
    {
      "cell_type": "code",
      "metadata": {
        "id": "15SsMrow5-Ur"
      },
      "source": [
        "try:\n",
        "  %tensorflow_version 2.x\n",
        "except Exception:\n",
        "  pass\n",
        "\n",
        "import tensorflow as tf\n",
        "from tensorflow.python.keras.utils.vis_utils import plot_model\n",
        "from tensorflow.keras.models import Model"
      ],
      "execution_count": null,
      "outputs": []
    },
    {
      "cell_type": "markdown",
      "metadata": {
        "id": "z2B86x4N66KR"
      },
      "source": [
        "### Sequential API\n",
        "***\n",
        "Here is how we use Sequential() class to build a model."
      ]
    },
    {
      "cell_type": "code",
      "metadata": {
        "id": "2bzMg5v268cs"
      },
      "source": [
        "def build_model_with_sequential():\n",
        "\n",
        "  seq_model = tf.keras.models.Sequential([tf.keras.layers.Flatten(input_shape=(28, 28)),\n",
        "                                          tf.keras.layers.Dense(units=128, activation='relu'),\n",
        "                                          tf.keras.layers.Dense(units=10, activation='softmax')])\n",
        "  \n",
        "  return seq_model"
      ],
      "execution_count": null,
      "outputs": []
    },
    {
      "cell_type": "code",
      "metadata": {
        "id": "Vr815-217rVi"
      },
      "source": [
        "sequential = build_model_with_sequential()"
      ],
      "execution_count": null,
      "outputs": []
    },
    {
      "cell_type": "code",
      "metadata": {
        "colab": {
          "base_uri": "https://localhost:8080/"
        },
        "id": "VnV_dWc87ueB",
        "outputId": "650cb771-578b-4274-dc21-46879b7fa1f5"
      },
      "source": [
        "sequential.summary()"
      ],
      "execution_count": null,
      "outputs": [
        {
          "output_type": "stream",
          "text": [
            "Model: \"sequential\"\n",
            "_________________________________________________________________\n",
            "Layer (type)                 Output Shape              Param #   \n",
            "=================================================================\n",
            "flatten (Flatten)            (None, 784)               0         \n",
            "_________________________________________________________________\n",
            "dense (Dense)                (None, 128)               100480    \n",
            "_________________________________________________________________\n",
            "dense_1 (Dense)              (None, 10)                1290      \n",
            "=================================================================\n",
            "Total params: 101,770\n",
            "Trainable params: 101,770\n",
            "Non-trainable params: 0\n",
            "_________________________________________________________________\n"
          ],
          "name": "stdout"
        }
      ]
    },
    {
      "cell_type": "markdown",
      "metadata": {
        "id": "OtfFlIq47x6X"
      },
      "source": [
        "### Functional API\n",
        "***\n",
        "And here is how you build the same model above with the functional syntax."
      ]
    },
    {
      "cell_type": "code",
      "metadata": {
        "id": "rwWpgXTl72oR"
      },
      "source": [
        "def build_model_with_functional():\n",
        "\n",
        "  input_layer = tf.keras.Input(shape=(28, 28))\n",
        "\n",
        "  flatten_layer = tf.keras.layers.Flatten()(input_layer)\n",
        "  first_dense = tf.keras.layers.Dense(units=128, activation='relu')(flatten_layer)\n",
        "  output_layer = tf.keras.layers.Dense(units=10, activation='softmax')(first_dense)\n",
        "\n",
        "  func_model = Model(inputs=input_layer, outputs=output_layer)\n",
        "\n",
        "  return func_model"
      ],
      "execution_count": null,
      "outputs": []
    },
    {
      "cell_type": "code",
      "metadata": {
        "id": "JWa1fE2z8lgS"
      },
      "source": [
        "functional = build_model_with_functional()"
      ],
      "execution_count": null,
      "outputs": []
    },
    {
      "cell_type": "code",
      "metadata": {
        "colab": {
          "base_uri": "https://localhost:8080/"
        },
        "id": "CM1nEn1s8uIt",
        "outputId": "a9c51e89-2600-46ef-dc3d-db6f5627dd01"
      },
      "source": [
        "functional.summary()"
      ],
      "execution_count": null,
      "outputs": [
        {
          "output_type": "stream",
          "text": [
            "Model: \"model\"\n",
            "_________________________________________________________________\n",
            "Layer (type)                 Output Shape              Param #   \n",
            "=================================================================\n",
            "input_3 (InputLayer)         [(None, 28, 28)]          0         \n",
            "_________________________________________________________________\n",
            "flatten_3 (Flatten)          (None, 784)               0         \n",
            "_________________________________________________________________\n",
            "dense_5 (Dense)              (None, 128)               100480    \n",
            "_________________________________________________________________\n",
            "dense_6 (Dense)              (None, 10)                1290      \n",
            "=================================================================\n",
            "Total params: 101,770\n",
            "Trainable params: 101,770\n",
            "Non-trainable params: 0\n",
            "_________________________________________________________________\n"
          ],
          "name": "stdout"
        }
      ]
    },
    {
      "cell_type": "markdown",
      "metadata": {
        "id": "teCRA5Q580z9"
      },
      "source": [
        "### Visualize the model graph\n",
        "***\n",
        "You can choose how to build your model below. Just uncomment which function you'd like to use. You'll notice that the plot will look the same."
      ]
    },
    {
      "cell_type": "code",
      "metadata": {
        "colab": {
          "base_uri": "https://localhost:8080/",
          "height": 422
        },
        "id": "fQ9U0txo83Qg",
        "outputId": "fb0d2af1-720d-4aac-ebff-38e1979da3c8"
      },
      "source": [
        "plot_model(functional, show_shapes=True, show_layer_names=True, to_file='model.png')"
      ],
      "execution_count": null,
      "outputs": [
        {
          "output_type": "execute_result",
          "data": {
            "image/png": "[encoded data removed]",
            "text/plain": [
              "<IPython.core.display.Image object>"
            ]
          },
          "metadata": {
            "tags": []
          },
          "execution_count": 13
        }
      ]
    },
    {
      "cell_type": "markdown",
      "metadata": {
        "id": "_aUaifZU9Fux"
      },
      "source": [
        "### Training the model\n",
        "***\n",
        "Regardless if you built the Sequential or Functional API, you'll follow the same steps when training and evaluating your model."
      ]
    },
    {
      "cell_type": "code",
      "metadata": {
        "colab": {
          "base_uri": "https://localhost:8080/"
        },
        "id": "B3x1tHzs9IKZ",
        "outputId": "0f440ad8-8d47-4f40-d7cd-61bffc80e754"
      },
      "source": [
        "mnist = tf.keras.datasets.mnist\n",
        "(training_images, training_labels), (test_images, test_labels) = mnist.load_data()\n",
        "training_images, test_images = training_images / 255., test_images / 255. "
      ],
      "execution_count": null,
      "outputs": [
        {
          "output_type": "stream",
          "text": [
            "Downloading data from https://storage.googleapis.com/tensorflow/tf-keras-datasets/mnist.npz\n",
            "11493376/11490434 [==============================] - 0s 0us/step\n"
          ],
          "name": "stdout"
        }
      ]
    },
    {
      "cell_type": "code",
      "metadata": {
        "id": "6SATU6Cz9kCC"
      },
      "source": [
        "functional.compile(optimizer=tf.keras.optimizers.Adam(),\n",
        "                   loss='sparse_categorical_crossentropy',\n",
        "                   metrics = ['accuracy'])"
      ],
      "execution_count": null,
      "outputs": []
    },
    {
      "cell_type": "code",
      "metadata": {
        "colab": {
          "base_uri": "https://localhost:8080/"
        },
        "id": "qkRIs1zK9z_5",
        "outputId": "c5704333-12c7-4f09-d419-a21892023ef5"
      },
      "source": [
        "functional.fit(training_images, training_labels, epochs=10)"
      ],
      "execution_count": null,
      "outputs": [
        {
          "output_type": "stream",
          "text": [
            "Epoch 1/10\n",
            "1875/1875 [==============================] - 4s 2ms/step - loss: 0.2578 - accuracy: 0.9264\n",
            "Epoch 2/10\n",
            "1875/1875 [==============================] - 4s 2ms/step - loss: 0.1110 - accuracy: 0.9669\n",
            "Epoch 3/10\n",
            "1875/1875 [==============================] - 4s 2ms/step - loss: 0.0772 - accuracy: 0.9768\n",
            "Epoch 4/10\n",
            "1875/1875 [==============================] - 4s 2ms/step - loss: 0.0566 - accuracy: 0.9832\n",
            "Epoch 5/10\n",
            "1875/1875 [==============================] - 4s 2ms/step - loss: 0.0441 - accuracy: 0.9864\n",
            "Epoch 6/10\n",
            "1875/1875 [==============================] - 4s 2ms/step - loss: 0.0339 - accuracy: 0.9890\n",
            "Epoch 7/10\n",
            "1875/1875 [==============================] - 4s 2ms/step - loss: 0.0275 - accuracy: 0.9918\n",
            "Epoch 8/10\n",
            "1875/1875 [==============================] - 4s 2ms/step - loss: 0.0227 - accuracy: 0.9928\n",
            "Epoch 9/10\n",
            "1875/1875 [==============================] - 4s 2ms/step - loss: 0.0183 - accuracy: 0.9944\n",
            "Epoch 10/10\n",
            "1875/1875 [==============================] - 4s 2ms/step - loss: 0.0162 - accuracy: 0.9952\n"
          ],
          "name": "stdout"
        },
        {
          "output_type": "execute_result",
          "data": {
            "text/plain": [
              "<tensorflow.python.keras.callbacks.History at 0x7f252e1ce850>"
            ]
          },
          "metadata": {
            "tags": []
          },
          "execution_count": 17
        }
      ]
    },
    {
      "cell_type": "code",
      "metadata": {
        "colab": {
          "base_uri": "https://localhost:8080/"
        },
        "id": "ZltZrQJC-HaJ",
        "outputId": "493904c2-fe7b-4631-c5dd-89f2abd2dd2d"
      },
      "source": [
        "functional.evaluate(test_images, test_labels)"
      ],
      "execution_count": null,
      "outputs": [
        {
          "output_type": "stream",
          "text": [
            "313/313 [==============================] - 1s 1ms/step - loss: 0.0754 - accuracy: 0.9786\n"
          ],
          "name": "stdout"
        },
        {
          "output_type": "execute_result",
          "data": {
            "text/plain": [
              "[0.0754142701625824, 0.978600025177002]"
            ]
          },
          "metadata": {
            "tags": []
          },
          "execution_count": 18
        }
      ]
    }
  ]
}