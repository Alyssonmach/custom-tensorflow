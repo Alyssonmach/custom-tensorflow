{
 "cells": [
  {
   "cell_type": "markdown",
   "metadata": {
    "colab_type": "text",
    "id": "ZL_6GK8qX35J"
   },
   "source": [
    "\n",
    "\n",
    "# Week 1: Multiple Output Models using the Keras Functional API\n",
    "\n",
    "Welcome to the first programming assignment of the course! Your task will be to use the Keras functional API to train a model to predict two outputs. For this lab, you will use the **[Wine Quality Dataset](https://archive.ics.uci.edu/ml/datasets/Wine+Quality)** from the **UCI machine learning repository**. It has separate datasets for red wine and white wine.\n",
    "\n",
    "Normally, the wines are classified into one of the quality ratings specified in the attributes. In this exercise, you will combine the two datasets to predict the wine quality and whether the wine is red or white solely from the attributes. \n",
    "\n",
    "You will model wine quality estimations as a regression problem and wine type detection as a binary classification problem.\n",
    "\n",
    "#### Please complete sections that are marked **(TODO)**"
   ]
  },
  {
   "cell_type": "markdown",
   "metadata": {
    "colab_type": "text",
    "id": "obdcD6urYBY9"
   },
   "source": [
    "## Imports"
   ]
  },
  {
   "cell_type": "code",
   "execution_count": 1,
   "metadata": {
    "colab": {},
    "colab_type": "code",
    "id": "t8N3pcTQ5oQI"
   },
   "outputs": [],
   "source": [
    "import tensorflow as tf\n",
    "from tensorflow.keras.models import Model\n",
    "from tensorflow.keras.layers import Dense, Input\n",
    "\n",
    "import numpy as np\n",
    "import matplotlib.pyplot as plt\n",
    "import pandas as pd\n",
    "from sklearn.model_selection import train_test_split\n",
    "from sklearn.metrics import confusion_matrix\n",
    "import itertools\n",
    "\n",
    "import utils"
   ]
  },
  {
   "cell_type": "markdown",
   "metadata": {
    "colab_type": "text",
    "id": "gQMERzWQYpgm"
   },
   "source": [
    "## Load Dataset\n",
    "\n",
    "\n",
    "You will now load the dataset from the [UCI Machine Learning Repository](https://archive.ics.uci.edu/ml/index.php) which are already saved in your workspace.\n",
    "\n",
    "### Pre-process the white wine dataset (TODO)\n",
    "You will add a new column named `is_red` in your dataframe to indicate if the wine is white or red. \n",
    "- In the white wine dataset, you will fill the column `is_red` with  zeros (0)."
   ]
  },
  {
   "cell_type": "code",
   "execution_count": 2,
   "metadata": {
    "colab": {},
    "colab_type": "code",
    "deletable": false,
    "id": "2qYAjKXCd4RH",
    "nbgrader": {
     "cell_type": "code",
     "checksum": "325ea195519b7035934c95bb529a062c",
     "grade": false,
     "grade_id": "cell-e5bfa0f152d9a21f",
     "locked": false,
     "schema_version": 3,
     "solution": true,
     "task": false
    }
   },
   "outputs": [],
   "source": [
    "# Please uncomment all lines in this cell and replace those marked with `# YOUR CODE HERE`.\n",
    "# You can select all lines in this code cell with Ctrl+A (Windows/Linux) or Cmd+A (Mac), then press Ctrl+/ (Windows/Linux) or Cmd+/ (Mac) to uncomment.\n",
    "\n",
    "# URL of the white wine dataset\n",
    "URI = './winequality-white.csv'\n",
    "\n",
    "# load the dataset from the URL\n",
    "white_df = pd.read_csv(URI, sep=\";\")\n",
    "\n",
    "# # fill the `is_red` column with zeros.\n",
    "white_df[\"is_red\"] = 0\n",
    "\n",
    "# keep only the first of duplicate items\n",
    "white_df = white_df.drop_duplicates(keep='first')"
   ]
  },
  {
   "cell_type": "code",
   "execution_count": 3,
   "metadata": {
    "deletable": false,
    "editable": false,
    "nbgrader": {
     "cell_type": "code",
     "checksum": "defe38d6ec58fd31cd67b89e46c4373f",
     "grade": true,
     "grade_id": "cell-30575e713b55fc51",
     "locked": true,
     "points": 1,
     "schema_version": 3,
     "solution": false,
     "task": false
    }
   },
   "outputs": [
    {
     "name": "stdout",
     "output_type": "stream",
     "text": [
      "\u001b[92m All public tests passed\n"
     ]
    }
   ],
   "source": [
    "# You can click `File -> Open` in the menu above and open the `utils.py` file \n",
    "# in case you want to inspect the unit tests being used for each graded function.\n",
    "\n",
    "utils.test_white_df(white_df)\n"
   ]
  },
  {
   "cell_type": "code",
   "execution_count": 4,
   "metadata": {
    "colab": {},
    "colab_type": "code",
    "id": "OQHK0ohBQRCk"
   },
   "outputs": [
    {
     "name": "stdout",
     "output_type": "stream",
     "text": [
      "8.8\n",
      "9.1\n"
     ]
    }
   ],
   "source": [
    "print(white_df.alcohol[0])\n",
    "print(white_df.alcohol[100])\n",
    "\n",
    "# EXPECTED OUTPUT\n",
    "# 8.8\n",
    "# 9.1"
   ]
  },
  {
   "cell_type": "markdown",
   "metadata": {},
   "source": [
    "### Pre-process the red wine dataset (TODO)\n",
    "- In the red wine dataset, you will fill in the column `is_red` with ones (1)."
   ]
  },
  {
   "cell_type": "code",
   "execution_count": 5,
   "metadata": {
    "colab": {},
    "colab_type": "code",
    "deletable": false,
    "id": "8y3QxKwBed8v",
    "nbgrader": {
     "cell_type": "code",
     "checksum": "12e0963d15be33b01b4e6ebc8945e51e",
     "grade": false,
     "grade_id": "cell-e47a40f306593274",
     "locked": false,
     "schema_version": 3,
     "solution": true,
     "task": false
    }
   },
   "outputs": [],
   "source": [
    "# Please uncomment all lines in this cell and replace those marked with `# YOUR CODE HERE`.\n",
    "# You can select all lines in this code cell with Ctrl+A (Windows/Linux) or Cmd+A (Mac), then press Ctrl+/ (Windows/Linux) or Cmd+/ (Mac) to uncomment.\n",
    "\n",
    "# URL of the red wine dataset\n",
    "URI = './winequality-red.csv'\n",
    "\n",
    "# load the dataset from the URL\n",
    "red_df = pd.read_csv(URI, sep=\";\")\n",
    "\n",
    "# fill the `is_red` column with ones.\n",
    "red_df[\"is_red\"] = 1\n",
    "\n",
    "# keep only the first of duplicate items\n",
    "red_df = red_df.drop_duplicates(keep='first')"
   ]
  },
  {
   "cell_type": "code",
   "execution_count": 6,
   "metadata": {
    "deletable": false,
    "editable": false,
    "nbgrader": {
     "cell_type": "code",
     "checksum": "d8e0c91b0fd668b63ba74a8f2f958b59",
     "grade": true,
     "grade_id": "cell-2a75937adcc0c25b",
     "locked": true,
     "points": 1,
     "schema_version": 3,
     "solution": false,
     "task": false
    }
   },
   "outputs": [
    {
     "name": "stdout",
     "output_type": "stream",
     "text": [
      "\u001b[92m All public tests passed\n"
     ]
    }
   ],
   "source": [
    "utils.test_red_df(red_df)\n"
   ]
  },
  {
   "cell_type": "code",
   "execution_count": 7,
   "metadata": {
    "colab": {},
    "colab_type": "code",
    "id": "zsB3LUzNQpo_"
   },
   "outputs": [
    {
     "name": "stdout",
     "output_type": "stream",
     "text": [
      "9.4\n",
      "10.2\n"
     ]
    }
   ],
   "source": [
    "print(red_df.alcohol[0])\n",
    "print(red_df.alcohol[100])\n",
    "\n",
    "# EXPECTED OUTPUT\n",
    "# 9.4\n",
    "# 10.2"
   ]
  },
  {
   "cell_type": "markdown",
   "metadata": {
    "colab_type": "text",
    "id": "2G8B-NYuM6-f"
   },
   "source": [
    "### Concatenate the datasets\n",
    "\n",
    "Next, concatenate the red and white wine dataframes."
   ]
  },
  {
   "cell_type": "code",
   "execution_count": 8,
   "metadata": {
    "colab": {},
    "colab_type": "code",
    "id": "YpQrOjJbfN3m"
   },
   "outputs": [],
   "source": [
    "df = pd.concat([red_df, white_df], ignore_index=True)"
   ]
  },
  {
   "cell_type": "code",
   "execution_count": 9,
   "metadata": {
    "colab": {},
    "colab_type": "code",
    "id": "Se2dTmThQyjb"
   },
   "outputs": [
    {
     "name": "stdout",
     "output_type": "stream",
     "text": [
      "9.4\n",
      "9.5\n"
     ]
    }
   ],
   "source": [
    "print(df.alcohol[0])\n",
    "print(df.alcohol[100])\n",
    "\n",
    "# EXPECTED OUTPUT\n",
    "# 9.4\n",
    "# 9.5"
   ]
  },
  {
   "cell_type": "markdown",
   "metadata": {},
   "source": [
    "In a real-world scenario, you should shuffle the data. For this assignment however, **you are not** going to do that because the grader needs to test with deterministic data. If you want the code to do it **after** you've gotten your grade for this notebook, we left the commented line below for reference"
   ]
  },
  {
   "cell_type": "code",
   "execution_count": null,
   "metadata": {
    "colab": {},
    "colab_type": "code",
    "id": "wx6y3rPpQv4k"
   },
   "outputs": [],
   "source": [
    "#df = df.iloc[np.random.permutation(len(df))]"
   ]
  },
  {
   "cell_type": "markdown",
   "metadata": {
    "colab_type": "text",
    "id": "-EqIcbg5M_n1"
   },
   "source": [
    "This will chart the quality of the wines."
   ]
  },
  {
   "cell_type": "code",
   "execution_count": 10,
   "metadata": {
    "colab": {},
    "colab_type": "code",
    "id": "IsvK0-Sgy17C"
   },
   "outputs": [
    {
     "data": {
      "image/png": "[encoded data removed]",
      "text/plain": [
       "<Figure size 432x288 with 1 Axes>"
      ]
     },
     "metadata": {
      "needs_background": "light"
     },
     "output_type": "display_data"
    }
   ],
   "source": [
    "df['quality'].hist(bins=20);"
   ]
  },
  {
   "cell_type": "markdown",
   "metadata": {
    "colab_type": "text",
    "id": "Nut1rmYLzf-p"
   },
   "source": [
    "### Imbalanced data (TODO)\n",
    "You can see from the plot above that the wine quality dataset is imbalanced. \n",
    "- Since there are very few observations with quality equal to 3, 4, 8 and 9, you can drop these observations from your dataset. \n",
    "- You can do this by removing data belonging to all classes except those > 4 and < 8."
   ]
  },
  {
   "cell_type": "code",
   "execution_count": 11,
   "metadata": {
    "colab": {},
    "colab_type": "code",
    "deletable": false,
    "id": "doH9_-gnf3sz",
    "nbgrader": {
     "cell_type": "code",
     "checksum": "d9ba9fc3a3ca02ccc567be33652b80fe",
     "grade": false,
     "grade_id": "cell-6a3e9db696f6827b",
     "locked": false,
     "schema_version": 3,
     "solution": true,
     "task": false
    }
   },
   "outputs": [],
   "source": [
    "# Please uncomment all lines in this cell and replace those marked with `# YOUR CODE HERE`.\n",
    "# You can select all lines in this code cell with Ctrl+A (Windows/Linux) or Cmd+A (Mac), then press Ctrl+/ (Windows/Linux) or Cmd+/ (Mac) to uncomment.\n",
    "\n",
    "# get data with wine quality greater than 4 and less than 8\n",
    "df = df[(df['quality'] > 4) & (df['quality'] < 8)]\n",
    "\n",
    "# reset index and drop the old one\n",
    "df = df.reset_index(drop=True)"
   ]
  },
  {
   "cell_type": "code",
   "execution_count": 12,
   "metadata": {
    "deletable": false,
    "editable": false,
    "nbgrader": {
     "cell_type": "code",
     "checksum": "281e1d86a4803560ed5892cd7eda4c01",
     "grade": true,
     "grade_id": "cell-aed3da719d4682c7",
     "locked": true,
     "points": 1,
     "schema_version": 3,
     "solution": false,
     "task": false
    }
   },
   "outputs": [
    {
     "name": "stdout",
     "output_type": "stream",
     "text": [
      "\u001b[92m All public tests passed\n"
     ]
    }
   ],
   "source": [
    "utils.test_df_drop(df)\n",
    "\n"
   ]
  },
  {
   "cell_type": "code",
   "execution_count": 13,
   "metadata": {
    "colab": {},
    "colab_type": "code",
    "id": "xNR1iAlMRPXO"
   },
   "outputs": [
    {
     "name": "stdout",
     "output_type": "stream",
     "text": [
      "9.4\n",
      "10.9\n"
     ]
    }
   ],
   "source": [
    "print(df.alcohol[0])\n",
    "print(df.alcohol[100])\n",
    "\n",
    "# EXPECTED OUTPUT\n",
    "# 9.4\n",
    "# 10.9"
   ]
  },
  {
   "cell_type": "markdown",
   "metadata": {
    "colab_type": "text",
    "id": "cwhuRpnVRTzG"
   },
   "source": [
    "You can plot again to see the new range of data and quality"
   ]
  },
  {
   "cell_type": "code",
   "execution_count": 14,
   "metadata": {
    "colab": {},
    "colab_type": "code",
    "id": "857ygzZiLgGg"
   },
   "outputs": [
    {
     "data": {
      "image/png": "[encoded data removed]",
      "text/plain": [
       "<Figure size 432x288 with 1 Axes>"
      ]
     },
     "metadata": {
      "needs_background": "light"
     },
     "output_type": "display_data"
    }
   ],
   "source": [
    "df['quality'].hist(bins=20);"
   ]
  },
  {
   "cell_type": "markdown",
   "metadata": {
    "colab_type": "text",
    "id": "n3k0vqSsp84t"
   },
   "source": [
    "### Train Test Split (TODO)\n",
    "\n",
    "Next, you can split the datasets into training, test and validation datasets.\n",
    "- The data frame should be split 80:20 into `train` and `test` sets.\n",
    "- The resulting `train` should then be split 80:20 into `train` and `val` sets.\n",
    "- The `train_test_split` parameter `test_size` takes a float value that ranges between 0. and 1, and represents the proportion of the dataset that is allocated to the test set.  The rest of the data is allocated to the training set."
   ]
  },
  {
   "cell_type": "code",
   "execution_count": 17,
   "metadata": {
    "colab": {},
    "colab_type": "code",
    "deletable": false,
    "id": "PAVIf2-fgRVY",
    "nbgrader": {
     "cell_type": "code",
     "checksum": "7f5738f4fb51d65adc9a8acbdf2b9970",
     "grade": false,
     "grade_id": "cell-91946cadf745206b",
     "locked": false,
     "schema_version": 3,
     "solution": true,
     "task": false
    }
   },
   "outputs": [],
   "source": [
    "# Please uncomment all lines in this cell and replace those marked with `# YOUR CODE HERE`.\n",
    "# You can select all lines in this code cell with Ctrl+A (Windows/Linux) or Cmd+A (Mac), then press Ctrl+/ (Windows/Linux) or Cmd+/ (Mac) to uncomment.\n",
    "\n",
    "# Please do not change the random_state parameter. This is needed for grading.\n",
    "\n",
    "# split df into 80:20 train and test sets\n",
    "train, test = train_test_split(df, test_size=0.2, random_state = 1)\n",
    "                               \n",
    "# split train into 80:20 train and val sets\n",
    "train, val = train_test_split(train, test_size=0.2, random_state = 1)"
   ]
  },
  {
   "cell_type": "code",
   "execution_count": 18,
   "metadata": {
    "colab": {},
    "colab_type": "code",
    "deletable": false,
    "editable": false,
    "id": "57h9LcEzRWpk",
    "nbgrader": {
     "cell_type": "code",
     "checksum": "42adbe9e66efac7c7a5f8cd73ac92f22",
     "grade": true,
     "grade_id": "cell-64b8b38cd0b965f6",
     "locked": true,
     "points": 1,
     "schema_version": 3,
     "solution": false,
     "task": false
    }
   },
   "outputs": [
    {
     "name": "stdout",
     "output_type": "stream",
     "text": [
      "\u001b[92m All public tests passed\n"
     ]
    }
   ],
   "source": [
    "utils.test_data_sizes(train.size, test.size, val.size)\n",
    "\n"
   ]
  },
  {
   "cell_type": "markdown",
   "metadata": {
    "colab_type": "text",
    "id": "RwTNu4KFqG-K"
   },
   "source": [
    "Here's where you can explore the training stats. You can pop the labels 'is_red' and 'quality' from the data as these will be used as the labels\n"
   ]
  },
  {
   "cell_type": "code",
   "execution_count": 19,
   "metadata": {
    "colab": {},
    "colab_type": "code",
    "id": "Y_afyhhHM6WQ"
   },
   "outputs": [],
   "source": [
    "train_stats = train.describe()\n",
    "train_stats.pop('is_red')\n",
    "train_stats.pop('quality')\n",
    "train_stats = train_stats.transpose()"
   ]
  },
  {
   "cell_type": "markdown",
   "metadata": {
    "colab_type": "text",
    "id": "ahvbYm4fNqSt"
   },
   "source": [
    "Explore the training stats!"
   ]
  },
  {
   "cell_type": "code",
   "execution_count": 20,
   "metadata": {
    "colab": {},
    "colab_type": "code",
    "id": "n_gAtPjZ0otF"
   },
   "outputs": [
    {
     "data": {
      "text/html": [
       "<div>\n",
       "<style scoped>\n",
       "    .dataframe tbody tr th:only-of-type {\n",
       "        vertical-align: middle;\n",
       "    }\n",
       "\n",
       "    .dataframe tbody tr th {\n",
       "        vertical-align: top;\n",
       "    }\n",
       "\n",
       "    .dataframe thead th {\n",
       "        text-align: right;\n",
       "    }\n",
       "</style>\n",
       "<table border=\"1\" class=\"dataframe\">\n",
       "  <thead>\n",
       "    <tr style=\"text-align: right;\">\n",
       "      <th></th>\n",
       "      <th>count</th>\n",
       "      <th>mean</th>\n",
       "      <th>std</th>\n",
       "      <th>min</th>\n",
       "      <th>25%</th>\n",
       "      <th>50%</th>\n",
       "      <th>75%</th>\n",
       "      <th>max</th>\n",
       "    </tr>\n",
       "  </thead>\n",
       "  <tbody>\n",
       "    <tr>\n",
       "      <th>fixed acidity</th>\n",
       "      <td>3155.0</td>\n",
       "      <td>7.221616</td>\n",
       "      <td>1.325297</td>\n",
       "      <td>3.80000</td>\n",
       "      <td>6.40000</td>\n",
       "      <td>7.00000</td>\n",
       "      <td>7.7000</td>\n",
       "      <td>15.60000</td>\n",
       "    </tr>\n",
       "    <tr>\n",
       "      <th>volatile acidity</th>\n",
       "      <td>3155.0</td>\n",
       "      <td>0.338929</td>\n",
       "      <td>0.162476</td>\n",
       "      <td>0.08000</td>\n",
       "      <td>0.23000</td>\n",
       "      <td>0.29000</td>\n",
       "      <td>0.4000</td>\n",
       "      <td>1.24000</td>\n",
       "    </tr>\n",
       "    <tr>\n",
       "      <th>citric acid</th>\n",
       "      <td>3155.0</td>\n",
       "      <td>0.321569</td>\n",
       "      <td>0.147970</td>\n",
       "      <td>0.00000</td>\n",
       "      <td>0.25000</td>\n",
       "      <td>0.31000</td>\n",
       "      <td>0.4000</td>\n",
       "      <td>1.66000</td>\n",
       "    </tr>\n",
       "    <tr>\n",
       "      <th>residual sugar</th>\n",
       "      <td>3155.0</td>\n",
       "      <td>5.155911</td>\n",
       "      <td>4.639632</td>\n",
       "      <td>0.60000</td>\n",
       "      <td>1.80000</td>\n",
       "      <td>2.80000</td>\n",
       "      <td>7.6500</td>\n",
       "      <td>65.80000</td>\n",
       "    </tr>\n",
       "    <tr>\n",
       "      <th>chlorides</th>\n",
       "      <td>3155.0</td>\n",
       "      <td>0.056976</td>\n",
       "      <td>0.036802</td>\n",
       "      <td>0.01200</td>\n",
       "      <td>0.03800</td>\n",
       "      <td>0.04700</td>\n",
       "      <td>0.0660</td>\n",
       "      <td>0.61100</td>\n",
       "    </tr>\n",
       "    <tr>\n",
       "      <th>free sulfur dioxide</th>\n",
       "      <td>3155.0</td>\n",
       "      <td>30.388590</td>\n",
       "      <td>17.236784</td>\n",
       "      <td>1.00000</td>\n",
       "      <td>17.00000</td>\n",
       "      <td>28.00000</td>\n",
       "      <td>41.0000</td>\n",
       "      <td>131.00000</td>\n",
       "    </tr>\n",
       "    <tr>\n",
       "      <th>total sulfur dioxide</th>\n",
       "      <td>3155.0</td>\n",
       "      <td>115.062282</td>\n",
       "      <td>56.706617</td>\n",
       "      <td>6.00000</td>\n",
       "      <td>75.00000</td>\n",
       "      <td>117.00000</td>\n",
       "      <td>156.0000</td>\n",
       "      <td>344.00000</td>\n",
       "    </tr>\n",
       "    <tr>\n",
       "      <th>density</th>\n",
       "      <td>3155.0</td>\n",
       "      <td>0.994633</td>\n",
       "      <td>0.003005</td>\n",
       "      <td>0.98711</td>\n",
       "      <td>0.99232</td>\n",
       "      <td>0.99481</td>\n",
       "      <td>0.9968</td>\n",
       "      <td>1.03898</td>\n",
       "    </tr>\n",
       "    <tr>\n",
       "      <th>pH</th>\n",
       "      <td>3155.0</td>\n",
       "      <td>3.223201</td>\n",
       "      <td>0.161272</td>\n",
       "      <td>2.72000</td>\n",
       "      <td>3.11000</td>\n",
       "      <td>3.21000</td>\n",
       "      <td>3.3300</td>\n",
       "      <td>4.01000</td>\n",
       "    </tr>\n",
       "    <tr>\n",
       "      <th>sulphates</th>\n",
       "      <td>3155.0</td>\n",
       "      <td>0.534051</td>\n",
       "      <td>0.149149</td>\n",
       "      <td>0.22000</td>\n",
       "      <td>0.43000</td>\n",
       "      <td>0.51000</td>\n",
       "      <td>0.6000</td>\n",
       "      <td>1.95000</td>\n",
       "    </tr>\n",
       "    <tr>\n",
       "      <th>alcohol</th>\n",
       "      <td>3155.0</td>\n",
       "      <td>10.504466</td>\n",
       "      <td>1.154654</td>\n",
       "      <td>8.50000</td>\n",
       "      <td>9.50000</td>\n",
       "      <td>10.30000</td>\n",
       "      <td>11.3000</td>\n",
       "      <td>14.00000</td>\n",
       "    </tr>\n",
       "  </tbody>\n",
       "</table>\n",
       "</div>"
      ],
      "text/plain": [
       "                       count        mean        std      min       25%  \\\n",
       "fixed acidity         3155.0    7.221616   1.325297  3.80000   6.40000   \n",
       "volatile acidity      3155.0    0.338929   0.162476  0.08000   0.23000   \n",
       "citric acid           3155.0    0.321569   0.147970  0.00000   0.25000   \n",
       "residual sugar        3155.0    5.155911   4.639632  0.60000   1.80000   \n",
       "chlorides             3155.0    0.056976   0.036802  0.01200   0.03800   \n",
       "free sulfur dioxide   3155.0   30.388590  17.236784  1.00000  17.00000   \n",
       "total sulfur dioxide  3155.0  115.062282  56.706617  6.00000  75.00000   \n",
       "density               3155.0    0.994633   0.003005  0.98711   0.99232   \n",
       "pH                    3155.0    3.223201   0.161272  2.72000   3.11000   \n",
       "sulphates             3155.0    0.534051   0.149149  0.22000   0.43000   \n",
       "alcohol               3155.0   10.504466   1.154654  8.50000   9.50000   \n",
       "\n",
       "                            50%       75%        max  \n",
       "fixed acidity           7.00000    7.7000   15.60000  \n",
       "volatile acidity        0.29000    0.4000    1.24000  \n",
       "citric acid             0.31000    0.4000    1.66000  \n",
       "residual sugar          2.80000    7.6500   65.80000  \n",
       "chlorides               0.04700    0.0660    0.61100  \n",
       "free sulfur dioxide    28.00000   41.0000  131.00000  \n",
       "total sulfur dioxide  117.00000  156.0000  344.00000  \n",
       "density                 0.99481    0.9968    1.03898  \n",
       "pH                      3.21000    3.3300    4.01000  \n",
       "sulphates               0.51000    0.6000    1.95000  \n",
       "alcohol                10.30000   11.3000   14.00000  "
      ]
     },
     "execution_count": 20,
     "metadata": {},
     "output_type": "execute_result"
    }
   ],
   "source": [
    "train_stats"
   ]
  },
  {
   "cell_type": "markdown",
   "metadata": {
    "colab_type": "text",
    "id": "bGPvt9jir_HC"
   },
   "source": [
    "### Get the labels (TODO)\n",
    "\n",
    "The features and labels are currently in the same dataframe.\n",
    "- You will want to store the label columns `is_red` and `quality` separately from the feature columns.  \n",
    "- The following function, `format_output`, gets these two columns from the dataframe (it's given to you).\n",
    "- `format_output` also formats the data into numpy arrays. \n",
    "- Please use the `format_output` and apply it to the `train`, `val` and `test` sets to get dataframes for the labels."
   ]
  },
  {
   "cell_type": "code",
   "execution_count": 21,
   "metadata": {
    "colab": {},
    "colab_type": "code",
    "id": "Z_fs14XQqZVP"
   },
   "outputs": [],
   "source": [
    "def format_output(data):\n",
    "    is_red = data.pop('is_red')\n",
    "    is_red = np.array(is_red)\n",
    "    quality = data.pop('quality')\n",
    "    quality = np.array(quality)\n",
    "    return (quality, is_red)"
   ]
  },
  {
   "cell_type": "code",
   "execution_count": 22,
   "metadata": {
    "colab": {},
    "colab_type": "code",
    "deletable": false,
    "id": "8L3ZZe1fQicm",
    "nbgrader": {
     "cell_type": "code",
     "checksum": "7a86809e54895a816434c48dc903f55d",
     "grade": false,
     "grade_id": "cell-5c30fa2c2a354b0f",
     "locked": false,
     "schema_version": 3,
     "solution": true,
     "task": false
    }
   },
   "outputs": [],
   "source": [
    "# Please uncomment all lines in this cell and replace those marked with `# YOUR CODE HERE`.\n",
    "# You can select all lines in this code cell with Ctrl+A (Windows/Linux) or Cmd+A (Mac), then press Ctrl+/ (Windows/Linux) or Cmd+/ (Mac) to uncomment.\n",
    "\n",
    "# format the output of the train set\n",
    "train_Y = format_output(train)\n",
    "\n",
    "# format the output of the val set\n",
    "val_Y = format_output(val)\n",
    "    \n",
    "# format the output of the test set\n",
    "test_Y = format_output(test)"
   ]
  },
  {
   "cell_type": "code",
   "execution_count": 23,
   "metadata": {
    "deletable": false,
    "editable": false,
    "nbgrader": {
     "cell_type": "code",
     "checksum": "359cabbafaed14ec9bbc1e57a7b6f32c",
     "grade": true,
     "grade_id": "cell-4977d8befb80f56b",
     "locked": true,
     "points": 1,
     "schema_version": 3,
     "solution": false,
     "task": false
    }
   },
   "outputs": [
    {
     "name": "stdout",
     "output_type": "stream",
     "text": [
      "\u001b[92m All public tests passed\n"
     ]
    }
   ],
   "source": [
    "utils.test_format_output(df, train_Y, val_Y, test_Y)"
   ]
  },
  {
   "cell_type": "markdown",
   "metadata": {},
   "source": [
    "Notice that after you get the labels, the `train`, `val` and `test` dataframes no longer contain the label columns, and contain just the feature columns.\n",
    "- This is because you used `.pop` in the `format_output` function."
   ]
  },
  {
   "cell_type": "code",
   "execution_count": 24,
   "metadata": {},
   "outputs": [
    {
     "data": {
      "text/html": [
       "<div>\n",
       "<style scoped>\n",
       "    .dataframe tbody tr th:only-of-type {\n",
       "        vertical-align: middle;\n",
       "    }\n",
       "\n",
       "    .dataframe tbody tr th {\n",
       "        vertical-align: top;\n",
       "    }\n",
       "\n",
       "    .dataframe thead th {\n",
       "        text-align: right;\n",
       "    }\n",
       "</style>\n",
       "<table border=\"1\" class=\"dataframe\">\n",
       "  <thead>\n",
       "    <tr style=\"text-align: right;\">\n",
       "      <th></th>\n",
       "      <th>fixed acidity</th>\n",
       "      <th>volatile acidity</th>\n",
       "      <th>citric acid</th>\n",
       "      <th>residual sugar</th>\n",
       "      <th>chlorides</th>\n",
       "      <th>free sulfur dioxide</th>\n",
       "      <th>total sulfur dioxide</th>\n",
       "      <th>density</th>\n",
       "      <th>pH</th>\n",
       "      <th>sulphates</th>\n",
       "      <th>alcohol</th>\n",
       "    </tr>\n",
       "  </thead>\n",
       "  <tbody>\n",
       "    <tr>\n",
       "      <th>225</th>\n",
       "      <td>7.5</td>\n",
       "      <td>0.65</td>\n",
       "      <td>0.18</td>\n",
       "      <td>7.0</td>\n",
       "      <td>0.088</td>\n",
       "      <td>27.0</td>\n",
       "      <td>94.0</td>\n",
       "      <td>0.99915</td>\n",
       "      <td>3.38</td>\n",
       "      <td>0.77</td>\n",
       "      <td>9.4</td>\n",
       "    </tr>\n",
       "    <tr>\n",
       "      <th>3557</th>\n",
       "      <td>6.3</td>\n",
       "      <td>0.27</td>\n",
       "      <td>0.29</td>\n",
       "      <td>12.2</td>\n",
       "      <td>0.044</td>\n",
       "      <td>59.0</td>\n",
       "      <td>196.0</td>\n",
       "      <td>0.99782</td>\n",
       "      <td>3.14</td>\n",
       "      <td>0.40</td>\n",
       "      <td>8.8</td>\n",
       "    </tr>\n",
       "    <tr>\n",
       "      <th>3825</th>\n",
       "      <td>8.8</td>\n",
       "      <td>0.27</td>\n",
       "      <td>0.25</td>\n",
       "      <td>5.0</td>\n",
       "      <td>0.024</td>\n",
       "      <td>52.0</td>\n",
       "      <td>99.0</td>\n",
       "      <td>0.99250</td>\n",
       "      <td>2.87</td>\n",
       "      <td>0.49</td>\n",
       "      <td>11.4</td>\n",
       "    </tr>\n",
       "    <tr>\n",
       "      <th>1740</th>\n",
       "      <td>6.4</td>\n",
       "      <td>0.45</td>\n",
       "      <td>0.07</td>\n",
       "      <td>1.1</td>\n",
       "      <td>0.030</td>\n",
       "      <td>10.0</td>\n",
       "      <td>131.0</td>\n",
       "      <td>0.99050</td>\n",
       "      <td>2.97</td>\n",
       "      <td>0.28</td>\n",
       "      <td>10.8</td>\n",
       "    </tr>\n",
       "    <tr>\n",
       "      <th>1221</th>\n",
       "      <td>7.2</td>\n",
       "      <td>0.53</td>\n",
       "      <td>0.13</td>\n",
       "      <td>2.0</td>\n",
       "      <td>0.058</td>\n",
       "      <td>18.0</td>\n",
       "      <td>22.0</td>\n",
       "      <td>0.99573</td>\n",
       "      <td>3.21</td>\n",
       "      <td>0.68</td>\n",
       "      <td>9.9</td>\n",
       "    </tr>\n",
       "  </tbody>\n",
       "</table>\n",
       "</div>"
      ],
      "text/plain": [
       "      fixed acidity  volatile acidity  citric acid  residual sugar  chlorides  \\\n",
       "225             7.5              0.65         0.18             7.0      0.088   \n",
       "3557            6.3              0.27         0.29            12.2      0.044   \n",
       "3825            8.8              0.27         0.25             5.0      0.024   \n",
       "1740            6.4              0.45         0.07             1.1      0.030   \n",
       "1221            7.2              0.53         0.13             2.0      0.058   \n",
       "\n",
       "      free sulfur dioxide  total sulfur dioxide  density    pH  sulphates  \\\n",
       "225                  27.0                  94.0  0.99915  3.38       0.77   \n",
       "3557                 59.0                 196.0  0.99782  3.14       0.40   \n",
       "3825                 52.0                  99.0  0.99250  2.87       0.49   \n",
       "1740                 10.0                 131.0  0.99050  2.97       0.28   \n",
       "1221                 18.0                  22.0  0.99573  3.21       0.68   \n",
       "\n",
       "      alcohol  \n",
       "225       9.4  \n",
       "3557      8.8  \n",
       "3825     11.4  \n",
       "1740     10.8  \n",
       "1221      9.9  "
      ]
     },
     "execution_count": 24,
     "metadata": {},
     "output_type": "execute_result"
    }
   ],
   "source": [
    "train.head()"
   ]
  },
  {
   "cell_type": "markdown",
   "metadata": {
    "colab_type": "text",
    "id": "hEdbrruAsN1D"
   },
   "source": [
    "### Normalize the data (TODO)\n",
    "\n",
    "Next, you can normalize the data, x, using the formula:\n",
    "$$x_{norm} = \\frac{x - \\mu}{\\sigma}$$\n",
    "- The `norm` function is defined for you.\n",
    "- Please apply the `norm` function to normalize the dataframes that contains the feature columns of `train`, `val` and `test` sets."
   ]
  },
  {
   "cell_type": "code",
   "execution_count": 25,
   "metadata": {
    "colab": {},
    "colab_type": "code",
    "id": "WWiZPAHCLjUs"
   },
   "outputs": [],
   "source": [
    "def norm(x):\n",
    "    return (x - train_stats['mean']) / train_stats['std']"
   ]
  },
  {
   "cell_type": "code",
   "execution_count": 26,
   "metadata": {
    "colab": {},
    "colab_type": "code",
    "deletable": false,
    "id": "JEaOi2I2Lk69",
    "nbgrader": {
     "cell_type": "code",
     "checksum": "6bc0cdcb563d192f271067aa3373ff32",
     "grade": false,
     "grade_id": "cell-d8416d975c371095",
     "locked": false,
     "schema_version": 3,
     "solution": true,
     "task": false
    }
   },
   "outputs": [],
   "source": [
    "# Please uncomment all lines in this cell and replace those marked with `# YOUR CODE HERE`.\n",
    "# You can select all lines in this code cell with Ctrl+A (Windows/Linux) or Cmd+A (Mac), then press Ctrl+/ (Windows/Linux) or Cmd+/ (Mac) to uncomment.\n",
    "\n",
    "# normalize the train set\n",
    "norm_train_X = norm(train)\n",
    "    \n",
    "# normalize the val set\n",
    "norm_val_X = norm(val)  \n",
    "    \n",
    "# normalize the test set\n",
    "norm_test_X = norm(test)"
   ]
  },
  {
   "cell_type": "code",
   "execution_count": 27,
   "metadata": {
    "deletable": false,
    "editable": false,
    "nbgrader": {
     "cell_type": "code",
     "checksum": "4f567db45bf40191601780379cc100b8",
     "grade": true,
     "grade_id": "cell-97fad979d157529b",
     "locked": true,
     "points": 1,
     "schema_version": 3,
     "solution": false,
     "task": false
    }
   },
   "outputs": [
    {
     "name": "stdout",
     "output_type": "stream",
     "text": [
      "\u001b[92m All public tests passed\n"
     ]
    }
   ],
   "source": [
    "utils.test_norm(norm_train_X, norm_val_X, norm_test_X, train, val, test)\n"
   ]
  },
  {
   "cell_type": "markdown",
   "metadata": {
    "colab_type": "text",
    "id": "hzykDwQhsaPO"
   },
   "source": [
    "## Define the Model (TODO)\n",
    "\n",
    "Define the model using the functional API. The base model will be 2 `Dense` layers of 128 neurons each, and have the `'relu'` activation.\n",
    "- Check out the documentation for [tf.keras.layers.Dense](https://www.tensorflow.org/api_docs/python/tf/keras/layers/Dense)"
   ]
  },
  {
   "cell_type": "code",
   "execution_count": 28,
   "metadata": {
    "colab": {},
    "colab_type": "code",
    "deletable": false,
    "id": "Rhcns3oTFkM6",
    "nbgrader": {
     "cell_type": "code",
     "checksum": "74b031247e569526552bf13a034a1c07",
     "grade": false,
     "grade_id": "cell-73fceedad1fe351c",
     "locked": false,
     "schema_version": 3,
     "solution": true,
     "task": false
    }
   },
   "outputs": [],
   "source": [
    "# Please uncomment all lines in this cell and replace those marked with `# YOUR CODE HERE`.\n",
    "# You can select all lines in this code cell with Ctrl+A (Windows/Linux) or Cmd+A (Mac), then press Ctrl+/ (Windows/Linux) or Cmd+/ (Mac) to uncomment.\n",
    "\n",
    "\n",
    "\n",
    "def base_model(inputs):\n",
    "    \n",
    "    # connect a Dense layer with 128 neurons and a relu activation\n",
    "    x = Dense(units=128, activation=tf.nn.relu)(inputs)\n",
    "    \n",
    "    # connect another Dense layer with 128 neurons and a relu activation\n",
    "    x = Dense(units=128, activation=tf.nn.relu)(x)\n",
    "    return x"
   ]
  },
  {
   "cell_type": "code",
   "execution_count": 29,
   "metadata": {
    "deletable": false,
    "editable": false,
    "nbgrader": {
     "cell_type": "code",
     "checksum": "9255924b3def80f679616e4c851a43e1",
     "grade": true,
     "grade_id": "cell-54f742a133353d75",
     "locked": true,
     "points": 1,
     "schema_version": 3,
     "solution": false,
     "task": false
    }
   },
   "outputs": [
    {
     "name": "stdout",
     "output_type": "stream",
     "text": [
      "\u001b[92m All public tests passed\n"
     ]
    }
   ],
   "source": [
    "utils.test_base_model(base_model)"
   ]
  },
  {
   "cell_type": "markdown",
   "metadata": {
    "colab_type": "text",
    "id": "xem_fcVws6Kz"
   },
   "source": [
    "# Define output layers of the model (TODO)\n",
    "\n",
    "You will add output layers to the base model. \n",
    "- The model will need two outputs.\n",
    "\n",
    "One output layer will predict wine quality, which is a numeric value.\n",
    "- Define a `Dense` layer with 1 neuron.\n",
    "- Since this is a regression output, the activation can be left as its default value `None`.\n",
    "\n",
    "The other output layer will predict the wine type, which is either red `1` or not red `0` (white).\n",
    "- Define a `Dense` layer with 1 neuron.\n",
    "- Since there are two possible categories, you can use a sigmoid activation for binary classification.\n",
    "\n",
    "Define the `Model`\n",
    "- Define the `Model` object, and set the following parameters:\n",
    "  - `inputs`: pass in the inputs to the model as a list.\n",
    "  - `outputs`: pass in a list of the outputs that you just defined: wine quality, then wine type.\n",
    "  - **Note**: please list the wine quality before wine type in the outputs, as this will affect the calculated loss if you choose the other order."
   ]
  },
  {
   "cell_type": "code",
   "execution_count": 34,
   "metadata": {
    "colab": {},
    "colab_type": "code",
    "deletable": false,
    "id": "n5UGF8PMVLPt",
    "nbgrader": {
     "cell_type": "code",
     "checksum": "76d35b90d20cdcbb22986cd8211057de",
     "grade": false,
     "grade_id": "cell-19e285f482f021fb",
     "locked": false,
     "schema_version": 3,
     "solution": true,
     "task": false
    }
   },
   "outputs": [],
   "source": [
    "# Please uncomment all lines in this cell and replace those marked with `# YOUR CODE HERE`.\n",
    "# You can select all lines in this code cell with Ctrl+A (Windows/Linux) or Cmd+A (Mac), then press Ctrl+/ (Windows/Linux) or Cmd+/ (Mac) to uncomment.\n",
    "\n",
    "def final_model(inputs):\n",
    "    \n",
    "    # get the base model\n",
    "    x = base_model(inputs)\n",
    "\n",
    "    # connect the output Dense layer for regression\n",
    "    wine_quality = Dense(units='1', name='wine_quality')(x)\n",
    "\n",
    "    # connect the output Dense layer for classification. this will use a sigmoid activation.\n",
    "    wine_type = Dense(units='1', activation='sigmoid', name='wine_type')(x)\n",
    "\n",
    "    # define the model using the input and output layers\n",
    "    model = Model(inputs=inputs, outputs=[wine_quality, wine_type])\n",
    "\n",
    "    return model"
   ]
  },
  {
   "cell_type": "code",
   "execution_count": 35,
   "metadata": {
    "deletable": false,
    "editable": false,
    "nbgrader": {
     "cell_type": "code",
     "checksum": "89cbf89d8ab5e2e59ecf7f63f517520a",
     "grade": true,
     "grade_id": "cell-40d050f855c817d1",
     "locked": true,
     "points": 1,
     "schema_version": 3,
     "solution": false,
     "task": false
    }
   },
   "outputs": [
    {
     "name": "stdout",
     "output_type": "stream",
     "text": [
      "\u001b[92m All public tests passed\n"
     ]
    }
   ],
   "source": [
    "utils.test_final_model(final_model)"
   ]
  },
  {
   "cell_type": "markdown",
   "metadata": {
    "colab_type": "text",
    "id": "5R0BMTsltZyu"
   },
   "source": [
    "## Compiling the Model\n",
    "\n",
    "Next, compile the model. When setting the loss parameter of `model.compile`, you're setting the loss for each of the two outputs (wine quality and wine type).\n",
    "\n",
    "To set more than one loss, use a dictionary of key-value pairs.\n",
    "- You can look at the docs for the losses [here](https://www.tensorflow.org/api_docs/python/tf/keras/losses#functions).\n",
    "    - **Note**: For the desired spelling, please look at the \"Functions\" section of the documentation and not the \"classes\" section on that same page.\n",
    "- wine_type: Since you will be performing binary classification on wine type, you should use the binary crossentropy loss function for it.  Please pass this in as a string.  \n",
    "  - **Hint**, this should be all lowercase.  In the documentation, you'll see this under the \"Functions\" section, not the \"Classes\" section.\n",
    "- wine_quality: since this is a regression output, use the mean squared error.  Please pass it in as a string, all lowercase.\n",
    "  - **Hint**: You may notice that there are two aliases for mean squared error.  Please use the shorter name.\n",
    "\n",
    "\n",
    "You will also set the metric for each of the two outputs.  Again, to set metrics for two or more outputs, use a dictionary with key value pairs.\n",
    "- The metrics documentation is linked [here](https://www.tensorflow.org/api_docs/python/tf/keras/metrics).\n",
    "- For the wine type, please set it to accuracy as a string, all lowercase.\n",
    "- For wine quality, please use the root mean squared error.  Instead of a string, you'll set it to an instance of the class [RootMeanSquaredError](https://www.tensorflow.org/api_docs/python/tf/keras/metrics/RootMeanSquaredError), which belongs to the tf.keras.metrics module.\n",
    "\n",
    "**Note**: If you see the error message \n",
    ">Exception: wine quality loss function is incorrect.\n",
    "\n",
    "- Please also check your other losses and metrics, as the error may be caused by the other three key-value pairs and not the wine quality loss."
   ]
  },
  {
   "cell_type": "code",
   "execution_count": 37,
   "metadata": {
    "colab": {},
    "colab_type": "code",
    "deletable": false,
    "id": "LK11duUbUjmh",
    "nbgrader": {
     "cell_type": "code",
     "checksum": "22f45067ca69eb2ccadb43874dbcc27b",
     "grade": false,
     "grade_id": "cell-81afdc4dcca51d5e",
     "locked": false,
     "schema_version": 3,
     "solution": true,
     "task": false
    }
   },
   "outputs": [],
   "source": [
    "# Please uncomment all lines in this cell and replace those marked with `# YOUR CODE HERE`.\n",
    "# You can select all lines in this code cell with Ctrl+A (Windows/Linux) or Cmd+A (Mac), then press Ctrl+/ (Windows/Linux) or Cmd+/ (Mac) to uncomment.\n",
    "\n",
    "inputs = tf.keras.layers.Input(shape=(11,))\n",
    "rms = tf.keras.optimizers.RMSprop(lr=0.0001)\n",
    "model = final_model(inputs)\n",
    "\n",
    "model.compile(optimizer=rms, \n",
    "              loss = {'wine_type' : 'binary_crossentropy',\n",
    "                      'wine_quality' : 'mean_squared_error'},\n",
    "              metrics = {'wine_type' : 'accuracy',\n",
    "                         'wine_quality': tf.keras.metrics.RootMeanSquaredError()})"
   ]
  },
  {
   "cell_type": "code",
   "execution_count": 38,
   "metadata": {
    "deletable": false,
    "editable": false,
    "nbgrader": {
     "cell_type": "code",
     "checksum": "88e02238ea5e456ff65e835cc8158054",
     "grade": true,
     "grade_id": "cell-2eeeba02391c4632",
     "locked": true,
     "points": 1,
     "schema_version": 3,
     "solution": false,
     "task": false
    }
   },
   "outputs": [
    {
     "name": "stdout",
     "output_type": "stream",
     "text": [
      "\u001b[92m All public tests passed\n"
     ]
    }
   ],
   "source": [
    "utils.test_model_compile(model)"
   ]
  },
  {
   "cell_type": "markdown",
   "metadata": {
    "colab_type": "text",
    "id": "90MpAMpWuKm-"
   },
   "source": [
    "## Training the Model\n",
    "\n",
    "Fit the model to the training inputs and outputs. \n",
    "- Check the documentation for [model.fit](https://www.tensorflow.org/api_docs/python/tf/keras/Model#fit).\n",
    "- Remember to use the normalized training set as inputs. \n",
    "- For the validation data, please use the normalized validation set."
   ]
  },
  {
   "cell_type": "code",
   "execution_count": 39,
   "metadata": {
    "colab": {},
    "colab_type": "code",
    "deletable": false,
    "id": "_eiZkle4XwiY",
    "nbgrader": {
     "cell_type": "code",
     "checksum": "2ca7664be03bfd6fd3651ae44d17b793",
     "grade": false,
     "grade_id": "cell-0bb56262896f6680",
     "locked": false,
     "schema_version": 3,
     "solution": true,
     "task": false
    }
   },
   "outputs": [
    {
     "name": "stdout",
     "output_type": "stream",
     "text": [
      "Train on 3155 samples, validate on 789 samples\n",
      "Epoch 1/180\n",
      "3155/3155 [==============================] - 1s 367us/sample - loss: 26.5006 - wine_quality_loss: 25.8130 - wine_type_loss: 0.6619 - wine_quality_root_mean_squared_error: 5.0832 - wine_type_accuracy: 0.6456 - val_loss: 19.0347 - val_wine_quality_loss: 18.4193 - val_wine_type_loss: 0.6310 - val_wine_quality_root_mean_squared_error: 4.2899 - val_wine_type_accuracy: 0.7541\n",
      "Epoch 2/180\n",
      "3155/3155 [==============================] - 0s 117us/sample - loss: 12.5440 - wine_quality_loss: 11.9447 - wine_type_loss: 0.5928 - wine_quality_root_mean_squared_error: 3.4570 - wine_type_accuracy: 0.7832 - val_loss: 7.5086 - val_wine_quality_loss: 6.9977 - val_wine_type_loss: 0.5513 - val_wine_quality_root_mean_squared_error: 2.6376 - val_wine_type_accuracy: 0.7579\n",
      "Epoch 3/180\n",
      "3155/3155 [==============================] - 0s 97us/sample - loss: 4.7181 - wine_quality_loss: 4.2156 - wine_type_loss: 0.5019 - wine_quality_root_mean_squared_error: 2.0534 - wine_type_accuracy: 0.7591 - val_loss: 3.2146 - val_wine_quality_loss: 2.8072 - val_wine_type_loss: 0.4511 - val_wine_quality_root_mean_squared_error: 1.6621 - val_wine_type_accuracy: 0.7541\n",
      "Epoch 4/180\n",
      "3155/3155 [==============================] - 0s 97us/sample - loss: 2.8256 - wine_quality_loss: 2.4311 - wine_type_loss: 0.3953 - wine_quality_root_mean_squared_error: 1.5589 - wine_type_accuracy: 0.8155 - val_loss: 2.4798 - val_wine_quality_loss: 2.1609 - val_wine_type_loss: 0.3475 - val_wine_quality_root_mean_squared_error: 1.4600 - val_wine_type_accuracy: 0.8897\n",
      "Epoch 5/180\n",
      "3155/3155 [==============================] - 0s 98us/sample - loss: 2.3072 - wine_quality_loss: 1.9998 - wine_type_loss: 0.3033 - wine_quality_root_mean_squared_error: 1.4154 - wine_type_accuracy: 0.9325 - val_loss: 2.1201 - val_wine_quality_loss: 1.8686 - val_wine_type_loss: 0.2693 - val_wine_quality_root_mean_squared_error: 1.3602 - val_wine_type_accuracy: 0.9620\n",
      "Epoch 6/180\n",
      "3155/3155 [==============================] - 0s 95us/sample - loss: 1.9913 - wine_quality_loss: 1.7486 - wine_type_loss: 0.2376 - wine_quality_root_mean_squared_error: 1.3242 - wine_type_accuracy: 0.9677 - val_loss: 1.8503 - val_wine_quality_loss: 1.6492 - val_wine_type_loss: 0.2135 - val_wine_quality_root_mean_squared_error: 1.2792 - val_wine_type_accuracy: 0.9797\n",
      "Epoch 7/180\n",
      "3155/3155 [==============================] - 0s 98us/sample - loss: 1.7678 - wine_quality_loss: 1.5758 - wine_type_loss: 0.1895 - wine_quality_root_mean_squared_error: 1.2562 - wine_type_accuracy: 0.9797 - val_loss: 1.6586 - val_wine_quality_loss: 1.4962 - val_wine_type_loss: 0.1700 - val_wine_quality_root_mean_squared_error: 1.2199 - val_wine_type_accuracy: 0.9810\n",
      "Epoch 8/180\n",
      "3155/3155 [==============================] - 0s 95us/sample - loss: 1.5936 - wine_quality_loss: 1.4389 - wine_type_loss: 0.1537 - wine_quality_root_mean_squared_error: 1.2000 - wine_type_accuracy: 0.9819 - val_loss: 1.5059 - val_wine_quality_loss: 1.3710 - val_wine_type_loss: 0.1393 - val_wine_quality_root_mean_squared_error: 1.1689 - val_wine_type_accuracy: 0.9835\n",
      "Epoch 9/180\n",
      "3155/3155 [==============================] - 0s 111us/sample - loss: 1.4595 - wine_quality_loss: 1.3295 - wine_type_loss: 0.1269 - wine_quality_root_mean_squared_error: 1.1543 - wine_type_accuracy: 0.9851 - val_loss: 1.3843 - val_wine_quality_loss: 1.2710 - val_wine_type_loss: 0.1162 - val_wine_quality_root_mean_squared_error: 1.1260 - val_wine_type_accuracy: 0.9848\n",
      "Epoch 10/180\n",
      "3155/3155 [==============================] - 0s 96us/sample - loss: 1.3513 - wine_quality_loss: 1.2428 - wine_type_loss: 0.1083 - wine_quality_root_mean_squared_error: 1.1149 - wine_type_accuracy: 0.9864 - val_loss: 1.2777 - val_wine_quality_loss: 1.1795 - val_wine_type_loss: 0.0999 - val_wine_quality_root_mean_squared_error: 1.0851 - val_wine_type_accuracy: 0.9861\n",
      "Epoch 11/180\n",
      "3155/3155 [==============================] - 0s 96us/sample - loss: 1.2607 - wine_quality_loss: 1.1658 - wine_type_loss: 0.0944 - wine_quality_root_mean_squared_error: 1.0799 - wine_type_accuracy: 0.9861 - val_loss: 1.1943 - val_wine_quality_loss: 1.1071 - val_wine_type_loss: 0.0876 - val_wine_quality_root_mean_squared_error: 1.0518 - val_wine_type_accuracy: 0.9873\n",
      "Epoch 12/180\n",
      "3155/3155 [==============================] - 0s 95us/sample - loss: 1.1824 - wine_quality_loss: 1.0982 - wine_type_loss: 0.0839 - wine_quality_root_mean_squared_error: 1.0481 - wine_type_accuracy: 0.9876 - val_loss: 1.1103 - val_wine_quality_loss: 1.0316 - val_wine_type_loss: 0.0785 - val_wine_quality_root_mean_squared_error: 1.0156 - val_wine_type_accuracy: 0.9873\n",
      "Epoch 13/180\n",
      "3155/3155 [==============================] - 0s 92us/sample - loss: 1.1059 - wine_quality_loss: 1.0309 - wine_type_loss: 0.0757 - wine_quality_root_mean_squared_error: 1.0150 - wine_type_accuracy: 0.9880 - val_loss: 1.0379 - val_wine_quality_loss: 0.9667 - val_wine_type_loss: 0.0707 - val_wine_quality_root_mean_squared_error: 0.9833 - val_wine_type_accuracy: 0.9886\n",
      "Epoch 14/180\n",
      "3155/3155 [==============================] - 0s 80us/sample - loss: 1.0359 - wine_quality_loss: 0.9656 - wine_type_loss: 0.0688 - wine_quality_root_mean_squared_error: 0.9833 - wine_type_accuracy: 0.9883 - val_loss: 0.9735 - val_wine_quality_loss: 0.9078 - val_wine_type_loss: 0.0649 - val_wine_quality_root_mean_squared_error: 0.9531 - val_wine_type_accuracy: 0.9886\n",
      "Epoch 15/180\n",
      "3155/3155 [==============================] - 0s 93us/sample - loss: 0.9778 - wine_quality_loss: 0.9127 - wine_type_loss: 0.0639 - wine_quality_root_mean_squared_error: 0.9560 - wine_type_accuracy: 0.9886 - val_loss: 0.9299 - val_wine_quality_loss: 0.8679 - val_wine_type_loss: 0.0599 - val_wine_quality_root_mean_squared_error: 0.9325 - val_wine_type_accuracy: 0.9886\n",
      "Epoch 16/180\n",
      "3155/3155 [==============================] - 0s 95us/sample - loss: 0.9220 - wine_quality_loss: 0.8640 - wine_type_loss: 0.0595 - wine_quality_root_mean_squared_error: 0.9287 - wine_type_accuracy: 0.9892 - val_loss: 0.8618 - val_wine_quality_loss: 0.8043 - val_wine_type_loss: 0.0561 - val_wine_quality_root_mean_squared_error: 0.8974 - val_wine_type_accuracy: 0.9886\n",
      "Epoch 17/180\n",
      "3155/3155 [==============================] - 0s 95us/sample - loss: 0.8688 - wine_quality_loss: 0.8125 - wine_type_loss: 0.0563 - wine_quality_root_mean_squared_error: 0.9016 - wine_type_accuracy: 0.9889 - val_loss: 0.8176 - val_wine_quality_loss: 0.7629 - val_wine_type_loss: 0.0526 - val_wine_quality_root_mean_squared_error: 0.8744 - val_wine_type_accuracy: 0.9886\n",
      "Epoch 18/180\n",
      "3155/3155 [==============================] - 0s 92us/sample - loss: 0.8223 - wine_quality_loss: 0.7686 - wine_type_loss: 0.0530 - wine_quality_root_mean_squared_error: 0.8770 - wine_type_accuracy: 0.9899 - val_loss: 0.7739 - val_wine_quality_loss: 0.7217 - val_wine_type_loss: 0.0502 - val_wine_quality_root_mean_squared_error: 0.8505 - val_wine_type_accuracy: 0.9886\n",
      "Epoch 19/180\n",
      "3155/3155 [==============================] - 0s 91us/sample - loss: 0.7773 - wine_quality_loss: 0.7261 - wine_type_loss: 0.0505 - wine_quality_root_mean_squared_error: 0.8525 - wine_type_accuracy: 0.9892 - val_loss: 0.7208 - val_wine_quality_loss: 0.6712 - val_wine_type_loss: 0.0480 - val_wine_quality_root_mean_squared_error: 0.8200 - val_wine_type_accuracy: 0.9886\n",
      "Epoch 20/180\n",
      "3155/3155 [==============================] - 0s 91us/sample - loss: 0.7381 - wine_quality_loss: 0.6915 - wine_type_loss: 0.0489 - wine_quality_root_mean_squared_error: 0.8304 - wine_type_accuracy: 0.9895 - val_loss: 0.7017 - val_wine_quality_loss: 0.6535 - val_wine_type_loss: 0.0461 - val_wine_quality_root_mean_squared_error: 0.8095 - val_wine_type_accuracy: 0.9886\n",
      "Epoch 21/180\n",
      "3155/3155 [==============================] - 0s 89us/sample - loss: 0.7003 - wine_quality_loss: 0.6536 - wine_type_loss: 0.0467 - wine_quality_root_mean_squared_error: 0.8084 - wine_type_accuracy: 0.9899 - val_loss: 0.6517 - val_wine_quality_loss: 0.6054 - val_wine_type_loss: 0.0442 - val_wine_quality_root_mean_squared_error: 0.7792 - val_wine_type_accuracy: 0.9911\n",
      "Epoch 22/180\n",
      "3155/3155 [==============================] - 0s 77us/sample - loss: 0.6659 - wine_quality_loss: 0.6208 - wine_type_loss: 0.0450 - wine_quality_root_mean_squared_error: 0.7879 - wine_type_accuracy: 0.9899 - val_loss: 0.6287 - val_wine_quality_loss: 0.5835 - val_wine_type_loss: 0.0428 - val_wine_quality_root_mean_squared_error: 0.7652 - val_wine_type_accuracy: 0.9911\n",
      "Epoch 23/180\n",
      "3155/3155 [==============================] - 0s 90us/sample - loss: 0.6329 - wine_quality_loss: 0.5897 - wine_type_loss: 0.0437 - wine_quality_root_mean_squared_error: 0.7676 - wine_type_accuracy: 0.9902 - val_loss: 0.5912 - val_wine_quality_loss: 0.5476 - val_wine_type_loss: 0.0417 - val_wine_quality_root_mean_squared_error: 0.7410 - val_wine_type_accuracy: 0.9899\n",
      "Epoch 24/180\n",
      "3155/3155 [==============================] - 0s 90us/sample - loss: 0.6014 - wine_quality_loss: 0.5588 - wine_type_loss: 0.0424 - wine_quality_root_mean_squared_error: 0.7476 - wine_type_accuracy: 0.9902 - val_loss: 0.5704 - val_wine_quality_loss: 0.5280 - val_wine_type_loss: 0.0404 - val_wine_quality_root_mean_squared_error: 0.7278 - val_wine_type_accuracy: 0.9899\n",
      "Epoch 25/180\n",
      "3155/3155 [==============================] - 0s 74us/sample - loss: 0.5748 - wine_quality_loss: 0.5326 - wine_type_loss: 0.0411 - wine_quality_root_mean_squared_error: 0.7305 - wine_type_accuracy: 0.9908 - val_loss: 0.5346 - val_wine_quality_loss: 0.4930 - val_wine_type_loss: 0.0396 - val_wine_quality_root_mean_squared_error: 0.7033 - val_wine_type_accuracy: 0.9899\n",
      "Epoch 26/180\n",
      "3155/3155 [==============================] - 0s 90us/sample - loss: 0.5497 - wine_quality_loss: 0.5105 - wine_type_loss: 0.0402 - wine_quality_root_mean_squared_error: 0.7137 - wine_type_accuracy: 0.9914 - val_loss: 0.5163 - val_wine_quality_loss: 0.4755 - val_wine_type_loss: 0.0388 - val_wine_quality_root_mean_squared_error: 0.6908 - val_wine_type_accuracy: 0.9911\n",
      "Epoch 27/180\n",
      "3155/3155 [==============================] - 0s 90us/sample - loss: 0.5278 - wine_quality_loss: 0.4881 - wine_type_loss: 0.0394 - wine_quality_root_mean_squared_error: 0.6988 - wine_type_accuracy: 0.9918 - val_loss: 0.4974 - val_wine_quality_loss: 0.4574 - val_wine_type_loss: 0.0380 - val_wine_quality_root_mean_squared_error: 0.6775 - val_wine_type_accuracy: 0.9911\n",
      "Epoch 28/180\n",
      "3155/3155 [==============================] - 0s 89us/sample - loss: 0.5077 - wine_quality_loss: 0.4691 - wine_type_loss: 0.0386 - wine_quality_root_mean_squared_error: 0.6848 - wine_type_accuracy: 0.9914 - val_loss: 0.4818 - val_wine_quality_loss: 0.4429 - val_wine_type_loss: 0.0373 - val_wine_quality_root_mean_squared_error: 0.6664 - val_wine_type_accuracy: 0.9911\n",
      "Epoch 29/180\n",
      "3155/3155 [==============================] - 0s 78us/sample - loss: 0.4888 - wine_quality_loss: 0.4506 - wine_type_loss: 0.0379 - wine_quality_root_mean_squared_error: 0.6714 - wine_type_accuracy: 0.9918 - val_loss: 0.4659 - val_wine_quality_loss: 0.4273 - val_wine_type_loss: 0.0368 - val_wine_quality_root_mean_squared_error: 0.6547 - val_wine_type_accuracy: 0.9924\n",
      "Epoch 30/180\n",
      "3155/3155 [==============================] - 0s 90us/sample - loss: 0.4726 - wine_quality_loss: 0.4352 - wine_type_loss: 0.0372 - wine_quality_root_mean_squared_error: 0.6598 - wine_type_accuracy: 0.9914 - val_loss: 0.4444 - val_wine_quality_loss: 0.4064 - val_wine_type_loss: 0.0361 - val_wine_quality_root_mean_squared_error: 0.6387 - val_wine_type_accuracy: 0.9924\n",
      "Epoch 31/180\n",
      "3155/3155 [==============================] - 0s 88us/sample - loss: 0.4573 - wine_quality_loss: 0.4213 - wine_type_loss: 0.0367 - wine_quality_root_mean_squared_error: 0.6485 - wine_type_accuracy: 0.9914 - val_loss: 0.4352 - val_wine_quality_loss: 0.3979 - val_wine_type_loss: 0.0355 - val_wine_quality_root_mean_squared_error: 0.6319 - val_wine_type_accuracy: 0.9924\n",
      "Epoch 32/180\n",
      "3155/3155 [==============================] - 0s 75us/sample - loss: 0.4459 - wine_quality_loss: 0.4100 - wine_type_loss: 0.0362 - wine_quality_root_mean_squared_error: 0.6402 - wine_type_accuracy: 0.9914 - val_loss: 0.4222 - val_wine_quality_loss: 0.3851 - val_wine_type_loss: 0.0351 - val_wine_quality_root_mean_squared_error: 0.6219 - val_wine_type_accuracy: 0.9924\n",
      "Epoch 33/180\n",
      "3155/3155 [==============================] - 0s 91us/sample - loss: 0.4338 - wine_quality_loss: 0.3982 - wine_type_loss: 0.0356 - wine_quality_root_mean_squared_error: 0.6310 - wine_type_accuracy: 0.9924 - val_loss: 0.4157 - val_wine_quality_loss: 0.3789 - val_wine_type_loss: 0.0349 - val_wine_quality_root_mean_squared_error: 0.6168 - val_wine_type_accuracy: 0.9924\n",
      "Epoch 34/180\n",
      "3155/3155 [==============================] - 0s 91us/sample - loss: 0.4235 - wine_quality_loss: 0.3888 - wine_type_loss: 0.0351 - wine_quality_root_mean_squared_error: 0.6231 - wine_type_accuracy: 0.9918 - val_loss: 0.4110 - val_wine_quality_loss: 0.3745 - val_wine_type_loss: 0.0345 - val_wine_quality_root_mean_squared_error: 0.6133 - val_wine_type_accuracy: 0.9924\n",
      "Epoch 35/180\n",
      "3155/3155 [==============================] - 0s 73us/sample - loss: 0.4149 - wine_quality_loss: 0.3799 - wine_type_loss: 0.0346 - wine_quality_root_mean_squared_error: 0.6166 - wine_type_accuracy: 0.9921 - val_loss: 0.3982 - val_wine_quality_loss: 0.3623 - val_wine_type_loss: 0.0341 - val_wine_quality_root_mean_squared_error: 0.6031 - val_wine_type_accuracy: 0.9924\n",
      "Epoch 36/180\n",
      "3155/3155 [==============================] - 0s 92us/sample - loss: 0.4052 - wine_quality_loss: 0.3704 - wine_type_loss: 0.0359 - wine_quality_root_mean_squared_error: 0.6091 - wine_type_accuracy: 0.9924 - val_loss: 0.3910 - val_wine_quality_loss: 0.3555 - val_wine_type_loss: 0.0337 - val_wine_quality_root_mean_squared_error: 0.5974 - val_wine_type_accuracy: 0.9924\n",
      "Epoch 37/180\n",
      "3155/3155 [==============================] - 0s 93us/sample - loss: 0.3966 - wine_quality_loss: 0.3635 - wine_type_loss: 0.0337 - wine_quality_root_mean_squared_error: 0.6024 - wine_type_accuracy: 0.9927 - val_loss: 0.3842 - val_wine_quality_loss: 0.3490 - val_wine_type_loss: 0.0334 - val_wine_quality_root_mean_squared_error: 0.5920 - val_wine_type_accuracy: 0.9937\n",
      "Epoch 38/180\n",
      "3155/3155 [==============================] - 0s 89us/sample - loss: 0.3897 - wine_quality_loss: 0.3561 - wine_type_loss: 0.0333 - wine_quality_root_mean_squared_error: 0.5969 - wine_type_accuracy: 0.9930 - val_loss: 0.3775 - val_wine_quality_loss: 0.3428 - val_wine_type_loss: 0.0331 - val_wine_quality_root_mean_squared_error: 0.5865 - val_wine_type_accuracy: 0.9937\n",
      "Epoch 39/180\n",
      "3155/3155 [==============================] - 0s 91us/sample - loss: 0.3844 - wine_quality_loss: 0.3520 - wine_type_loss: 0.0329 - wine_quality_root_mean_squared_error: 0.5928 - wine_type_accuracy: 0.9924 - val_loss: 0.3729 - val_wine_quality_loss: 0.3384 - val_wine_type_loss: 0.0328 - val_wine_quality_root_mean_squared_error: 0.5828 - val_wine_type_accuracy: 0.9937\n",
      "Epoch 40/180\n",
      "3155/3155 [==============================] - 0s 76us/sample - loss: 0.3795 - wine_quality_loss: 0.3471 - wine_type_loss: 0.0325 - wine_quality_root_mean_squared_error: 0.5889 - wine_type_accuracy: 0.9924 - val_loss: 0.3728 - val_wine_quality_loss: 0.3383 - val_wine_type_loss: 0.0326 - val_wine_quality_root_mean_squared_error: 0.5830 - val_wine_type_accuracy: 0.9949\n",
      "Epoch 41/180\n",
      "3155/3155 [==============================] - 0s 91us/sample - loss: 0.3744 - wine_quality_loss: 0.3416 - wine_type_loss: 0.0323 - wine_quality_root_mean_squared_error: 0.5849 - wine_type_accuracy: 0.9924 - val_loss: 0.3719 - val_wine_quality_loss: 0.3376 - val_wine_type_loss: 0.0324 - val_wine_quality_root_mean_squared_error: 0.5824 - val_wine_type_accuracy: 0.9949\n",
      "Epoch 42/180\n",
      "3155/3155 [==============================] - 0s 89us/sample - loss: 0.3699 - wine_quality_loss: 0.3378 - wine_type_loss: 0.0318 - wine_quality_root_mean_squared_error: 0.5814 - wine_type_accuracy: 0.9930 - val_loss: 0.3658 - val_wine_quality_loss: 0.3320 - val_wine_type_loss: 0.0323 - val_wine_quality_root_mean_squared_error: 0.5772 - val_wine_type_accuracy: 0.9937\n",
      "Epoch 43/180\n",
      "3155/3155 [==============================] - 0s 91us/sample - loss: 0.3656 - wine_quality_loss: 0.3338 - wine_type_loss: 0.0316 - wine_quality_root_mean_squared_error: 0.5778 - wine_type_accuracy: 0.9927 - val_loss: 0.3629 - val_wine_quality_loss: 0.3296 - val_wine_type_loss: 0.0322 - val_wine_quality_root_mean_squared_error: 0.5748 - val_wine_type_accuracy: 0.9937\n",
      "Epoch 44/180\n",
      "3155/3155 [==============================] - 0s 77us/sample - loss: 0.3630 - wine_quality_loss: 0.3314 - wine_type_loss: 0.0313 - wine_quality_root_mean_squared_error: 0.5759 - wine_type_accuracy: 0.9927 - val_loss: 0.3638 - val_wine_quality_loss: 0.3300 - val_wine_type_loss: 0.0320 - val_wine_quality_root_mean_squared_error: 0.5757 - val_wine_type_accuracy: 0.9937\n",
      "Epoch 45/180\n",
      "3155/3155 [==============================] - 0s 92us/sample - loss: 0.3587 - wine_quality_loss: 0.3275 - wine_type_loss: 0.0310 - wine_quality_root_mean_squared_error: 0.5723 - wine_type_accuracy: 0.9924 - val_loss: 0.3575 - val_wine_quality_loss: 0.3239 - val_wine_type_loss: 0.0318 - val_wine_quality_root_mean_squared_error: 0.5704 - val_wine_type_accuracy: 0.9937\n",
      "Epoch 46/180\n",
      "3155/3155 [==============================] - 0s 91us/sample - loss: 0.3555 - wine_quality_loss: 0.3252 - wine_type_loss: 0.0307 - wine_quality_root_mean_squared_error: 0.5698 - wine_type_accuracy: 0.9930 - val_loss: 0.3550 - val_wine_quality_loss: 0.3218 - val_wine_type_loss: 0.0315 - val_wine_quality_root_mean_squared_error: 0.5684 - val_wine_type_accuracy: 0.9937\n",
      "Epoch 47/180\n",
      "3155/3155 [==============================] - 0s 92us/sample - loss: 0.3533 - wine_quality_loss: 0.3220 - wine_type_loss: 0.0309 - wine_quality_root_mean_squared_error: 0.5681 - wine_type_accuracy: 0.9927 - val_loss: 0.3484 - val_wine_quality_loss: 0.3157 - val_wine_type_loss: 0.0314 - val_wine_quality_root_mean_squared_error: 0.5627 - val_wine_type_accuracy: 0.9937\n",
      "Epoch 48/180\n",
      "3155/3155 [==============================] - 0s 90us/sample - loss: 0.3493 - wine_quality_loss: 0.3190 - wine_type_loss: 0.0302 - wine_quality_root_mean_squared_error: 0.5649 - wine_type_accuracy: 0.9933 - val_loss: 0.3572 - val_wine_quality_loss: 0.3246 - val_wine_type_loss: 0.0312 - val_wine_quality_root_mean_squared_error: 0.5707 - val_wine_type_accuracy: 0.9937\n",
      "Epoch 49/180\n",
      "3155/3155 [==============================] - 0s 74us/sample - loss: 0.3480 - wine_quality_loss: 0.3175 - wine_type_loss: 0.0299 - wine_quality_root_mean_squared_error: 0.5639 - wine_type_accuracy: 0.9933 - val_loss: 0.3506 - val_wine_quality_loss: 0.3183 - val_wine_type_loss: 0.0310 - val_wine_quality_root_mean_squared_error: 0.5650 - val_wine_type_accuracy: 0.9937\n",
      "Epoch 50/180\n",
      "3155/3155 [==============================] - 0s 89us/sample - loss: 0.3460 - wine_quality_loss: 0.3167 - wine_type_loss: 0.0302 - wine_quality_root_mean_squared_error: 0.5624 - wine_type_accuracy: 0.9940 - val_loss: 0.3515 - val_wine_quality_loss: 0.3189 - val_wine_type_loss: 0.0310 - val_wine_quality_root_mean_squared_error: 0.5658 - val_wine_type_accuracy: 0.9937\n",
      "Epoch 51/180\n",
      "3155/3155 [==============================] - 0s 74us/sample - loss: 0.3435 - wine_quality_loss: 0.3139 - wine_type_loss: 0.0294 - wine_quality_root_mean_squared_error: 0.5603 - wine_type_accuracy: 0.9943 - val_loss: 0.3482 - val_wine_quality_loss: 0.3160 - val_wine_type_loss: 0.0308 - val_wine_quality_root_mean_squared_error: 0.5631 - val_wine_type_accuracy: 0.9937\n",
      "Epoch 52/180\n",
      "3155/3155 [==============================] - 0s 90us/sample - loss: 0.3424 - wine_quality_loss: 0.3123 - wine_type_loss: 0.0292 - wine_quality_root_mean_squared_error: 0.5595 - wine_type_accuracy: 0.9940 - val_loss: 0.3474 - val_wine_quality_loss: 0.3154 - val_wine_type_loss: 0.0307 - val_wine_quality_root_mean_squared_error: 0.5625 - val_wine_type_accuracy: 0.9937\n",
      "Epoch 53/180\n",
      "3155/3155 [==============================] - 0s 91us/sample - loss: 0.3393 - wine_quality_loss: 0.3096 - wine_type_loss: 0.0290 - wine_quality_root_mean_squared_error: 0.5570 - wine_type_accuracy: 0.9933 - val_loss: 0.3497 - val_wine_quality_loss: 0.3178 - val_wine_type_loss: 0.0306 - val_wine_quality_root_mean_squared_error: 0.5646 - val_wine_type_accuracy: 0.9937\n",
      "Epoch 54/180\n",
      "3155/3155 [==============================] - 0s 90us/sample - loss: 0.3391 - wine_quality_loss: 0.3101 - wine_type_loss: 0.0287 - wine_quality_root_mean_squared_error: 0.5570 - wine_type_accuracy: 0.9940 - val_loss: 0.3459 - val_wine_quality_loss: 0.3140 - val_wine_type_loss: 0.0304 - val_wine_quality_root_mean_squared_error: 0.5614 - val_wine_type_accuracy: 0.9937\n",
      "Epoch 55/180\n",
      "3155/3155 [==============================] - 0s 75us/sample - loss: 0.3374 - wine_quality_loss: 0.3092 - wine_type_loss: 0.0285 - wine_quality_root_mean_squared_error: 0.5557 - wine_type_accuracy: 0.9943 - val_loss: 0.3431 - val_wine_quality_loss: 0.3117 - val_wine_type_loss: 0.0304 - val_wine_quality_root_mean_squared_error: 0.5589 - val_wine_type_accuracy: 0.9937\n",
      "Epoch 56/180\n",
      "3155/3155 [==============================] - 0s 90us/sample - loss: 0.3361 - wine_quality_loss: 0.3077 - wine_type_loss: 0.0284 - wine_quality_root_mean_squared_error: 0.5547 - wine_type_accuracy: 0.9943 - val_loss: 0.3436 - val_wine_quality_loss: 0.3122 - val_wine_type_loss: 0.0303 - val_wine_quality_root_mean_squared_error: 0.5594 - val_wine_type_accuracy: 0.9937\n",
      "Epoch 57/180\n",
      "3155/3155 [==============================] - 0s 92us/sample - loss: 0.3342 - wine_quality_loss: 0.3057 - wine_type_loss: 0.0282 - wine_quality_root_mean_squared_error: 0.5531 - wine_type_accuracy: 0.9940 - val_loss: 0.3409 - val_wine_quality_loss: 0.3094 - val_wine_type_loss: 0.0302 - val_wine_quality_root_mean_squared_error: 0.5571 - val_wine_type_accuracy: 0.9937\n",
      "Epoch 58/180\n",
      "3155/3155 [==============================] - 0s 90us/sample - loss: 0.3325 - wine_quality_loss: 0.3047 - wine_type_loss: 0.0280 - wine_quality_root_mean_squared_error: 0.5518 - wine_type_accuracy: 0.9946 - val_loss: 0.3560 - val_wine_quality_loss: 0.3246 - val_wine_type_loss: 0.0302 - val_wine_quality_root_mean_squared_error: 0.5705 - val_wine_type_accuracy: 0.9937\n",
      "Epoch 59/180\n",
      "3155/3155 [==============================] - 0s 76us/sample - loss: 0.3321 - wine_quality_loss: 0.3043 - wine_type_loss: 0.0279 - wine_quality_root_mean_squared_error: 0.5516 - wine_type_accuracy: 0.9943 - val_loss: 0.3484 - val_wine_quality_loss: 0.3171 - val_wine_type_loss: 0.0299 - val_wine_quality_root_mean_squared_error: 0.5640 - val_wine_type_accuracy: 0.9937\n",
      "Epoch 60/180\n",
      "3155/3155 [==============================] - 0s 92us/sample - loss: 0.3302 - wine_quality_loss: 0.3030 - wine_type_loss: 0.0276 - wine_quality_root_mean_squared_error: 0.5501 - wine_type_accuracy: 0.9946 - val_loss: 0.3474 - val_wine_quality_loss: 0.3161 - val_wine_type_loss: 0.0300 - val_wine_quality_root_mean_squared_error: 0.5631 - val_wine_type_accuracy: 0.9937\n",
      "Epoch 61/180\n",
      "3155/3155 [==============================] - 0s 92us/sample - loss: 0.3295 - wine_quality_loss: 0.3023 - wine_type_loss: 0.0274 - wine_quality_root_mean_squared_error: 0.5496 - wine_type_accuracy: 0.9940 - val_loss: 0.3463 - val_wine_quality_loss: 0.3151 - val_wine_type_loss: 0.0298 - val_wine_quality_root_mean_squared_error: 0.5623 - val_wine_type_accuracy: 0.9937\n",
      "Epoch 62/180\n",
      "3155/3155 [==============================] - 0s 90us/sample - loss: 0.3272 - wine_quality_loss: 0.2995 - wine_type_loss: 0.0273 - wine_quality_root_mean_squared_error: 0.5476 - wine_type_accuracy: 0.9943 - val_loss: 0.3389 - val_wine_quality_loss: 0.3080 - val_wine_type_loss: 0.0297 - val_wine_quality_root_mean_squared_error: 0.5558 - val_wine_type_accuracy: 0.9937\n",
      "Epoch 63/180\n",
      "3155/3155 [==============================] - 0s 89us/sample - loss: 0.3273 - wine_quality_loss: 0.3004 - wine_type_loss: 0.0272 - wine_quality_root_mean_squared_error: 0.5479 - wine_type_accuracy: 0.9943 - val_loss: 0.3380 - val_wine_quality_loss: 0.3075 - val_wine_type_loss: 0.0296 - val_wine_quality_root_mean_squared_error: 0.5550 - val_wine_type_accuracy: 0.9937\n",
      "Epoch 64/180\n",
      "3155/3155 [==============================] - 0s 76us/sample - loss: 0.3253 - wine_quality_loss: 0.2988 - wine_type_loss: 0.0269 - wine_quality_root_mean_squared_error: 0.5462 - wine_type_accuracy: 0.9940 - val_loss: 0.3398 - val_wine_quality_loss: 0.3090 - val_wine_type_loss: 0.0295 - val_wine_quality_root_mean_squared_error: 0.5567 - val_wine_type_accuracy: 0.9937\n",
      "Epoch 65/180\n",
      "3155/3155 [==============================] - 0s 91us/sample - loss: 0.3245 - wine_quality_loss: 0.2990 - wine_type_loss: 0.0269 - wine_quality_root_mean_squared_error: 0.5456 - wine_type_accuracy: 0.9943 - val_loss: 0.3382 - val_wine_quality_loss: 0.3076 - val_wine_type_loss: 0.0295 - val_wine_quality_root_mean_squared_error: 0.5552 - val_wine_type_accuracy: 0.9937\n",
      "Epoch 66/180\n",
      "3155/3155 [==============================] - 0s 91us/sample - loss: 0.3237 - wine_quality_loss: 0.2976 - wine_type_loss: 0.0265 - wine_quality_root_mean_squared_error: 0.5451 - wine_type_accuracy: 0.9946 - val_loss: 0.3390 - val_wine_quality_loss: 0.3082 - val_wine_type_loss: 0.0295 - val_wine_quality_root_mean_squared_error: 0.5560 - val_wine_type_accuracy: 0.9937\n",
      "Epoch 67/180\n",
      "3155/3155 [==============================] - 0s 90us/sample - loss: 0.3224 - wine_quality_loss: 0.2960 - wine_type_loss: 0.0264 - wine_quality_root_mean_squared_error: 0.5440 - wine_type_accuracy: 0.9952 - val_loss: 0.3422 - val_wine_quality_loss: 0.3117 - val_wine_type_loss: 0.0293 - val_wine_quality_root_mean_squared_error: 0.5590 - val_wine_type_accuracy: 0.9937\n",
      "Epoch 68/180\n",
      "3155/3155 [==============================] - 0s 76us/sample - loss: 0.3222 - wine_quality_loss: 0.2961 - wine_type_loss: 0.0263 - wine_quality_root_mean_squared_error: 0.5440 - wine_type_accuracy: 0.9943 - val_loss: 0.3438 - val_wine_quality_loss: 0.3133 - val_wine_type_loss: 0.0294 - val_wine_quality_root_mean_squared_error: 0.5605 - val_wine_type_accuracy: 0.9937\n",
      "Epoch 69/180\n",
      "3155/3155 [==============================] - 0s 90us/sample - loss: 0.3205 - wine_quality_loss: 0.2943 - wine_type_loss: 0.0261 - wine_quality_root_mean_squared_error: 0.5425 - wine_type_accuracy: 0.9940 - val_loss: 0.3375 - val_wine_quality_loss: 0.3072 - val_wine_type_loss: 0.0292 - val_wine_quality_root_mean_squared_error: 0.5549 - val_wine_type_accuracy: 0.9937\n",
      "Epoch 70/180\n",
      "3155/3155 [==============================] - 0s 93us/sample - loss: 0.3208 - wine_quality_loss: 0.2945 - wine_type_loss: 0.0259 - wine_quality_root_mean_squared_error: 0.5429 - wine_type_accuracy: 0.9946 - val_loss: 0.3412 - val_wine_quality_loss: 0.3108 - val_wine_type_loss: 0.0292 - val_wine_quality_root_mean_squared_error: 0.5582 - val_wine_type_accuracy: 0.9937\n",
      "Epoch 71/180\n",
      "3155/3155 [==============================] - 0s 91us/sample - loss: 0.3181 - wine_quality_loss: 0.2921 - wine_type_loss: 0.0258 - wine_quality_root_mean_squared_error: 0.5406 - wine_type_accuracy: 0.9943 - val_loss: 0.3369 - val_wine_quality_loss: 0.3070 - val_wine_type_loss: 0.0290 - val_wine_quality_root_mean_squared_error: 0.5545 - val_wine_type_accuracy: 0.9937\n",
      "Epoch 72/180\n",
      "3155/3155 [==============================] - 0s 75us/sample - loss: 0.3187 - wine_quality_loss: 0.2926 - wine_type_loss: 0.0256 - wine_quality_root_mean_squared_error: 0.5413 - wine_type_accuracy: 0.9949 - val_loss: 0.3347 - val_wine_quality_loss: 0.3046 - val_wine_type_loss: 0.0291 - val_wine_quality_root_mean_squared_error: 0.5525 - val_wine_type_accuracy: 0.9937\n",
      "Epoch 73/180\n",
      "3155/3155 [==============================] - 0s 92us/sample - loss: 0.3168 - wine_quality_loss: 0.2915 - wine_type_loss: 0.0255 - wine_quality_root_mean_squared_error: 0.5397 - wine_type_accuracy: 0.9949 - val_loss: 0.3367 - val_wine_quality_loss: 0.3067 - val_wine_type_loss: 0.0289 - val_wine_quality_root_mean_squared_error: 0.5544 - val_wine_type_accuracy: 0.9937\n",
      "Epoch 74/180\n",
      "3155/3155 [==============================] - 0s 92us/sample - loss: 0.3155 - wine_quality_loss: 0.2902 - wine_type_loss: 0.0252 - wine_quality_root_mean_squared_error: 0.5387 - wine_type_accuracy: 0.9946 - val_loss: 0.3493 - val_wine_quality_loss: 0.3193 - val_wine_type_loss: 0.0289 - val_wine_quality_root_mean_squared_error: 0.5658 - val_wine_type_accuracy: 0.9937\n",
      "Epoch 75/180\n",
      "3155/3155 [==============================] - 0s 91us/sample - loss: 0.3142 - wine_quality_loss: 0.2890 - wine_type_loss: 0.0251 - wine_quality_root_mean_squared_error: 0.5375 - wine_type_accuracy: 0.9949 - val_loss: 0.3440 - val_wine_quality_loss: 0.3140 - val_wine_type_loss: 0.0287 - val_wine_quality_root_mean_squared_error: 0.5612 - val_wine_type_accuracy: 0.9937\n",
      "Epoch 76/180\n",
      "3155/3155 [==============================] - 0s 89us/sample - loss: 0.3148 - wine_quality_loss: 0.2895 - wine_type_loss: 0.0250 - wine_quality_root_mean_squared_error: 0.5383 - wine_type_accuracy: 0.9949 - val_loss: 0.3420 - val_wine_quality_loss: 0.3121 - val_wine_type_loss: 0.0287 - val_wine_quality_root_mean_squared_error: 0.5595 - val_wine_type_accuracy: 0.9937\n",
      "Epoch 77/180\n",
      "3155/3155 [==============================] - 0s 76us/sample - loss: 0.3146 - wine_quality_loss: 0.2900 - wine_type_loss: 0.0249 - wine_quality_root_mean_squared_error: 0.5382 - wine_type_accuracy: 0.9949 - val_loss: 0.3414 - val_wine_quality_loss: 0.3119 - val_wine_type_loss: 0.0286 - val_wine_quality_root_mean_squared_error: 0.5590 - val_wine_type_accuracy: 0.9937\n",
      "Epoch 78/180\n",
      "3155/3155 [==============================] - 0s 90us/sample - loss: 0.3119 - wine_quality_loss: 0.2874 - wine_type_loss: 0.0248 - wine_quality_root_mean_squared_error: 0.5358 - wine_type_accuracy: 0.9956 - val_loss: 0.3409 - val_wine_quality_loss: 0.3113 - val_wine_type_loss: 0.0286 - val_wine_quality_root_mean_squared_error: 0.5586 - val_wine_type_accuracy: 0.9937\n",
      "Epoch 79/180\n",
      "3155/3155 [==============================] - 0s 90us/sample - loss: 0.3125 - wine_quality_loss: 0.2876 - wine_type_loss: 0.0246 - wine_quality_root_mean_squared_error: 0.5364 - wine_type_accuracy: 0.9949 - val_loss: 0.3408 - val_wine_quality_loss: 0.3110 - val_wine_type_loss: 0.0284 - val_wine_quality_root_mean_squared_error: 0.5586 - val_wine_type_accuracy: 0.9937\n",
      "Epoch 80/180\n",
      "3155/3155 [==============================] - 0s 75us/sample - loss: 0.3121 - wine_quality_loss: 0.2878 - wine_type_loss: 0.0245 - wine_quality_root_mean_squared_error: 0.5362 - wine_type_accuracy: 0.9956 - val_loss: 0.3377 - val_wine_quality_loss: 0.3083 - val_wine_type_loss: 0.0284 - val_wine_quality_root_mean_squared_error: 0.5559 - val_wine_type_accuracy: 0.9937\n",
      "Epoch 81/180\n",
      "3155/3155 [==============================] - 0s 91us/sample - loss: 0.3111 - wine_quality_loss: 0.2873 - wine_type_loss: 0.0248 - wine_quality_root_mean_squared_error: 0.5354 - wine_type_accuracy: 0.9952 - val_loss: 0.3349 - val_wine_quality_loss: 0.3056 - val_wine_type_loss: 0.0283 - val_wine_quality_root_mean_squared_error: 0.5534 - val_wine_type_accuracy: 0.9937\n",
      "Epoch 82/180\n",
      "3155/3155 [==============================] - 0s 92us/sample - loss: 0.3101 - wine_quality_loss: 0.2859 - wine_type_loss: 0.0242 - wine_quality_root_mean_squared_error: 0.5346 - wine_type_accuracy: 0.9952 - val_loss: 0.3383 - val_wine_quality_loss: 0.3089 - val_wine_type_loss: 0.0282 - val_wine_quality_root_mean_squared_error: 0.5565 - val_wine_type_accuracy: 0.9937\n",
      "Epoch 83/180\n",
      "3155/3155 [==============================] - 0s 90us/sample - loss: 0.3094 - wine_quality_loss: 0.2852 - wine_type_loss: 0.0241 - wine_quality_root_mean_squared_error: 0.5341 - wine_type_accuracy: 0.9959 - val_loss: 0.3356 - val_wine_quality_loss: 0.3061 - val_wine_type_loss: 0.0282 - val_wine_quality_root_mean_squared_error: 0.5541 - val_wine_type_accuracy: 0.9937\n",
      "Epoch 84/180\n",
      "3155/3155 [==============================] - 0s 75us/sample - loss: 0.3091 - wine_quality_loss: 0.2848 - wine_type_loss: 0.0239 - wine_quality_root_mean_squared_error: 0.5339 - wine_type_accuracy: 0.9956 - val_loss: 0.3371 - val_wine_quality_loss: 0.3076 - val_wine_type_loss: 0.0283 - val_wine_quality_root_mean_squared_error: 0.5554 - val_wine_type_accuracy: 0.9937\n",
      "Epoch 85/180\n",
      "3155/3155 [==============================] - 0s 90us/sample - loss: 0.3082 - wine_quality_loss: 0.2840 - wine_type_loss: 0.0238 - wine_quality_root_mean_squared_error: 0.5332 - wine_type_accuracy: 0.9959 - val_loss: 0.3345 - val_wine_quality_loss: 0.3053 - val_wine_type_loss: 0.0282 - val_wine_quality_root_mean_squared_error: 0.5531 - val_wine_type_accuracy: 0.9937\n",
      "Epoch 86/180\n",
      "3155/3155 [==============================] - 0s 91us/sample - loss: 0.3075 - wine_quality_loss: 0.2835 - wine_type_loss: 0.0237 - wine_quality_root_mean_squared_error: 0.5326 - wine_type_accuracy: 0.9952 - val_loss: 0.3329 - val_wine_quality_loss: 0.3037 - val_wine_type_loss: 0.0282 - val_wine_quality_root_mean_squared_error: 0.5517 - val_wine_type_accuracy: 0.9937\n",
      "Epoch 87/180\n",
      "3155/3155 [==============================] - 0s 91us/sample - loss: 0.3081 - wine_quality_loss: 0.2842 - wine_type_loss: 0.0236 - wine_quality_root_mean_squared_error: 0.5333 - wine_type_accuracy: 0.9959 - val_loss: 0.3389 - val_wine_quality_loss: 0.3097 - val_wine_type_loss: 0.0281 - val_wine_quality_root_mean_squared_error: 0.5571 - val_wine_type_accuracy: 0.9937\n",
      "Epoch 88/180\n",
      "3155/3155 [==============================] - 0s 75us/sample - loss: 0.3061 - wine_quality_loss: 0.2821 - wine_type_loss: 0.0234 - wine_quality_root_mean_squared_error: 0.5316 - wine_type_accuracy: 0.9959 - val_loss: 0.3329 - val_wine_quality_loss: 0.3040 - val_wine_type_loss: 0.0279 - val_wine_quality_root_mean_squared_error: 0.5519 - val_wine_type_accuracy: 0.9937\n",
      "Epoch 89/180\n",
      "3155/3155 [==============================] - 0s 90us/sample - loss: 0.3059 - wine_quality_loss: 0.2827 - wine_type_loss: 0.0234 - wine_quality_root_mean_squared_error: 0.5314 - wine_type_accuracy: 0.9962 - val_loss: 0.3359 - val_wine_quality_loss: 0.3069 - val_wine_type_loss: 0.0279 - val_wine_quality_root_mean_squared_error: 0.5547 - val_wine_type_accuracy: 0.9937\n",
      "Epoch 90/180\n",
      "3155/3155 [==============================] - 0s 92us/sample - loss: 0.3042 - wine_quality_loss: 0.2812 - wine_type_loss: 0.0232 - wine_quality_root_mean_squared_error: 0.5300 - wine_type_accuracy: 0.9962 - val_loss: 0.3402 - val_wine_quality_loss: 0.3110 - val_wine_type_loss: 0.0278 - val_wine_quality_root_mean_squared_error: 0.5585 - val_wine_type_accuracy: 0.9937\n",
      "Epoch 91/180\n",
      "3155/3155 [==============================] - 0s 92us/sample - loss: 0.3044 - wine_quality_loss: 0.2815 - wine_type_loss: 0.0232 - wine_quality_root_mean_squared_error: 0.5303 - wine_type_accuracy: 0.9965 - val_loss: 0.3378 - val_wine_quality_loss: 0.3090 - val_wine_type_loss: 0.0277 - val_wine_quality_root_mean_squared_error: 0.5566 - val_wine_type_accuracy: 0.9937\n",
      "Epoch 92/180\n",
      "3155/3155 [==============================] - 0s 91us/sample - loss: 0.3034 - wine_quality_loss: 0.2802 - wine_type_loss: 0.0229 - wine_quality_root_mean_squared_error: 0.5295 - wine_type_accuracy: 0.9965 - val_loss: 0.3362 - val_wine_quality_loss: 0.3075 - val_wine_type_loss: 0.0278 - val_wine_quality_root_mean_squared_error: 0.5550 - val_wine_type_accuracy: 0.9937\n",
      "Epoch 93/180\n",
      "3155/3155 [==============================] - 0s 94us/sample - loss: 0.3032 - wine_quality_loss: 0.2803 - wine_type_loss: 0.0228 - wine_quality_root_mean_squared_error: 0.5295 - wine_type_accuracy: 0.9965 - val_loss: 0.3353 - val_wine_quality_loss: 0.3063 - val_wine_type_loss: 0.0278 - val_wine_quality_root_mean_squared_error: 0.5542 - val_wine_type_accuracy: 0.9937\n",
      "Epoch 94/180\n",
      "3155/3155 [==============================] - 0s 96us/sample - loss: 0.3027 - wine_quality_loss: 0.2799 - wine_type_loss: 0.0228 - wine_quality_root_mean_squared_error: 0.5290 - wine_type_accuracy: 0.9965 - val_loss: 0.3384 - val_wine_quality_loss: 0.3098 - val_wine_type_loss: 0.0276 - val_wine_quality_root_mean_squared_error: 0.5572 - val_wine_type_accuracy: 0.9937\n",
      "Epoch 95/180\n",
      "3155/3155 [==============================] - 0s 76us/sample - loss: 0.3012 - wine_quality_loss: 0.2794 - wine_type_loss: 0.0226 - wine_quality_root_mean_squared_error: 0.5278 - wine_type_accuracy: 0.9965 - val_loss: 0.3352 - val_wine_quality_loss: 0.3068 - val_wine_type_loss: 0.0277 - val_wine_quality_root_mean_squared_error: 0.5542 - val_wine_type_accuracy: 0.9937\n",
      "Epoch 96/180\n",
      "3155/3155 [==============================] - 0s 91us/sample - loss: 0.3010 - wine_quality_loss: 0.2785 - wine_type_loss: 0.0225 - wine_quality_root_mean_squared_error: 0.5277 - wine_type_accuracy: 0.9965 - val_loss: 0.3446 - val_wine_quality_loss: 0.3157 - val_wine_type_loss: 0.0275 - val_wine_quality_root_mean_squared_error: 0.5628 - val_wine_type_accuracy: 0.9937\n",
      "Epoch 97/180\n",
      "3155/3155 [==============================] - 0s 89us/sample - loss: 0.3005 - wine_quality_loss: 0.2780 - wine_type_loss: 0.0224 - wine_quality_root_mean_squared_error: 0.5273 - wine_type_accuracy: 0.9965 - val_loss: 0.3367 - val_wine_quality_loss: 0.3079 - val_wine_type_loss: 0.0276 - val_wine_quality_root_mean_squared_error: 0.5557 - val_wine_type_accuracy: 0.9937\n",
      "Epoch 98/180\n",
      "3155/3155 [==============================] - 0s 74us/sample - loss: 0.3001 - wine_quality_loss: 0.2775 - wine_type_loss: 0.0222 - wine_quality_root_mean_squared_error: 0.5271 - wine_type_accuracy: 0.9965 - val_loss: 0.3332 - val_wine_quality_loss: 0.3044 - val_wine_type_loss: 0.0277 - val_wine_quality_root_mean_squared_error: 0.5524 - val_wine_type_accuracy: 0.9937\n",
      "Epoch 99/180\n",
      "3155/3155 [==============================] - 0s 91us/sample - loss: 0.2996 - wine_quality_loss: 0.2779 - wine_type_loss: 0.0221 - wine_quality_root_mean_squared_error: 0.5267 - wine_type_accuracy: 0.9962 - val_loss: 0.3327 - val_wine_quality_loss: 0.3042 - val_wine_type_loss: 0.0274 - val_wine_quality_root_mean_squared_error: 0.5522 - val_wine_type_accuracy: 0.9937\n",
      "Epoch 100/180\n",
      "3155/3155 [==============================] - 0s 92us/sample - loss: 0.2983 - wine_quality_loss: 0.2763 - wine_type_loss: 0.0220 - wine_quality_root_mean_squared_error: 0.5256 - wine_type_accuracy: 0.9965 - val_loss: 0.3373 - val_wine_quality_loss: 0.3086 - val_wine_type_loss: 0.0276 - val_wine_quality_root_mean_squared_error: 0.5562 - val_wine_type_accuracy: 0.9937\n",
      "Epoch 101/180\n",
      "3155/3155 [==============================] - 0s 90us/sample - loss: 0.2988 - wine_quality_loss: 0.2768 - wine_type_loss: 0.0220 - wine_quality_root_mean_squared_error: 0.5261 - wine_type_accuracy: 0.9965 - val_loss: 0.3384 - val_wine_quality_loss: 0.3098 - val_wine_type_loss: 0.0275 - val_wine_quality_root_mean_squared_error: 0.5573 - val_wine_type_accuracy: 0.9937\n",
      "Epoch 102/180\n",
      "3155/3155 [==============================] - 0s 74us/sample - loss: 0.2979 - wine_quality_loss: 0.2765 - wine_type_loss: 0.0218 - wine_quality_root_mean_squared_error: 0.5254 - wine_type_accuracy: 0.9965 - val_loss: 0.3430 - val_wine_quality_loss: 0.3141 - val_wine_type_loss: 0.0275 - val_wine_quality_root_mean_squared_error: 0.5614 - val_wine_type_accuracy: 0.9937\n",
      "Epoch 103/180\n",
      "3155/3155 [==============================] - 0s 90us/sample - loss: 0.2977 - wine_quality_loss: 0.2755 - wine_type_loss: 0.0217 - wine_quality_root_mean_squared_error: 0.5253 - wine_type_accuracy: 0.9965 - val_loss: 0.3371 - val_wine_quality_loss: 0.3087 - val_wine_type_loss: 0.0274 - val_wine_quality_root_mean_squared_error: 0.5562 - val_wine_type_accuracy: 0.9937\n",
      "Epoch 104/180\n",
      "3155/3155 [==============================] - 0s 91us/sample - loss: 0.2965 - wine_quality_loss: 0.2746 - wine_type_loss: 0.0216 - wine_quality_root_mean_squared_error: 0.5242 - wine_type_accuracy: 0.9965 - val_loss: 0.3494 - val_wine_quality_loss: 0.3206 - val_wine_type_loss: 0.0275 - val_wine_quality_root_mean_squared_error: 0.5671 - val_wine_type_accuracy: 0.9937\n",
      "Epoch 105/180\n",
      "3155/3155 [==============================] - 0s 89us/sample - loss: 0.2966 - wine_quality_loss: 0.2746 - wine_type_loss: 0.0215 - wine_quality_root_mean_squared_error: 0.5244 - wine_type_accuracy: 0.9965 - val_loss: 0.3345 - val_wine_quality_loss: 0.3064 - val_wine_type_loss: 0.0271 - val_wine_quality_root_mean_squared_error: 0.5541 - val_wine_type_accuracy: 0.9937\n",
      "Epoch 106/180\n",
      "3155/3155 [==============================] - 0s 75us/sample - loss: 0.2950 - wine_quality_loss: 0.2736 - wine_type_loss: 0.0214 - wine_quality_root_mean_squared_error: 0.5230 - wine_type_accuracy: 0.9965 - val_loss: 0.3411 - val_wine_quality_loss: 0.3129 - val_wine_type_loss: 0.0270 - val_wine_quality_root_mean_squared_error: 0.5601 - val_wine_type_accuracy: 0.9937\n",
      "Epoch 107/180\n",
      "3155/3155 [==============================] - 0s 92us/sample - loss: 0.2950 - wine_quality_loss: 0.2734 - wine_type_loss: 0.0213 - wine_quality_root_mean_squared_error: 0.5231 - wine_type_accuracy: 0.9965 - val_loss: 0.3365 - val_wine_quality_loss: 0.3084 - val_wine_type_loss: 0.0272 - val_wine_quality_root_mean_squared_error: 0.5559 - val_wine_type_accuracy: 0.9937\n",
      "Epoch 108/180\n",
      "3155/3155 [==============================] - 0s 88us/sample - loss: 0.2940 - wine_quality_loss: 0.2731 - wine_type_loss: 0.0212 - wine_quality_root_mean_squared_error: 0.5223 - wine_type_accuracy: 0.9965 - val_loss: 0.3383 - val_wine_quality_loss: 0.3097 - val_wine_type_loss: 0.0273 - val_wine_quality_root_mean_squared_error: 0.5574 - val_wine_type_accuracy: 0.9937\n",
      "Epoch 109/180\n",
      "3155/3155 [==============================] - 0s 75us/sample - loss: 0.2935 - wine_quality_loss: 0.2723 - wine_type_loss: 0.0211 - wine_quality_root_mean_squared_error: 0.5218 - wine_type_accuracy: 0.9965 - val_loss: 0.3353 - val_wine_quality_loss: 0.3073 - val_wine_type_loss: 0.0272 - val_wine_quality_root_mean_squared_error: 0.5548 - val_wine_type_accuracy: 0.9937\n",
      "Epoch 110/180\n",
      "3155/3155 [==============================] - 0s 76us/sample - loss: 0.2943 - wine_quality_loss: 0.2732 - wine_type_loss: 0.0210 - wine_quality_root_mean_squared_error: 0.5228 - wine_type_accuracy: 0.9965 - val_loss: 0.3445 - val_wine_quality_loss: 0.3161 - val_wine_type_loss: 0.0272 - val_wine_quality_root_mean_squared_error: 0.5630 - val_wine_type_accuracy: 0.9937\n",
      "Epoch 111/180\n",
      "3155/3155 [==============================] - 0s 91us/sample - loss: 0.2923 - wine_quality_loss: 0.2710 - wine_type_loss: 0.0209 - wine_quality_root_mean_squared_error: 0.5209 - wine_type_accuracy: 0.9965 - val_loss: 0.3356 - val_wine_quality_loss: 0.3074 - val_wine_type_loss: 0.0270 - val_wine_quality_root_mean_squared_error: 0.5551 - val_wine_type_accuracy: 0.9937\n",
      "Epoch 112/180\n",
      "3155/3155 [==============================] - 0s 92us/sample - loss: 0.2906 - wine_quality_loss: 0.2693 - wine_type_loss: 0.0208 - wine_quality_root_mean_squared_error: 0.5193 - wine_type_accuracy: 0.9965 - val_loss: 0.3442 - val_wine_quality_loss: 0.3160 - val_wine_type_loss: 0.0271 - val_wine_quality_root_mean_squared_error: 0.5629 - val_wine_type_accuracy: 0.9937\n",
      "Epoch 113/180\n",
      "3155/3155 [==============================] - 0s 90us/sample - loss: 0.2918 - wine_quality_loss: 0.2725 - wine_type_loss: 0.0207 - wine_quality_root_mean_squared_error: 0.5206 - wine_type_accuracy: 0.9965 - val_loss: 0.3347 - val_wine_quality_loss: 0.3067 - val_wine_type_loss: 0.0270 - val_wine_quality_root_mean_squared_error: 0.5545 - val_wine_type_accuracy: 0.9937\n",
      "Epoch 114/180\n",
      "3155/3155 [==============================] - 0s 76us/sample - loss: 0.2912 - wine_quality_loss: 0.2703 - wine_type_loss: 0.0206 - wine_quality_root_mean_squared_error: 0.5201 - wine_type_accuracy: 0.9965 - val_loss: 0.3323 - val_wine_quality_loss: 0.3043 - val_wine_type_loss: 0.0268 - val_wine_quality_root_mean_squared_error: 0.5524 - val_wine_type_accuracy: 0.9937\n",
      "Epoch 115/180\n",
      "3155/3155 [==============================] - 0s 91us/sample - loss: 0.2906 - wine_quality_loss: 0.2701 - wine_type_loss: 0.0205 - wine_quality_root_mean_squared_error: 0.5196 - wine_type_accuracy: 0.9965 - val_loss: 0.3375 - val_wine_quality_loss: 0.3094 - val_wine_type_loss: 0.0269 - val_wine_quality_root_mean_squared_error: 0.5570 - val_wine_type_accuracy: 0.9937\n",
      "Epoch 116/180\n",
      "3155/3155 [==============================] - 0s 89us/sample - loss: 0.2902 - wine_quality_loss: 0.2696 - wine_type_loss: 0.0204 - wine_quality_root_mean_squared_error: 0.5193 - wine_type_accuracy: 0.9965 - val_loss: 0.3451 - val_wine_quality_loss: 0.3170 - val_wine_type_loss: 0.0269 - val_wine_quality_root_mean_squared_error: 0.5637 - val_wine_type_accuracy: 0.9937\n",
      "Epoch 117/180\n",
      "3155/3155 [==============================] - 0s 74us/sample - loss: 0.2901 - wine_quality_loss: 0.2700 - wine_type_loss: 0.0203 - wine_quality_root_mean_squared_error: 0.5194 - wine_type_accuracy: 0.9965 - val_loss: 0.3358 - val_wine_quality_loss: 0.3078 - val_wine_type_loss: 0.0270 - val_wine_quality_root_mean_squared_error: 0.5554 - val_wine_type_accuracy: 0.9937\n",
      "Epoch 118/180\n",
      "3155/3155 [==============================] - 0s 92us/sample - loss: 0.2897 - wine_quality_loss: 0.2687 - wine_type_loss: 0.0202 - wine_quality_root_mean_squared_error: 0.5191 - wine_type_accuracy: 0.9965 - val_loss: 0.3382 - val_wine_quality_loss: 0.3100 - val_wine_type_loss: 0.0269 - val_wine_quality_root_mean_squared_error: 0.5576 - val_wine_type_accuracy: 0.9937\n",
      "Epoch 119/180\n",
      "3155/3155 [==============================] - 0s 92us/sample - loss: 0.2894 - wine_quality_loss: 0.2689 - wine_type_loss: 0.0201 - wine_quality_root_mean_squared_error: 0.5188 - wine_type_accuracy: 0.9965 - val_loss: 0.3425 - val_wine_quality_loss: 0.3144 - val_wine_type_loss: 0.0270 - val_wine_quality_root_mean_squared_error: 0.5614 - val_wine_type_accuracy: 0.9937\n",
      "Epoch 120/180\n",
      "3155/3155 [==============================] - 0s 94us/sample - loss: 0.2887 - wine_quality_loss: 0.2689 - wine_type_loss: 0.0203 - wine_quality_root_mean_squared_error: 0.5182 - wine_type_accuracy: 0.9965 - val_loss: 0.3404 - val_wine_quality_loss: 0.3123 - val_wine_type_loss: 0.0269 - val_wine_quality_root_mean_squared_error: 0.5596 - val_wine_type_accuracy: 0.9937\n",
      "Epoch 121/180\n",
      "3155/3155 [==============================] - 0s 93us/sample - loss: 0.2883 - wine_quality_loss: 0.2680 - wine_type_loss: 0.0199 - wine_quality_root_mean_squared_error: 0.5180 - wine_type_accuracy: 0.9965 - val_loss: 0.3378 - val_wine_quality_loss: 0.3100 - val_wine_type_loss: 0.0269 - val_wine_quality_root_mean_squared_error: 0.5573 - val_wine_type_accuracy: 0.9937\n",
      "Epoch 122/180\n",
      "3155/3155 [==============================] - 0s 91us/sample - loss: 0.2883 - wine_quality_loss: 0.2685 - wine_type_loss: 0.0199 - wine_quality_root_mean_squared_error: 0.5181 - wine_type_accuracy: 0.9965 - val_loss: 0.3369 - val_wine_quality_loss: 0.3090 - val_wine_type_loss: 0.0267 - val_wine_quality_root_mean_squared_error: 0.5566 - val_wine_type_accuracy: 0.9937\n",
      "Epoch 123/180\n",
      "3155/3155 [==============================] - 0s 75us/sample - loss: 0.2866 - wine_quality_loss: 0.2665 - wine_type_loss: 0.0197 - wine_quality_root_mean_squared_error: 0.5166 - wine_type_accuracy: 0.9965 - val_loss: 0.3447 - val_wine_quality_loss: 0.3169 - val_wine_type_loss: 0.0266 - val_wine_quality_root_mean_squared_error: 0.5637 - val_wine_type_accuracy: 0.9937\n",
      "Epoch 124/180\n",
      "3155/3155 [==============================] - 0s 91us/sample - loss: 0.2858 - wine_quality_loss: 0.2665 - wine_type_loss: 0.0198 - wine_quality_root_mean_squared_error: 0.5158 - wine_type_accuracy: 0.9965 - val_loss: 0.3478 - val_wine_quality_loss: 0.3201 - val_wine_type_loss: 0.0267 - val_wine_quality_root_mean_squared_error: 0.5664 - val_wine_type_accuracy: 0.9937\n",
      "Epoch 125/180\n",
      "3155/3155 [==============================] - 0s 90us/sample - loss: 0.2858 - wine_quality_loss: 0.2659 - wine_type_loss: 0.0195 - wine_quality_root_mean_squared_error: 0.5159 - wine_type_accuracy: 0.9965 - val_loss: 0.3403 - val_wine_quality_loss: 0.3124 - val_wine_type_loss: 0.0266 - val_wine_quality_root_mean_squared_error: 0.5598 - val_wine_type_accuracy: 0.9937\n",
      "Epoch 126/180\n",
      "3155/3155 [==============================] - 0s 73us/sample - loss: 0.2850 - wine_quality_loss: 0.2651 - wine_type_loss: 0.0195 - wine_quality_root_mean_squared_error: 0.5152 - wine_type_accuracy: 0.9965 - val_loss: 0.3410 - val_wine_quality_loss: 0.3132 - val_wine_type_loss: 0.0267 - val_wine_quality_root_mean_squared_error: 0.5603 - val_wine_type_accuracy: 0.9937\n",
      "Epoch 127/180\n",
      "3155/3155 [==============================] - 0s 89us/sample - loss: 0.2851 - wine_quality_loss: 0.2661 - wine_type_loss: 0.0194 - wine_quality_root_mean_squared_error: 0.5154 - wine_type_accuracy: 0.9965 - val_loss: 0.3341 - val_wine_quality_loss: 0.3067 - val_wine_type_loss: 0.0266 - val_wine_quality_root_mean_squared_error: 0.5543 - val_wine_type_accuracy: 0.9937\n",
      "Epoch 128/180\n",
      "3155/3155 [==============================] - 0s 90us/sample - loss: 0.2849 - wine_quality_loss: 0.2654 - wine_type_loss: 0.0193 - wine_quality_root_mean_squared_error: 0.5153 - wine_type_accuracy: 0.9965 - val_loss: 0.3391 - val_wine_quality_loss: 0.3113 - val_wine_type_loss: 0.0267 - val_wine_quality_root_mean_squared_error: 0.5587 - val_wine_type_accuracy: 0.9937\n",
      "Epoch 129/180\n",
      "3155/3155 [==============================] - 0s 73us/sample - loss: 0.2844 - wine_quality_loss: 0.2651 - wine_type_loss: 0.0192 - wine_quality_root_mean_squared_error: 0.5149 - wine_type_accuracy: 0.9965 - val_loss: 0.3366 - val_wine_quality_loss: 0.3088 - val_wine_type_loss: 0.0265 - val_wine_quality_root_mean_squared_error: 0.5565 - val_wine_type_accuracy: 0.9937\n",
      "Epoch 130/180\n",
      "3155/3155 [==============================] - 0s 89us/sample - loss: 0.2832 - wine_quality_loss: 0.2635 - wine_type_loss: 0.0192 - wine_quality_root_mean_squared_error: 0.5137 - wine_type_accuracy: 0.9965 - val_loss: 0.3355 - val_wine_quality_loss: 0.3078 - val_wine_type_loss: 0.0265 - val_wine_quality_root_mean_squared_error: 0.5556 - val_wine_type_accuracy: 0.9937\n",
      "Epoch 131/180\n",
      "3155/3155 [==============================] - 0s 89us/sample - loss: 0.2827 - wine_quality_loss: 0.2634 - wine_type_loss: 0.0192 - wine_quality_root_mean_squared_error: 0.5134 - wine_type_accuracy: 0.9965 - val_loss: 0.3434 - val_wine_quality_loss: 0.3158 - val_wine_type_loss: 0.0265 - val_wine_quality_root_mean_squared_error: 0.5626 - val_wine_type_accuracy: 0.9937\n",
      "Epoch 132/180\n",
      "3155/3155 [==============================] - 0s 90us/sample - loss: 0.2831 - wine_quality_loss: 0.2640 - wine_type_loss: 0.0189 - wine_quality_root_mean_squared_error: 0.5139 - wine_type_accuracy: 0.9965 - val_loss: 0.3354 - val_wine_quality_loss: 0.3074 - val_wine_type_loss: 0.0265 - val_wine_quality_root_mean_squared_error: 0.5554 - val_wine_type_accuracy: 0.9937\n",
      "Epoch 133/180\n",
      "3155/3155 [==============================] - 0s 75us/sample - loss: 0.2814 - wine_quality_loss: 0.2624 - wine_type_loss: 0.0189 - wine_quality_root_mean_squared_error: 0.5123 - wine_type_accuracy: 0.9965 - val_loss: 0.3403 - val_wine_quality_loss: 0.3126 - val_wine_type_loss: 0.0265 - val_wine_quality_root_mean_squared_error: 0.5599 - val_wine_type_accuracy: 0.9937\n",
      "Epoch 134/180\n",
      "3155/3155 [==============================] - 0s 91us/sample - loss: 0.2818 - wine_quality_loss: 0.2632 - wine_type_loss: 0.0188 - wine_quality_root_mean_squared_error: 0.5128 - wine_type_accuracy: 0.9965 - val_loss: 0.3416 - val_wine_quality_loss: 0.3138 - val_wine_type_loss: 0.0264 - val_wine_quality_root_mean_squared_error: 0.5611 - val_wine_type_accuracy: 0.9937\n",
      "Epoch 135/180\n",
      "3155/3155 [==============================] - 0s 89us/sample - loss: 0.2813 - wine_quality_loss: 0.2626 - wine_type_loss: 0.0187 - wine_quality_root_mean_squared_error: 0.5124 - wine_type_accuracy: 0.9965 - val_loss: 0.3375 - val_wine_quality_loss: 0.3099 - val_wine_type_loss: 0.0264 - val_wine_quality_root_mean_squared_error: 0.5575 - val_wine_type_accuracy: 0.9937\n",
      "Epoch 136/180\n",
      "3155/3155 [==============================] - 0s 75us/sample - loss: 0.2798 - wine_quality_loss: 0.2616 - wine_type_loss: 0.0187 - wine_quality_root_mean_squared_error: 0.5111 - wine_type_accuracy: 0.9965 - val_loss: 0.3450 - val_wine_quality_loss: 0.3174 - val_wine_type_loss: 0.0266 - val_wine_quality_root_mean_squared_error: 0.5640 - val_wine_type_accuracy: 0.9937\n",
      "Epoch 137/180\n",
      "3155/3155 [==============================] - 0s 90us/sample - loss: 0.2803 - wine_quality_loss: 0.2615 - wine_type_loss: 0.0195 - wine_quality_root_mean_squared_error: 0.5116 - wine_type_accuracy: 0.9965 - val_loss: 0.3339 - val_wine_quality_loss: 0.3065 - val_wine_type_loss: 0.0264 - val_wine_quality_root_mean_squared_error: 0.5543 - val_wine_type_accuracy: 0.9937\n",
      "Epoch 138/180\n",
      "3155/3155 [==============================] - 0s 89us/sample - loss: 0.2802 - wine_quality_loss: 0.2621 - wine_type_loss: 0.0184 - wine_quality_root_mean_squared_error: 0.5116 - wine_type_accuracy: 0.9965 - val_loss: 0.3332 - val_wine_quality_loss: 0.3058 - val_wine_type_loss: 0.0263 - val_wine_quality_root_mean_squared_error: 0.5536 - val_wine_type_accuracy: 0.9937\n",
      "Epoch 139/180\n",
      "3155/3155 [==============================] - 0s 76us/sample - loss: 0.2792 - wine_quality_loss: 0.2605 - wine_type_loss: 0.0184 - wine_quality_root_mean_squared_error: 0.5106 - wine_type_accuracy: 0.9965 - val_loss: 0.3359 - val_wine_quality_loss: 0.3083 - val_wine_type_loss: 0.0263 - val_wine_quality_root_mean_squared_error: 0.5561 - val_wine_type_accuracy: 0.9937\n",
      "Epoch 140/180\n",
      "3155/3155 [==============================] - 0s 90us/sample - loss: 0.2794 - wine_quality_loss: 0.2611 - wine_type_loss: 0.0183 - wine_quality_root_mean_squared_error: 0.5109 - wine_type_accuracy: 0.9965 - val_loss: 0.3360 - val_wine_quality_loss: 0.3085 - val_wine_type_loss: 0.0264 - val_wine_quality_root_mean_squared_error: 0.5561 - val_wine_type_accuracy: 0.9937\n",
      "Epoch 141/180\n",
      "3155/3155 [==============================] - 0s 91us/sample - loss: 0.2782 - wine_quality_loss: 0.2602 - wine_type_loss: 0.0182 - wine_quality_root_mean_squared_error: 0.5099 - wine_type_accuracy: 0.9965 - val_loss: 0.3409 - val_wine_quality_loss: 0.3133 - val_wine_type_loss: 0.0264 - val_wine_quality_root_mean_squared_error: 0.5605 - val_wine_type_accuracy: 0.9937\n",
      "Epoch 142/180\n",
      "3155/3155 [==============================] - 0s 92us/sample - loss: 0.2788 - wine_quality_loss: 0.2604 - wine_type_loss: 0.0182 - wine_quality_root_mean_squared_error: 0.5105 - wine_type_accuracy: 0.9965 - val_loss: 0.3371 - val_wine_quality_loss: 0.3096 - val_wine_type_loss: 0.0263 - val_wine_quality_root_mean_squared_error: 0.5572 - val_wine_type_accuracy: 0.9937\n",
      "Epoch 143/180\n",
      "3155/3155 [==============================] - 0s 74us/sample - loss: 0.2779 - wine_quality_loss: 0.2599 - wine_type_loss: 0.0180 - wine_quality_root_mean_squared_error: 0.5097 - wine_type_accuracy: 0.9965 - val_loss: 0.3348 - val_wine_quality_loss: 0.3074 - val_wine_type_loss: 0.0263 - val_wine_quality_root_mean_squared_error: 0.5551 - val_wine_type_accuracy: 0.9937\n",
      "Epoch 144/180\n",
      "3155/3155 [==============================] - 0s 90us/sample - loss: 0.2775 - wine_quality_loss: 0.2592 - wine_type_loss: 0.0180 - wine_quality_root_mean_squared_error: 0.5094 - wine_type_accuracy: 0.9965 - val_loss: 0.3435 - val_wine_quality_loss: 0.3157 - val_wine_type_loss: 0.0265 - val_wine_quality_root_mean_squared_error: 0.5627 - val_wine_type_accuracy: 0.9937\n",
      "Epoch 145/180\n",
      "3155/3155 [==============================] - 0s 90us/sample - loss: 0.2751 - wine_quality_loss: 0.2573 - wine_type_loss: 0.0179 - wine_quality_root_mean_squared_error: 0.5071 - wine_type_accuracy: 0.9965 - val_loss: 0.3405 - val_wine_quality_loss: 0.3132 - val_wine_type_loss: 0.0264 - val_wine_quality_root_mean_squared_error: 0.5601 - val_wine_type_accuracy: 0.9937\n",
      "Epoch 146/180\n",
      "3155/3155 [==============================] - 0s 90us/sample - loss: 0.2767 - wine_quality_loss: 0.2585 - wine_type_loss: 0.0178 - wine_quality_root_mean_squared_error: 0.5087 - wine_type_accuracy: 0.9965 - val_loss: 0.3333 - val_wine_quality_loss: 0.3056 - val_wine_type_loss: 0.0264 - val_wine_quality_root_mean_squared_error: 0.5537 - val_wine_type_accuracy: 0.9937\n",
      "Epoch 147/180\n",
      "3155/3155 [==============================] - 0s 75us/sample - loss: 0.2768 - wine_quality_loss: 0.2585 - wine_type_loss: 0.0178 - wine_quality_root_mean_squared_error: 0.5089 - wine_type_accuracy: 0.9965 - val_loss: 0.3370 - val_wine_quality_loss: 0.3094 - val_wine_type_loss: 0.0264 - val_wine_quality_root_mean_squared_error: 0.5570 - val_wine_type_accuracy: 0.9937\n",
      "Epoch 148/180\n",
      "3155/3155 [==============================] - 0s 92us/sample - loss: 0.2761 - wine_quality_loss: 0.2586 - wine_type_loss: 0.0177 - wine_quality_root_mean_squared_error: 0.5083 - wine_type_accuracy: 0.9965 - val_loss: 0.3398 - val_wine_quality_loss: 0.3122 - val_wine_type_loss: 0.0263 - val_wine_quality_root_mean_squared_error: 0.5596 - val_wine_type_accuracy: 0.9937\n",
      "Epoch 149/180\n",
      "3155/3155 [==============================] - 0s 91us/sample - loss: 0.2759 - wine_quality_loss: 0.2589 - wine_type_loss: 0.0176 - wine_quality_root_mean_squared_error: 0.5082 - wine_type_accuracy: 0.9965 - val_loss: 0.3379 - val_wine_quality_loss: 0.3104 - val_wine_type_loss: 0.0262 - val_wine_quality_root_mean_squared_error: 0.5580 - val_wine_type_accuracy: 0.9937\n",
      "Epoch 150/180\n",
      "3155/3155 [==============================] - 0s 73us/sample - loss: 0.2743 - wine_quality_loss: 0.2570 - wine_type_loss: 0.0175 - wine_quality_root_mean_squared_error: 0.5067 - wine_type_accuracy: 0.9965 - val_loss: 0.3378 - val_wine_quality_loss: 0.3104 - val_wine_type_loss: 0.0262 - val_wine_quality_root_mean_squared_error: 0.5579 - val_wine_type_accuracy: 0.9937\n",
      "Epoch 151/180\n",
      "3155/3155 [==============================] - 0s 77us/sample - loss: 0.2741 - wine_quality_loss: 0.2561 - wine_type_loss: 0.0174 - wine_quality_root_mean_squared_error: 0.5066 - wine_type_accuracy: 0.9965 - val_loss: 0.3344 - val_wine_quality_loss: 0.3072 - val_wine_type_loss: 0.0262 - val_wine_quality_root_mean_squared_error: 0.5549 - val_wine_type_accuracy: 0.9937\n",
      "Epoch 152/180\n",
      "3155/3155 [==============================] - 0s 89us/sample - loss: 0.2737 - wine_quality_loss: 0.2566 - wine_type_loss: 0.0174 - wine_quality_root_mean_squared_error: 0.5062 - wine_type_accuracy: 0.9965 - val_loss: 0.3352 - val_wine_quality_loss: 0.3079 - val_wine_type_loss: 0.0262 - val_wine_quality_root_mean_squared_error: 0.5556 - val_wine_type_accuracy: 0.9937\n",
      "Epoch 153/180\n",
      "3155/3155 [==============================] - 0s 90us/sample - loss: 0.2738 - wine_quality_loss: 0.2566 - wine_type_loss: 0.0173 - wine_quality_root_mean_squared_error: 0.5064 - wine_type_accuracy: 0.9965 - val_loss: 0.3348 - val_wine_quality_loss: 0.3075 - val_wine_type_loss: 0.0262 - val_wine_quality_root_mean_squared_error: 0.5553 - val_wine_type_accuracy: 0.9937\n",
      "Epoch 154/180\n",
      "3155/3155 [==============================] - 0s 75us/sample - loss: 0.2721 - wine_quality_loss: 0.2545 - wine_type_loss: 0.0172 - wine_quality_root_mean_squared_error: 0.5048 - wine_type_accuracy: 0.9965 - val_loss: 0.3480 - val_wine_quality_loss: 0.3205 - val_wine_type_loss: 0.0262 - val_wine_quality_root_mean_squared_error: 0.5669 - val_wine_type_accuracy: 0.9937\n",
      "Epoch 155/180\n",
      "3155/3155 [==============================] - 0s 90us/sample - loss: 0.2732 - wine_quality_loss: 0.2562 - wine_type_loss: 0.0171 - wine_quality_root_mean_squared_error: 0.5060 - wine_type_accuracy: 0.9965 - val_loss: 0.3496 - val_wine_quality_loss: 0.3221 - val_wine_type_loss: 0.0263 - val_wine_quality_root_mean_squared_error: 0.5683 - val_wine_type_accuracy: 0.9937\n",
      "Epoch 156/180\n",
      "3155/3155 [==============================] - 0s 90us/sample - loss: 0.2725 - wine_quality_loss: 0.2555 - wine_type_loss: 0.0170 - wine_quality_root_mean_squared_error: 0.5055 - wine_type_accuracy: 0.9965 - val_loss: 0.3401 - val_wine_quality_loss: 0.3123 - val_wine_type_loss: 0.0264 - val_wine_quality_root_mean_squared_error: 0.5598 - val_wine_type_accuracy: 0.9937\n",
      "Epoch 157/180\n",
      "3155/3155 [==============================] - 0s 74us/sample - loss: 0.2720 - wine_quality_loss: 0.2551 - wine_type_loss: 0.0170 - wine_quality_root_mean_squared_error: 0.5049 - wine_type_accuracy: 0.9965 - val_loss: 0.3365 - val_wine_quality_loss: 0.3090 - val_wine_type_loss: 0.0264 - val_wine_quality_root_mean_squared_error: 0.5566 - val_wine_type_accuracy: 0.9937\n",
      "Epoch 158/180\n",
      "3155/3155 [==============================] - 0s 91us/sample - loss: 0.2726 - wine_quality_loss: 0.2559 - wine_type_loss: 0.0169 - wine_quality_root_mean_squared_error: 0.5056 - wine_type_accuracy: 0.9965 - val_loss: 0.3395 - val_wine_quality_loss: 0.3121 - val_wine_type_loss: 0.0263 - val_wine_quality_root_mean_squared_error: 0.5594 - val_wine_type_accuracy: 0.9937\n",
      "Epoch 159/180\n",
      "3155/3155 [==============================] - 0s 93us/sample - loss: 0.2720 - wine_quality_loss: 0.2549 - wine_type_loss: 0.0168 - wine_quality_root_mean_squared_error: 0.5051 - wine_type_accuracy: 0.9965 - val_loss: 0.3372 - val_wine_quality_loss: 0.3098 - val_wine_type_loss: 0.0262 - val_wine_quality_root_mean_squared_error: 0.5573 - val_wine_type_accuracy: 0.9937\n",
      "Epoch 160/180\n",
      "3155/3155 [==============================] - 0s 88us/sample - loss: 0.2710 - wine_quality_loss: 0.2540 - wine_type_loss: 0.0168 - wine_quality_root_mean_squared_error: 0.5042 - wine_type_accuracy: 0.9965 - val_loss: 0.3375 - val_wine_quality_loss: 0.3101 - val_wine_type_loss: 0.0262 - val_wine_quality_root_mean_squared_error: 0.5576 - val_wine_type_accuracy: 0.9937\n",
      "Epoch 161/180\n",
      "3155/3155 [==============================] - 0s 75us/sample - loss: 0.2707 - wine_quality_loss: 0.2541 - wine_type_loss: 0.0167 - wine_quality_root_mean_squared_error: 0.5040 - wine_type_accuracy: 0.9965 - val_loss: 0.3386 - val_wine_quality_loss: 0.3113 - val_wine_type_loss: 0.0262 - val_wine_quality_root_mean_squared_error: 0.5587 - val_wine_type_accuracy: 0.9937\n",
      "Epoch 162/180\n",
      "3155/3155 [==============================] - 0s 90us/sample - loss: 0.2698 - wine_quality_loss: 0.2528 - wine_type_loss: 0.0167 - wine_quality_root_mean_squared_error: 0.5031 - wine_type_accuracy: 0.9965 - val_loss: 0.3348 - val_wine_quality_loss: 0.3073 - val_wine_type_loss: 0.0262 - val_wine_quality_root_mean_squared_error: 0.5553 - val_wine_type_accuracy: 0.9937\n",
      "Epoch 163/180\n",
      "3155/3155 [==============================] - 0s 89us/sample - loss: 0.2703 - wine_quality_loss: 0.2534 - wine_type_loss: 0.0166 - wine_quality_root_mean_squared_error: 0.5037 - wine_type_accuracy: 0.9965 - val_loss: 0.3423 - val_wine_quality_loss: 0.3150 - val_wine_type_loss: 0.0262 - val_wine_quality_root_mean_squared_error: 0.5619 - val_wine_type_accuracy: 0.9937\n",
      "Epoch 164/180\n",
      "3155/3155 [==============================] - 0s 74us/sample - loss: 0.2692 - wine_quality_loss: 0.2524 - wine_type_loss: 0.0178 - wine_quality_root_mean_squared_error: 0.5027 - wine_type_accuracy: 0.9965 - val_loss: 0.3414 - val_wine_quality_loss: 0.3140 - val_wine_type_loss: 0.0261 - val_wine_quality_root_mean_squared_error: 0.5612 - val_wine_type_accuracy: 0.9937\n",
      "Epoch 165/180\n",
      "3155/3155 [==============================] - 0s 89us/sample - loss: 0.2696 - wine_quality_loss: 0.2532 - wine_type_loss: 0.0164 - wine_quality_root_mean_squared_error: 0.5032 - wine_type_accuracy: 0.9968 - val_loss: 0.3380 - val_wine_quality_loss: 0.3104 - val_wine_type_loss: 0.0263 - val_wine_quality_root_mean_squared_error: 0.5580 - val_wine_type_accuracy: 0.9937\n",
      "Epoch 166/180\n",
      "3155/3155 [==============================] - 0s 87us/sample - loss: 0.2689 - wine_quality_loss: 0.2524 - wine_type_loss: 0.0163 - wine_quality_root_mean_squared_error: 0.5025 - wine_type_accuracy: 0.9965 - val_loss: 0.3448 - val_wine_quality_loss: 0.3172 - val_wine_type_loss: 0.0263 - val_wine_quality_root_mean_squared_error: 0.5641 - val_wine_type_accuracy: 0.9937\n",
      "Epoch 167/180\n",
      "3155/3155 [==============================] - 0s 75us/sample - loss: 0.2681 - wine_quality_loss: 0.2517 - wine_type_loss: 0.0163 - wine_quality_root_mean_squared_error: 0.5017 - wine_type_accuracy: 0.9965 - val_loss: 0.3460 - val_wine_quality_loss: 0.3183 - val_wine_type_loss: 0.0262 - val_wine_quality_root_mean_squared_error: 0.5652 - val_wine_type_accuracy: 0.9937\n",
      "Epoch 168/180\n",
      "3155/3155 [==============================] - 0s 90us/sample - loss: 0.2676 - wine_quality_loss: 0.2513 - wine_type_loss: 0.0162 - wine_quality_root_mean_squared_error: 0.5014 - wine_type_accuracy: 0.9965 - val_loss: 0.3395 - val_wine_quality_loss: 0.3122 - val_wine_type_loss: 0.0261 - val_wine_quality_root_mean_squared_error: 0.5595 - val_wine_type_accuracy: 0.9937\n",
      "Epoch 169/180\n",
      "3155/3155 [==============================] - 0s 88us/sample - loss: 0.2657 - wine_quality_loss: 0.2491 - wine_type_loss: 0.0161 - wine_quality_root_mean_squared_error: 0.4996 - wine_type_accuracy: 0.9965 - val_loss: 0.3447 - val_wine_quality_loss: 0.3176 - val_wine_type_loss: 0.0261 - val_wine_quality_root_mean_squared_error: 0.5642 - val_wine_type_accuracy: 0.9937\n",
      "Epoch 170/180\n",
      "3155/3155 [==============================] - 0s 76us/sample - loss: 0.2674 - wine_quality_loss: 0.2513 - wine_type_loss: 0.0161 - wine_quality_root_mean_squared_error: 0.5013 - wine_type_accuracy: 0.9965 - val_loss: 0.3346 - val_wine_quality_loss: 0.3074 - val_wine_type_loss: 0.0262 - val_wine_quality_root_mean_squared_error: 0.5550 - val_wine_type_accuracy: 0.9937\n",
      "Epoch 171/180\n",
      "3155/3155 [==============================] - 0s 90us/sample - loss: 0.2661 - wine_quality_loss: 0.2498 - wine_type_loss: 0.0161 - wine_quality_root_mean_squared_error: 0.5000 - wine_type_accuracy: 0.9965 - val_loss: 0.3521 - val_wine_quality_loss: 0.3245 - val_wine_type_loss: 0.0261 - val_wine_quality_root_mean_squared_error: 0.5706 - val_wine_type_accuracy: 0.9937\n",
      "Epoch 172/180\n",
      "3155/3155 [==============================] - 0s 88us/sample - loss: 0.2669 - wine_quality_loss: 0.2505 - wine_type_loss: 0.0159 - wine_quality_root_mean_squared_error: 0.5010 - wine_type_accuracy: 0.9965 - val_loss: 0.3375 - val_wine_quality_loss: 0.3102 - val_wine_type_loss: 0.0262 - val_wine_quality_root_mean_squared_error: 0.5576 - val_wine_type_accuracy: 0.9937\n",
      "Epoch 173/180\n",
      "3155/3155 [==============================] - 0s 77us/sample - loss: 0.2664 - wine_quality_loss: 0.2502 - wine_type_loss: 0.0159 - wine_quality_root_mean_squared_error: 0.5004 - wine_type_accuracy: 0.9965 - val_loss: 0.3464 - val_wine_quality_loss: 0.3188 - val_wine_type_loss: 0.0262 - val_wine_quality_root_mean_squared_error: 0.5655 - val_wine_type_accuracy: 0.9937\n",
      "Epoch 174/180\n",
      "3155/3155 [==============================] - 0s 92us/sample - loss: 0.2647 - wine_quality_loss: 0.2487 - wine_type_loss: 0.0158 - wine_quality_root_mean_squared_error: 0.4988 - wine_type_accuracy: 0.9965 - val_loss: 0.3386 - val_wine_quality_loss: 0.3112 - val_wine_type_loss: 0.0263 - val_wine_quality_root_mean_squared_error: 0.5586 - val_wine_type_accuracy: 0.9937\n",
      "Epoch 175/180\n",
      "3155/3155 [==============================] - 0s 91us/sample - loss: 0.2644 - wine_quality_loss: 0.2489 - wine_type_loss: 0.0157 - wine_quality_root_mean_squared_error: 0.4986 - wine_type_accuracy: 0.9965 - val_loss: 0.3390 - val_wine_quality_loss: 0.3113 - val_wine_type_loss: 0.0262 - val_wine_quality_root_mean_squared_error: 0.5590 - val_wine_type_accuracy: 0.9937\n",
      "Epoch 176/180\n",
      "3155/3155 [==============================] - 0s 90us/sample - loss: 0.2660 - wine_quality_loss: 0.2498 - wine_type_loss: 0.0157 - wine_quality_root_mean_squared_error: 0.5002 - wine_type_accuracy: 0.9965 - val_loss: 0.3401 - val_wine_quality_loss: 0.3126 - val_wine_type_loss: 0.0264 - val_wine_quality_root_mean_squared_error: 0.5598 - val_wine_type_accuracy: 0.9937\n",
      "Epoch 177/180\n",
      "3155/3155 [==============================] - 0s 74us/sample - loss: 0.2641 - wine_quality_loss: 0.2480 - wine_type_loss: 0.0156 - wine_quality_root_mean_squared_error: 0.4985 - wine_type_accuracy: 0.9965 - val_loss: 0.3359 - val_wine_quality_loss: 0.3085 - val_wine_type_loss: 0.0263 - val_wine_quality_root_mean_squared_error: 0.5561 - val_wine_type_accuracy: 0.9937\n",
      "Epoch 178/180\n",
      "3155/3155 [==============================] - 0s 90us/sample - loss: 0.2641 - wine_quality_loss: 0.2482 - wine_type_loss: 0.0156 - wine_quality_root_mean_squared_error: 0.4985 - wine_type_accuracy: 0.9965 - val_loss: 0.3378 - val_wine_quality_loss: 0.3106 - val_wine_type_loss: 0.0261 - val_wine_quality_root_mean_squared_error: 0.5580 - val_wine_type_accuracy: 0.9937\n",
      "Epoch 179/180\n",
      "3155/3155 [==============================] - 0s 91us/sample - loss: 0.2641 - wine_quality_loss: 0.2488 - wine_type_loss: 0.0155 - wine_quality_root_mean_squared_error: 0.4985 - wine_type_accuracy: 0.9965 - val_loss: 0.3431 - val_wine_quality_loss: 0.3157 - val_wine_type_loss: 0.0262 - val_wine_quality_root_mean_squared_error: 0.5627 - val_wine_type_accuracy: 0.9937\n",
      "Epoch 180/180\n",
      "3155/3155 [==============================] - 0s 88us/sample - loss: 0.2640 - wine_quality_loss: 0.2492 - wine_type_loss: 0.0154 - wine_quality_root_mean_squared_error: 0.4985 - wine_type_accuracy: 0.9965 - val_loss: 0.3394 - val_wine_quality_loss: 0.3123 - val_wine_type_loss: 0.0262 - val_wine_quality_root_mean_squared_error: 0.5593 - val_wine_type_accuracy: 0.9937\n"
     ]
    }
   ],
   "source": [
    "# Please uncomment all lines in this cell and replace those marked with `# YOUR CODE HERE`.\n",
    "# You can select all lines in this code cell with Ctrl+A (Windows/Linux) or Cmd+A (Mac), then press Ctrl+/ (Windows/Linux) or Cmd+/ (Mac) to uncomment.\n",
    "\n",
    "history = model.fit(norm_train_X, train_Y,\n",
    "                    epochs = 180, validation_data=(norm_val_X, val_Y))"
   ]
  },
  {
   "cell_type": "code",
   "execution_count": 40,
   "metadata": {
    "deletable": false,
    "editable": false,
    "nbgrader": {
     "cell_type": "code",
     "checksum": "fadad8896eda9c8c2115970724b15508",
     "grade": true,
     "grade_id": "cell-eb4d5b41bef8f0ab",
     "locked": true,
     "points": 1,
     "schema_version": 3,
     "solution": false,
     "task": false
    }
   },
   "outputs": [
    {
     "name": "stdout",
     "output_type": "stream",
     "text": [
      "\u001b[92m All public tests passed\n"
     ]
    }
   ],
   "source": [
    "utils.test_history(history)"
   ]
  },
  {
   "cell_type": "code",
   "execution_count": 41,
   "metadata": {
    "colab": {},
    "colab_type": "code",
    "id": "CubF2J2gSf6q"
   },
   "outputs": [
    {
     "name": "stdout",
     "output_type": "stream",
     "text": [
      "789/789 [==============================] - 0s 21us/sample - loss: 0.3394 - wine_quality_loss: 0.3123 - wine_type_loss: 0.0262 - wine_quality_root_mean_squared_error: 0.5593 - wine_type_accuracy: 0.9937\n",
      "\n",
      "loss: 0.33940284144893496\n",
      "wine_quality_loss: 0.31233474612236023\n",
      "wine_type_loss: 0.0261891670525074\n",
      "wine_quality_rmse: 0.5593497157096863\n",
      "wine_type_accuracy: 0.9936628937721252\n"
     ]
    }
   ],
   "source": [
    "# Gather the training metrics\n",
    "loss, wine_quality_loss, wine_type_loss, wine_quality_rmse, wine_type_accuracy = model.evaluate(x=norm_val_X, y=val_Y)\n",
    "\n",
    "print()\n",
    "print(f'loss: {loss}')\n",
    "print(f'wine_quality_loss: {wine_quality_loss}')\n",
    "print(f'wine_type_loss: {wine_type_loss}')\n",
    "print(f'wine_quality_rmse: {wine_quality_rmse}')\n",
    "print(f'wine_type_accuracy: {wine_type_accuracy}')\n",
    "\n",
    "# EXPECTED VALUES\n",
    "# ~ 0.30 - 0.38\n",
    "# ~ 0.30 - 0.38\n",
    "# ~ 0.018 - 0.030\n",
    "# ~ 0.50 - 0.62\n",
    "# ~ 0.97 - 1.0\n",
    "\n",
    "# Example:\n",
    "#0.3657050132751465\n",
    "#0.3463745415210724\n",
    "#0.019330406561493874\n",
    "#0.5885359048843384\n",
    "#0.9974651336669922"
   ]
  },
  {
   "cell_type": "markdown",
   "metadata": {
    "colab_type": "text",
    "id": "gPtTGAP4usnm"
   },
   "source": [
    "## Analyze the Model Performance\n",
    "\n",
    "Note that the model has two outputs. The output at index 0 is quality and index 1 is wine type\n",
    "\n",
    "So, round the quality predictions to the nearest integer."
   ]
  },
  {
   "cell_type": "code",
   "execution_count": 42,
   "metadata": {
    "colab": {},
    "colab_type": "code",
    "id": "tBq9PEeAaW-Y"
   },
   "outputs": [],
   "source": [
    "predictions = model.predict(norm_test_X)\n",
    "quality_pred = predictions[0]\n",
    "type_pred = predictions[1]"
   ]
  },
  {
   "cell_type": "code",
   "execution_count": 43,
   "metadata": {
    "colab": {},
    "colab_type": "code",
    "id": "YLhgTR4xTIxj"
   },
   "outputs": [
    {
     "name": "stdout",
     "output_type": "stream",
     "text": [
      "[5.6964607]\n"
     ]
    }
   ],
   "source": [
    "print(quality_pred[0])\n",
    "\n",
    "# EXPECTED OUTPUT\n",
    "# 5.6 - 6.0"
   ]
  },
  {
   "cell_type": "code",
   "execution_count": 44,
   "metadata": {
    "colab": {},
    "colab_type": "code",
    "id": "MPi-eYfGTUXi"
   },
   "outputs": [
    {
     "name": "stdout",
     "output_type": "stream",
     "text": [
      "[0.00036232]\n",
      "[0.99999785]\n"
     ]
    }
   ],
   "source": [
    "print(type_pred[0])\n",
    "print(type_pred[944])\n",
    "\n",
    "# EXPECTED OUTPUT\n",
    "# A number close to zero\n",
    "# A number close to or equal to 1"
   ]
  },
  {
   "cell_type": "markdown",
   "metadata": {
    "colab_type": "text",
    "id": "Kohk-9C6vt_s"
   },
   "source": [
    "### Plot Utilities\n",
    "\n",
    "We define a few utilities to visualize the model performance."
   ]
  },
  {
   "cell_type": "code",
   "execution_count": 45,
   "metadata": {
    "colab": {},
    "colab_type": "code",
    "id": "62gEOFUhn6aQ"
   },
   "outputs": [],
   "source": [
    "def plot_metrics(metric_name, title, ylim=5):\n",
    "    plt.title(title)\n",
    "    plt.ylim(0,ylim)\n",
    "    plt.plot(history.history[metric_name],color='blue',label=metric_name)\n",
    "    plt.plot(history.history['val_' + metric_name],color='green',label='val_' + metric_name)"
   ]
  },
  {
   "cell_type": "code",
   "execution_count": 46,
   "metadata": {
    "colab": {},
    "colab_type": "code",
    "id": "6rfgSx7uz5dj"
   },
   "outputs": [],
   "source": [
    "def plot_confusion_matrix(y_true, y_pred, title='', labels=[0,1]):\n",
    "    cm = confusion_matrix(y_true, y_pred)\n",
    "    fig = plt.figure()\n",
    "    ax = fig.add_subplot(111)\n",
    "    cax = ax.matshow(cm)\n",
    "    plt.title('Confusion matrix of the classifier')\n",
    "    fig.colorbar(cax)\n",
    "    ax.set_xticklabels([''] + labels)\n",
    "    ax.set_yticklabels([''] + labels)\n",
    "    plt.xlabel('Predicted')\n",
    "    plt.ylabel('True')\n",
    "    fmt = 'd'\n",
    "    thresh = cm.max() / 2.\n",
    "    for i, j in itertools.product(range(cm.shape[0]), range(cm.shape[1])):\n",
    "          plt.text(j, i, format(cm[i, j], fmt),\n",
    "                  horizontalalignment=\"center\",\n",
    "                  color=\"black\" if cm[i, j] > thresh else \"white\")\n",
    "    plt.show()"
   ]
  },
  {
   "cell_type": "code",
   "execution_count": 47,
   "metadata": {
    "colab": {},
    "colab_type": "code",
    "id": "dfVLIqi017Vf"
   },
   "outputs": [],
   "source": [
    "def plot_diff(y_true, y_pred, title = '' ):\n",
    "    plt.scatter(y_true, y_pred)\n",
    "    plt.title(title)\n",
    "    plt.xlabel('True Values')\n",
    "    plt.ylabel('Predictions')\n",
    "    plt.axis('equal')\n",
    "    plt.axis('square')\n",
    "    plt.plot([-100, 100], [-100, 100])\n",
    "    return plt"
   ]
  },
  {
   "cell_type": "markdown",
   "metadata": {
    "colab_type": "text",
    "id": "8sd1jdFbwE0I"
   },
   "source": [
    "### Plots for Metrics"
   ]
  },
  {
   "cell_type": "code",
   "execution_count": 48,
   "metadata": {
    "colab": {},
    "colab_type": "code",
    "id": "f3MwZ5J1pOfj"
   },
   "outputs": [
    {
     "data": {
      "image/png": "[encoded data removed]",
      "text/plain": [
       "<Figure size 432x288 with 1 Axes>"
      ]
     },
     "metadata": {
      "needs_background": "light"
     },
     "output_type": "display_data"
    }
   ],
   "source": [
    "plot_metrics('wine_quality_root_mean_squared_error', 'RMSE', ylim=2)"
   ]
  },
  {
   "cell_type": "code",
   "execution_count": 49,
   "metadata": {
    "colab": {},
    "colab_type": "code",
    "id": "QIAxEezCppnd"
   },
   "outputs": [
    {
     "data": {
      "image/png": "[encoded data removed]",
      "text/plain": [
       "<Figure size 432x288 with 1 Axes>"
      ]
     },
     "metadata": {
      "needs_background": "light"
     },
     "output_type": "display_data"
    }
   ],
   "source": [
    "plot_metrics('wine_type_loss', 'Wine Type Loss', ylim=0.2)"
   ]
  },
  {
   "cell_type": "markdown",
   "metadata": {
    "colab_type": "text",
    "id": "uYV9AOAMwI9p"
   },
   "source": [
    "### Plots for Confusion Matrix\n",
    "\n",
    "Plot the confusion matrices for wine type. You can see that the model performs well for prediction of wine type from the confusion matrix and the loss metrics."
   ]
  },
  {
   "cell_type": "code",
   "execution_count": 50,
   "metadata": {
    "colab": {},
    "colab_type": "code",
    "id": "C3hvTYxIaf3n"
   },
   "outputs": [
    {
     "data": {
      "image/png": "[encoded data removed]",
      "text/plain": [
       "<Figure size 432x288 with 2 Axes>"
      ]
     },
     "metadata": {
      "needs_background": "light"
     },
     "output_type": "display_data"
    }
   ],
   "source": [
    "plot_confusion_matrix(test_Y[1], np.round(type_pred), title='Wine Type', labels = [0, 1])"
   ]
  },
  {
   "cell_type": "code",
   "execution_count": 51,
   "metadata": {
    "colab": {},
    "colab_type": "code",
    "id": "GW91ym8P2I5y"
   },
   "outputs": [
    {
     "data": {
      "image/png": "[encoded data removed]",
      "text/plain": [
       "<Figure size 432x288 with 1 Axes>"
      ]
     },
     "metadata": {
      "needs_background": "light"
     },
     "output_type": "display_data"
    }
   ],
   "source": [
    "scatter_plot = plot_diff(test_Y[0], quality_pred, title='Type')"
   ]
  }
 ],
 "metadata": {
  "colab": {
   "include_colab_link": true,
   "name": "exercise-answer.ipynb",
   "provenance": []
  },
  "kernelspec": {
   "display_name": "Python 3",
   "language": "python",
   "name": "python3"
  },
  "language_info": {
   "codemirror_mode": {
    "name": "ipython",
    "version": 3
   },
   "file_extension": ".py",
   "mimetype": "text/x-python",
   "name": "python",
   "nbconvert_exporter": "python",
   "pygments_lexer": "ipython3",
   "version": "3.7.6"
  }
 },
 "nbformat": 4,
 "nbformat_minor": 4
}
