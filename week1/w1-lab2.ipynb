{
 "cells": [
  {
   "cell_type": "markdown",
   "metadata": {
    "id": "tCNw45vmDtsC"
   },
   "source": [
    "# Ungraded Lab: Build a Multi-output Model\n",
    "In this lab, we'll show how you can build models with more than one output. The dataset we will be working on is available from the [UCI Machine Learning Repository](https://archive.ics.uci.edu/ml/datasets/Energy+efficiency). It is an Energy Efficiency dataset which uses the bulding features (e.g. wall area, roof area) as inputs and has two outputs: Cooling Load and Heating Load. Let's see how we can build a model to train on this data."
   ]
  },
  {
   "cell_type": "markdown",
   "metadata": {
    "id": "KPX2B3TcEsjX"
   },
   "source": [
    "### Imports"
   ]
  },
  {
   "cell_type": "code",
   "execution_count": 1,
   "metadata": {
    "id": "Pw3YD4fJDGXN"
   },
   "outputs": [],
   "source": [
    "try:\n",
    "  # %tensorflow_version only exists in Colab.\n",
    "  %tensorflow_version 2.x\n",
    "except Exception:\n",
    "  pass\n",
    "\n",
    "import tensorflow as tf\n",
    "import numpy as np\n",
    "import matplotlib.pyplot as plt\n",
    "import pandas as pd\n",
    "from tensorflow.keras.models import Model\n",
    "from tensorflow.keras.layers import Dense, Input\n",
    "from sklearn.model_selection import train_test_split"
   ]
  },
  {
   "cell_type": "markdown",
   "metadata": {
    "id": "hGcGbnzJE_Ji"
   },
   "source": [
    "### Utilities\n",
    "We define a few utilities for data conversion and visualization to make our code more neat."
   ]
  },
  {
   "cell_type": "code",
   "execution_count": 2,
   "metadata": {
    "id": "178tL9zZFDgO"
   },
   "outputs": [],
   "source": [
    "def format_output(data):\n",
    "    y1 = data.pop('Y1')\n",
    "    y1 = np.array(y1)\n",
    "    y2 = data.pop('Y2')\n",
    "    y2 = np.array(y2)\n",
    "    return y1, y2\n",
    "\n",
    "\n",
    "def norm(x):\n",
    "    return (x - train_stats['mean']) / train_stats['std']\n",
    "\n",
    "\n",
    "def plot_diff(y_true, y_pred, title=''):\n",
    "    plt.scatter(y_true, y_pred)\n",
    "    plt.title(title)\n",
    "    plt.xlabel('True Values')\n",
    "    plt.ylabel('Predictions')\n",
    "    plt.axis('equal')\n",
    "    plt.axis('square')\n",
    "    plt.xlim(plt.xlim())\n",
    "    plt.ylim(plt.ylim())\n",
    "    plt.plot([-100, 100], [-100, 100])\n",
    "    plt.show()\n",
    "\n",
    "\n",
    "def plot_metrics(metric_name, title, ylim=5):\n",
    "    plt.title(title)\n",
    "    plt.ylim(0, ylim)\n",
    "    plt.plot(history.history[metric_name], color='blue', label=metric_name)\n",
    "    plt.plot(history.history['val_' + metric_name], color='green', label='val_' + metric_name)\n",
    "    plt.show()"
   ]
  },
  {
   "cell_type": "markdown",
   "metadata": {
    "id": "Wh4V-tJdGsv8"
   },
   "source": [
    "### Prepare the Data\n",
    "We download the dataset and format it for training."
   ]
  },
  {
   "cell_type": "code",
   "execution_count": 32,
   "metadata": {},
   "outputs": [
    {
     "ename": "KeyError",
     "evalue": "'[10 11] not found in axis'",
     "output_type": "error",
     "traceback": [
      "\u001b[1;31m---------------------------------------------------------------------------\u001b[0m",
      "\u001b[1;31mKeyError\u001b[0m                                  Traceback (most recent call last)",
      "\u001b[1;32m<ipython-input-32-37bd5ed5e5c4>\u001b[0m in \u001b[0;36m<module>\u001b[1;34m\u001b[0m\n\u001b[0;32m      5\u001b[0m \u001b[0mdf\u001b[0m \u001b[1;33m=\u001b[0m \u001b[0mpd\u001b[0m\u001b[1;33m.\u001b[0m\u001b[0mread_excel\u001b[0m\u001b[1;33m(\u001b[0m\u001b[0mURI\u001b[0m\u001b[1;33m)\u001b[0m\u001b[1;33m\u001b[0m\u001b[1;33m\u001b[0m\u001b[0m\n\u001b[0;32m      6\u001b[0m \u001b[0mdf\u001b[0m \u001b[1;33m=\u001b[0m \u001b[0mdf\u001b[0m\u001b[1;33m.\u001b[0m\u001b[0msample\u001b[0m\u001b[1;33m(\u001b[0m\u001b[0mfrac\u001b[0m\u001b[1;33m=\u001b[0m\u001b[1;36m1\u001b[0m\u001b[1;33m)\u001b[0m\u001b[1;33m.\u001b[0m\u001b[0mreset_index\u001b[0m\u001b[1;33m(\u001b[0m\u001b[0mdrop\u001b[0m\u001b[1;33m=\u001b[0m\u001b[1;32mTrue\u001b[0m\u001b[1;33m)\u001b[0m\u001b[1;33m\u001b[0m\u001b[1;33m\u001b[0m\u001b[0m\n\u001b[1;32m----> 7\u001b[1;33m \u001b[0mdf\u001b[0m\u001b[1;33m.\u001b[0m\u001b[0mdrop\u001b[0m\u001b[1;33m(\u001b[0m\u001b[1;33m[\u001b[0m\u001b[1;36m10\u001b[0m\u001b[1;33m,\u001b[0m \u001b[1;36m11\u001b[0m\u001b[1;33m]\u001b[0m\u001b[1;33m,\u001b[0m \u001b[0maxis\u001b[0m\u001b[1;33m=\u001b[0m\u001b[1;36m1\u001b[0m\u001b[1;33m,\u001b[0m \u001b[0minplace\u001b[0m\u001b[1;33m=\u001b[0m\u001b[1;32mTrue\u001b[0m\u001b[1;33m)\u001b[0m\u001b[1;33m\u001b[0m\u001b[1;33m\u001b[0m\u001b[0m\n\u001b[0m\u001b[0;32m      8\u001b[0m \u001b[1;31m#df = df.dropna(axis=0)\u001b[0m\u001b[1;33m\u001b[0m\u001b[1;33m\u001b[0m\u001b[1;33m\u001b[0m\u001b[0m\n\u001b[0;32m      9\u001b[0m \u001b[1;33m\u001b[0m\u001b[0m\n",
      "\u001b[1;32mc:\\users\\alysson\\appdata\\local\\programs\\python\\python38\\lib\\site-packages\\pandas\\core\\frame.py\u001b[0m in \u001b[0;36mdrop\u001b[1;34m(self, labels, axis, index, columns, level, inplace, errors)\u001b[0m\n\u001b[0;32m   4303\u001b[0m                 \u001b[0mweight\u001b[0m  \u001b[1;36m1.0\u001b[0m     \u001b[1;36m0.8\u001b[0m\u001b[1;33m\u001b[0m\u001b[1;33m\u001b[0m\u001b[0m\n\u001b[0;32m   4304\u001b[0m         \"\"\"\n\u001b[1;32m-> 4305\u001b[1;33m         return super().drop(\n\u001b[0m\u001b[0;32m   4306\u001b[0m             \u001b[0mlabels\u001b[0m\u001b[1;33m=\u001b[0m\u001b[0mlabels\u001b[0m\u001b[1;33m,\u001b[0m\u001b[1;33m\u001b[0m\u001b[1;33m\u001b[0m\u001b[0m\n\u001b[0;32m   4307\u001b[0m             \u001b[0maxis\u001b[0m\u001b[1;33m=\u001b[0m\u001b[0maxis\u001b[0m\u001b[1;33m,\u001b[0m\u001b[1;33m\u001b[0m\u001b[1;33m\u001b[0m\u001b[0m\n",
      "\u001b[1;32mc:\\users\\alysson\\appdata\\local\\programs\\python\\python38\\lib\\site-packages\\pandas\\core\\generic.py\u001b[0m in \u001b[0;36mdrop\u001b[1;34m(self, labels, axis, index, columns, level, inplace, errors)\u001b[0m\n\u001b[0;32m   4150\u001b[0m         \u001b[1;32mfor\u001b[0m \u001b[0maxis\u001b[0m\u001b[1;33m,\u001b[0m \u001b[0mlabels\u001b[0m \u001b[1;32min\u001b[0m \u001b[0maxes\u001b[0m\u001b[1;33m.\u001b[0m\u001b[0mitems\u001b[0m\u001b[1;33m(\u001b[0m\u001b[1;33m)\u001b[0m\u001b[1;33m:\u001b[0m\u001b[1;33m\u001b[0m\u001b[1;33m\u001b[0m\u001b[0m\n\u001b[0;32m   4151\u001b[0m             \u001b[1;32mif\u001b[0m \u001b[0mlabels\u001b[0m \u001b[1;32mis\u001b[0m \u001b[1;32mnot\u001b[0m \u001b[1;32mNone\u001b[0m\u001b[1;33m:\u001b[0m\u001b[1;33m\u001b[0m\u001b[1;33m\u001b[0m\u001b[0m\n\u001b[1;32m-> 4152\u001b[1;33m                 \u001b[0mobj\u001b[0m \u001b[1;33m=\u001b[0m \u001b[0mobj\u001b[0m\u001b[1;33m.\u001b[0m\u001b[0m_drop_axis\u001b[0m\u001b[1;33m(\u001b[0m\u001b[0mlabels\u001b[0m\u001b[1;33m,\u001b[0m \u001b[0maxis\u001b[0m\u001b[1;33m,\u001b[0m \u001b[0mlevel\u001b[0m\u001b[1;33m=\u001b[0m\u001b[0mlevel\u001b[0m\u001b[1;33m,\u001b[0m \u001b[0merrors\u001b[0m\u001b[1;33m=\u001b[0m\u001b[0merrors\u001b[0m\u001b[1;33m)\u001b[0m\u001b[1;33m\u001b[0m\u001b[1;33m\u001b[0m\u001b[0m\n\u001b[0m\u001b[0;32m   4153\u001b[0m \u001b[1;33m\u001b[0m\u001b[0m\n\u001b[0;32m   4154\u001b[0m         \u001b[1;32mif\u001b[0m \u001b[0minplace\u001b[0m\u001b[1;33m:\u001b[0m\u001b[1;33m\u001b[0m\u001b[1;33m\u001b[0m\u001b[0m\n",
      "\u001b[1;32mc:\\users\\alysson\\appdata\\local\\programs\\python\\python38\\lib\\site-packages\\pandas\\core\\generic.py\u001b[0m in \u001b[0;36m_drop_axis\u001b[1;34m(self, labels, axis, level, errors)\u001b[0m\n\u001b[0;32m   4185\u001b[0m                 \u001b[0mnew_axis\u001b[0m \u001b[1;33m=\u001b[0m \u001b[0maxis\u001b[0m\u001b[1;33m.\u001b[0m\u001b[0mdrop\u001b[0m\u001b[1;33m(\u001b[0m\u001b[0mlabels\u001b[0m\u001b[1;33m,\u001b[0m \u001b[0mlevel\u001b[0m\u001b[1;33m=\u001b[0m\u001b[0mlevel\u001b[0m\u001b[1;33m,\u001b[0m \u001b[0merrors\u001b[0m\u001b[1;33m=\u001b[0m\u001b[0merrors\u001b[0m\u001b[1;33m)\u001b[0m\u001b[1;33m\u001b[0m\u001b[1;33m\u001b[0m\u001b[0m\n\u001b[0;32m   4186\u001b[0m             \u001b[1;32melse\u001b[0m\u001b[1;33m:\u001b[0m\u001b[1;33m\u001b[0m\u001b[1;33m\u001b[0m\u001b[0m\n\u001b[1;32m-> 4187\u001b[1;33m                 \u001b[0mnew_axis\u001b[0m \u001b[1;33m=\u001b[0m \u001b[0maxis\u001b[0m\u001b[1;33m.\u001b[0m\u001b[0mdrop\u001b[0m\u001b[1;33m(\u001b[0m\u001b[0mlabels\u001b[0m\u001b[1;33m,\u001b[0m \u001b[0merrors\u001b[0m\u001b[1;33m=\u001b[0m\u001b[0merrors\u001b[0m\u001b[1;33m)\u001b[0m\u001b[1;33m\u001b[0m\u001b[1;33m\u001b[0m\u001b[0m\n\u001b[0m\u001b[0;32m   4188\u001b[0m             \u001b[0mresult\u001b[0m \u001b[1;33m=\u001b[0m \u001b[0mself\u001b[0m\u001b[1;33m.\u001b[0m\u001b[0mreindex\u001b[0m\u001b[1;33m(\u001b[0m\u001b[1;33m**\u001b[0m\u001b[1;33m{\u001b[0m\u001b[0maxis_name\u001b[0m\u001b[1;33m:\u001b[0m \u001b[0mnew_axis\u001b[0m\u001b[1;33m}\u001b[0m\u001b[1;33m)\u001b[0m\u001b[1;33m\u001b[0m\u001b[1;33m\u001b[0m\u001b[0m\n\u001b[0;32m   4189\u001b[0m \u001b[1;33m\u001b[0m\u001b[0m\n",
      "\u001b[1;32mc:\\users\\alysson\\appdata\\local\\programs\\python\\python38\\lib\\site-packages\\pandas\\core\\indexes\\base.py\u001b[0m in \u001b[0;36mdrop\u001b[1;34m(self, labels, errors)\u001b[0m\n\u001b[0;32m   5589\u001b[0m         \u001b[1;32mif\u001b[0m \u001b[0mmask\u001b[0m\u001b[1;33m.\u001b[0m\u001b[0many\u001b[0m\u001b[1;33m(\u001b[0m\u001b[1;33m)\u001b[0m\u001b[1;33m:\u001b[0m\u001b[1;33m\u001b[0m\u001b[1;33m\u001b[0m\u001b[0m\n\u001b[0;32m   5590\u001b[0m             \u001b[1;32mif\u001b[0m \u001b[0merrors\u001b[0m \u001b[1;33m!=\u001b[0m \u001b[1;34m\"ignore\"\u001b[0m\u001b[1;33m:\u001b[0m\u001b[1;33m\u001b[0m\u001b[1;33m\u001b[0m\u001b[0m\n\u001b[1;32m-> 5591\u001b[1;33m                 \u001b[1;32mraise\u001b[0m \u001b[0mKeyError\u001b[0m\u001b[1;33m(\u001b[0m\u001b[1;34mf\"{labels[mask]} not found in axis\"\u001b[0m\u001b[1;33m)\u001b[0m\u001b[1;33m\u001b[0m\u001b[1;33m\u001b[0m\u001b[0m\n\u001b[0m\u001b[0;32m   5592\u001b[0m             \u001b[0mindexer\u001b[0m \u001b[1;33m=\u001b[0m \u001b[0mindexer\u001b[0m\u001b[1;33m[\u001b[0m\u001b[1;33m~\u001b[0m\u001b[0mmask\u001b[0m\u001b[1;33m]\u001b[0m\u001b[1;33m\u001b[0m\u001b[1;33m\u001b[0m\u001b[0m\n\u001b[0;32m   5593\u001b[0m         \u001b[1;32mreturn\u001b[0m \u001b[0mself\u001b[0m\u001b[1;33m.\u001b[0m\u001b[0mdelete\u001b[0m\u001b[1;33m(\u001b[0m\u001b[0mindexer\u001b[0m\u001b[1;33m)\u001b[0m\u001b[1;33m\u001b[0m\u001b[1;33m\u001b[0m\u001b[0m\n",
      "\u001b[1;31mKeyError\u001b[0m: '[10 11] not found in axis'"
     ]
    }
   ],
   "source": [
    "# Specify data URI\n",
    "URI = 'data/ENB2012_data.xlsx'\n",
    "\n",
    "# Use pandas excel reader\n",
    "df = pd.read_excel(URI)\n",
    "df = df.sample(frac=1).reset_index(drop=True)\n",
    "df.drop([10, 11], axis=1, inplace=True)\n",
    "#df = df.dropna(axis=0)\n",
    "\n",
    "# Split the data into train and test with 80 train / 20 test\n",
    "train, test = train_test_split(df, test_size=0.2)\n",
    "train_stats = train.describe()\n",
    "\n",
    "# Get Y1 and Y2 as the 2 outputs and format them as np arrays\n",
    "train_stats.pop('Y1')\n",
    "train_stats.pop('Y2')\n",
    "train_stats = train_stats.transpose()\n",
    "train_Y = format_output(train)\n",
    "test_Y = format_output(test)\n",
    "\n",
    "# Normalize the training and test data\n",
    "norm_train_X = norm(train)\n",
    "norm_test_X = norm(test)"
   ]
  },
  {
   "cell_type": "code",
   "execution_count": 30,
   "metadata": {},
   "outputs": [
    {
     "data": {
      "text/html": [
       "<div>\n",
       "<style scoped>\n",
       "    .dataframe tbody tr th:only-of-type {\n",
       "        vertical-align: middle;\n",
       "    }\n",
       "\n",
       "    .dataframe tbody tr th {\n",
       "        vertical-align: top;\n",
       "    }\n",
       "\n",
       "    .dataframe thead th {\n",
       "        text-align: right;\n",
       "    }\n",
       "</style>\n",
       "<table border=\"1\" class=\"dataframe\">\n",
       "  <thead>\n",
       "    <tr style=\"text-align: right;\">\n",
       "      <th></th>\n",
       "      <th>X1</th>\n",
       "      <th>X2</th>\n",
       "      <th>X3</th>\n",
       "      <th>X4</th>\n",
       "      <th>X5</th>\n",
       "      <th>X6</th>\n",
       "      <th>X7</th>\n",
       "      <th>X8</th>\n",
       "      <th>Y1</th>\n",
       "      <th>Y2</th>\n",
       "      <th>Unnamed: 10</th>\n",
       "      <th>Unnamed: 11</th>\n",
       "    </tr>\n",
       "  </thead>\n",
       "  <tbody>\n",
       "    <tr>\n",
       "      <th>0</th>\n",
       "      <td>0.98</td>\n",
       "      <td>514.5</td>\n",
       "      <td>294.0</td>\n",
       "      <td>110.25</td>\n",
       "      <td>7.0</td>\n",
       "      <td>2.0</td>\n",
       "      <td>0.0</td>\n",
       "      <td>0.0</td>\n",
       "      <td>15.55</td>\n",
       "      <td>21.33</td>\n",
       "      <td>NaN</td>\n",
       "      <td>NaN</td>\n",
       "    </tr>\n",
       "    <tr>\n",
       "      <th>1</th>\n",
       "      <td>0.98</td>\n",
       "      <td>514.5</td>\n",
       "      <td>294.0</td>\n",
       "      <td>110.25</td>\n",
       "      <td>7.0</td>\n",
       "      <td>3.0</td>\n",
       "      <td>0.0</td>\n",
       "      <td>0.0</td>\n",
       "      <td>15.55</td>\n",
       "      <td>21.33</td>\n",
       "      <td>NaN</td>\n",
       "      <td>NaN</td>\n",
       "    </tr>\n",
       "    <tr>\n",
       "      <th>2</th>\n",
       "      <td>0.98</td>\n",
       "      <td>514.5</td>\n",
       "      <td>294.0</td>\n",
       "      <td>110.25</td>\n",
       "      <td>7.0</td>\n",
       "      <td>4.0</td>\n",
       "      <td>0.0</td>\n",
       "      <td>0.0</td>\n",
       "      <td>15.55</td>\n",
       "      <td>21.33</td>\n",
       "      <td>NaN</td>\n",
       "      <td>NaN</td>\n",
       "    </tr>\n",
       "    <tr>\n",
       "      <th>3</th>\n",
       "      <td>0.98</td>\n",
       "      <td>514.5</td>\n",
       "      <td>294.0</td>\n",
       "      <td>110.25</td>\n",
       "      <td>7.0</td>\n",
       "      <td>5.0</td>\n",
       "      <td>0.0</td>\n",
       "      <td>0.0</td>\n",
       "      <td>15.55</td>\n",
       "      <td>21.33</td>\n",
       "      <td>NaN</td>\n",
       "      <td>NaN</td>\n",
       "    </tr>\n",
       "    <tr>\n",
       "      <th>4</th>\n",
       "      <td>0.90</td>\n",
       "      <td>563.5</td>\n",
       "      <td>318.5</td>\n",
       "      <td>122.50</td>\n",
       "      <td>7.0</td>\n",
       "      <td>2.0</td>\n",
       "      <td>0.0</td>\n",
       "      <td>0.0</td>\n",
       "      <td>20.84</td>\n",
       "      <td>28.28</td>\n",
       "      <td>NaN</td>\n",
       "      <td>NaN</td>\n",
       "    </tr>\n",
       "    <tr>\n",
       "      <th>...</th>\n",
       "      <td>...</td>\n",
       "      <td>...</td>\n",
       "      <td>...</td>\n",
       "      <td>...</td>\n",
       "      <td>...</td>\n",
       "      <td>...</td>\n",
       "      <td>...</td>\n",
       "      <td>...</td>\n",
       "      <td>...</td>\n",
       "      <td>...</td>\n",
       "      <td>...</td>\n",
       "      <td>...</td>\n",
       "    </tr>\n",
       "    <tr>\n",
       "      <th>1291</th>\n",
       "      <td>NaN</td>\n",
       "      <td>NaN</td>\n",
       "      <td>NaN</td>\n",
       "      <td>NaN</td>\n",
       "      <td>NaN</td>\n",
       "      <td>NaN</td>\n",
       "      <td>NaN</td>\n",
       "      <td>NaN</td>\n",
       "      <td>NaN</td>\n",
       "      <td>NaN</td>\n",
       "      <td>NaN</td>\n",
       "      <td>NaN</td>\n",
       "    </tr>\n",
       "    <tr>\n",
       "      <th>1292</th>\n",
       "      <td>NaN</td>\n",
       "      <td>NaN</td>\n",
       "      <td>NaN</td>\n",
       "      <td>NaN</td>\n",
       "      <td>NaN</td>\n",
       "      <td>NaN</td>\n",
       "      <td>NaN</td>\n",
       "      <td>NaN</td>\n",
       "      <td>NaN</td>\n",
       "      <td>NaN</td>\n",
       "      <td>NaN</td>\n",
       "      <td>NaN</td>\n",
       "    </tr>\n",
       "    <tr>\n",
       "      <th>1293</th>\n",
       "      <td>NaN</td>\n",
       "      <td>NaN</td>\n",
       "      <td>NaN</td>\n",
       "      <td>NaN</td>\n",
       "      <td>NaN</td>\n",
       "      <td>NaN</td>\n",
       "      <td>NaN</td>\n",
       "      <td>NaN</td>\n",
       "      <td>NaN</td>\n",
       "      <td>NaN</td>\n",
       "      <td>NaN</td>\n",
       "      <td>NaN</td>\n",
       "    </tr>\n",
       "    <tr>\n",
       "      <th>1294</th>\n",
       "      <td>NaN</td>\n",
       "      <td>NaN</td>\n",
       "      <td>NaN</td>\n",
       "      <td>NaN</td>\n",
       "      <td>NaN</td>\n",
       "      <td>NaN</td>\n",
       "      <td>NaN</td>\n",
       "      <td>NaN</td>\n",
       "      <td>NaN</td>\n",
       "      <td>NaN</td>\n",
       "      <td>NaN</td>\n",
       "      <td>NaN</td>\n",
       "    </tr>\n",
       "    <tr>\n",
       "      <th>1295</th>\n",
       "      <td>NaN</td>\n",
       "      <td>NaN</td>\n",
       "      <td>NaN</td>\n",
       "      <td>NaN</td>\n",
       "      <td>NaN</td>\n",
       "      <td>NaN</td>\n",
       "      <td>NaN</td>\n",
       "      <td>NaN</td>\n",
       "      <td>NaN</td>\n",
       "      <td>NaN</td>\n",
       "      <td>NaN</td>\n",
       "      <td>NaN</td>\n",
       "    </tr>\n",
       "  </tbody>\n",
       "</table>\n",
       "<p>1294 rows × 12 columns</p>\n",
       "</div>"
      ],
      "text/plain": [
       "        X1     X2     X3      X4   X5   X6   X7   X8     Y1     Y2  \\\n",
       "0     0.98  514.5  294.0  110.25  7.0  2.0  0.0  0.0  15.55  21.33   \n",
       "1     0.98  514.5  294.0  110.25  7.0  3.0  0.0  0.0  15.55  21.33   \n",
       "2     0.98  514.5  294.0  110.25  7.0  4.0  0.0  0.0  15.55  21.33   \n",
       "3     0.98  514.5  294.0  110.25  7.0  5.0  0.0  0.0  15.55  21.33   \n",
       "4     0.90  563.5  318.5  122.50  7.0  2.0  0.0  0.0  20.84  28.28   \n",
       "...    ...    ...    ...     ...  ...  ...  ...  ...    ...    ...   \n",
       "1291   NaN    NaN    NaN     NaN  NaN  NaN  NaN  NaN    NaN    NaN   \n",
       "1292   NaN    NaN    NaN     NaN  NaN  NaN  NaN  NaN    NaN    NaN   \n",
       "1293   NaN    NaN    NaN     NaN  NaN  NaN  NaN  NaN    NaN    NaN   \n",
       "1294   NaN    NaN    NaN     NaN  NaN  NaN  NaN  NaN    NaN    NaN   \n",
       "1295   NaN    NaN    NaN     NaN  NaN  NaN  NaN  NaN    NaN    NaN   \n",
       "\n",
       "      Unnamed: 10  Unnamed: 11  \n",
       "0             NaN          NaN  \n",
       "1             NaN          NaN  \n",
       "2             NaN          NaN  \n",
       "3             NaN          NaN  \n",
       "4             NaN          NaN  \n",
       "...           ...          ...  \n",
       "1291          NaN          NaN  \n",
       "1292          NaN          NaN  \n",
       "1293          NaN          NaN  \n",
       "1294          NaN          NaN  \n",
       "1295          NaN          NaN  \n",
       "\n",
       "[1294 rows x 12 columns]"
      ]
     },
     "execution_count": 30,
     "metadata": {},
     "output_type": "execute_result"
    }
   ],
   "source": [
    "df"
   ]
  },
  {
   "cell_type": "markdown",
   "metadata": {
    "id": "o9TDjVLhHelt"
   },
   "source": [
    "### Build the Model\n",
    "Here is how we'll build the model using the functional syntax. Notice that we can specify a list of outputs (i.e. `[y1_output, y2_output]`) when we instantiate the `Model()` class."
   ]
  },
  {
   "cell_type": "code",
   "execution_count": 7,
   "metadata": {
    "id": "DUnVeUaUHgUm"
   },
   "outputs": [
    {
     "name": "stdout",
     "output_type": "stream",
     "text": [
      "Model: \"model\"\n",
      "__________________________________________________________________________________________________\n",
      "Layer (type)                    Output Shape         Param #     Connected to                     \n",
      "==================================================================================================\n",
      "input_1 (InputLayer)            [(None, 10)]         0                                            \n",
      "__________________________________________________________________________________________________\n",
      "dense (Dense)                   (None, 128)          1408        input_1[0][0]                    \n",
      "__________________________________________________________________________________________________\n",
      "dense_1 (Dense)                 (None, 128)          16512       dense[0][0]                      \n",
      "__________________________________________________________________________________________________\n",
      "dense_2 (Dense)                 (None, 64)           8256        dense_1[0][0]                    \n",
      "__________________________________________________________________________________________________\n",
      "y1_output (Dense)               (None, 1)            129         dense_1[0][0]                    \n",
      "__________________________________________________________________________________________________\n",
      "y2_output (Dense)               (None, 1)            65          dense_2[0][0]                    \n",
      "==================================================================================================\n",
      "Total params: 26,370\n",
      "Trainable params: 26,370\n",
      "Non-trainable params: 0\n",
      "__________________________________________________________________________________________________\n",
      "None\n"
     ]
    }
   ],
   "source": [
    "# Define model layers.\n",
    "input_layer = Input(shape=(len(train .columns),))\n",
    "first_dense = Dense(units='128', activation='relu')(input_layer)\n",
    "second_dense = Dense(units='128', activation='relu')(first_dense)\n",
    "\n",
    "# Y1 output will be fed directly from the second dense\n",
    "y1_output = Dense(units='1', name='y1_output')(second_dense)\n",
    "third_dense = Dense(units='64', activation='relu')(second_dense)\n",
    "\n",
    "# Y2 output will come via the third dense\n",
    "y2_output = Dense(units='1', name='y2_output')(third_dense)\n",
    "\n",
    "# Define the model with the input layer and a list of output layers\n",
    "model = Model(inputs=input_layer, outputs=[y1_output, y2_output])\n",
    "\n",
    "print(model.summary())"
   ]
  },
  {
   "cell_type": "markdown",
   "metadata": {},
   "source": [
    "### Configure parameters\n",
    "\n",
    "We specify the optimizer as well as the loss and metrics for each output."
   ]
  },
  {
   "cell_type": "code",
   "execution_count": 8,
   "metadata": {
    "id": "feeW2e6oIfuH"
   },
   "outputs": [],
   "source": [
    "# Specify the optimizer, and compile the model with loss functions for both outputs\n",
    "optimizer = tf.keras.optimizers.SGD(lr=0.001)\n",
    "model.compile(optimizer=optimizer,\n",
    "              loss={'y1_output': 'mse', 'y2_output': 'mse'},\n",
    "              metrics={'y1_output': tf.keras.metrics.RootMeanSquaredError(),\n",
    "                       'y2_output': tf.keras.metrics.RootMeanSquaredError()})"
   ]
  },
  {
   "cell_type": "markdown",
   "metadata": {
    "id": "rIAdwrJwKH80"
   },
   "source": [
    "### Train the model"
   ]
  },
  {
   "cell_type": "code",
   "execution_count": 9,
   "metadata": {
    "colab": {
     "base_uri": "https://localhost:8080/"
    },
    "id": "KJBBaE2qKHOg",
    "outputId": "ddac0bb6-c644-4fcc-98fe-c37c52f64a47"
   },
   "outputs": [
    {
     "name": "stdout",
     "output_type": "stream",
     "text": [
      "Epoch 1/500\n",
      "104/104 [==============================] - 3s 16ms/step - loss: nan - y1_output_loss: nan - y2_output_loss: nan - y1_output_root_mean_squared_error: nan - y2_output_root_mean_squared_error: nan - val_loss: nan - val_y1_output_loss: nan - val_y2_output_loss: nan - val_y1_output_root_mean_squared_error: nan - val_y2_output_root_mean_squared_error: nan\n",
      "Epoch 2/500\n",
      "104/104 [==============================] - 0s 2ms/step - loss: nan - y1_output_loss: nan - y2_output_loss: nan - y1_output_root_mean_squared_error: nan - y2_output_root_mean_squared_error: nan - val_loss: nan - val_y1_output_loss: nan - val_y2_output_loss: nan - val_y1_output_root_mean_squared_error: nan - val_y2_output_root_mean_squared_error: nan\n",
      "Epoch 3/500\n",
      "104/104 [==============================] - 0s 2ms/step - loss: nan - y1_output_loss: nan - y2_output_loss: nan - y1_output_root_mean_squared_error: nan - y2_output_root_mean_squared_error: nan - val_loss: nan - val_y1_output_loss: nan - val_y2_output_loss: nan - val_y1_output_root_mean_squared_error: nan - val_y2_output_root_mean_squared_error: nan\n",
      "Epoch 4/500\n",
      "104/104 [==============================] - 0s 2ms/step - loss: nan - y1_output_loss: nan - y2_output_loss: nan - y1_output_root_mean_squared_error: nan - y2_output_root_mean_squared_error: nan - val_loss: nan - val_y1_output_loss: nan - val_y2_output_loss: nan - val_y1_output_root_mean_squared_error: nan - val_y2_output_root_mean_squared_error: nan\n",
      "Epoch 5/500\n",
      "104/104 [==============================] - 0s 2ms/step - loss: nan - y1_output_loss: nan - y2_output_loss: nan - y1_output_root_mean_squared_error: nan - y2_output_root_mean_squared_error: nan - val_loss: nan - val_y1_output_loss: nan - val_y2_output_loss: nan - val_y1_output_root_mean_squared_error: nan - val_y2_output_root_mean_squared_error: nan\n",
      "Epoch 6/500\n",
      "104/104 [==============================] - 0s 2ms/step - loss: nan - y1_output_loss: nan - y2_output_loss: nan - y1_output_root_mean_squared_error: nan - y2_output_root_mean_squared_error: nan - val_loss: nan - val_y1_output_loss: nan - val_y2_output_loss: nan - val_y1_output_root_mean_squared_error: nan - val_y2_output_root_mean_squared_error: nan\n",
      "Epoch 7/500\n",
      "104/104 [==============================] - 0s 2ms/step - loss: nan - y1_output_loss: nan - y2_output_loss: nan - y1_output_root_mean_squared_error: nan - y2_output_root_mean_squared_error: nan - val_loss: nan - val_y1_output_loss: nan - val_y2_output_loss: nan - val_y1_output_root_mean_squared_error: nan - val_y2_output_root_mean_squared_error: nan\n",
      "Epoch 8/500\n",
      "104/104 [==============================] - 0s 2ms/step - loss: nan - y1_output_loss: nan - y2_output_loss: nan - y1_output_root_mean_squared_error: nan - y2_output_root_mean_squared_error: nan - val_loss: nan - val_y1_output_loss: nan - val_y2_output_loss: nan - val_y1_output_root_mean_squared_error: nan - val_y2_output_root_mean_squared_error: nan\n",
      "Epoch 9/500\n",
      "104/104 [==============================] - 0s 2ms/step - loss: nan - y1_output_loss: nan - y2_output_loss: nan - y1_output_root_mean_squared_error: nan - y2_output_root_mean_squared_error: nan - val_loss: nan - val_y1_output_loss: nan - val_y2_output_loss: nan - val_y1_output_root_mean_squared_error: nan - val_y2_output_root_mean_squared_error: nan\n",
      "Epoch 10/500\n",
      "104/104 [==============================] - 0s 2ms/step - loss: nan - y1_output_loss: nan - y2_output_loss: nan - y1_output_root_mean_squared_error: nan - y2_output_root_mean_squared_error: nan - val_loss: nan - val_y1_output_loss: nan - val_y2_output_loss: nan - val_y1_output_root_mean_squared_error: nan - val_y2_output_root_mean_squared_error: nan\n",
      "Epoch 11/500\n",
      "104/104 [==============================] - 0s 2ms/step - loss: nan - y1_output_loss: nan - y2_output_loss: nan - y1_output_root_mean_squared_error: nan - y2_output_root_mean_squared_error: nan - val_loss: nan - val_y1_output_loss: nan - val_y2_output_loss: nan - val_y1_output_root_mean_squared_error: nan - val_y2_output_root_mean_squared_error: nan\n",
      "Epoch 12/500\n",
      "104/104 [==============================] - 0s 2ms/step - loss: nan - y1_output_loss: nan - y2_output_loss: nan - y1_output_root_mean_squared_error: nan - y2_output_root_mean_squared_error: nan - val_loss: nan - val_y1_output_loss: nan - val_y2_output_loss: nan - val_y1_output_root_mean_squared_error: nan - val_y2_output_root_mean_squared_error: nan\n",
      "Epoch 13/500\n",
      "104/104 [==============================] - 0s 2ms/step - loss: nan - y1_output_loss: nan - y2_output_loss: nan - y1_output_root_mean_squared_error: nan - y2_output_root_mean_squared_error: nan - val_loss: nan - val_y1_output_loss: nan - val_y2_output_loss: nan - val_y1_output_root_mean_squared_error: nan - val_y2_output_root_mean_squared_error: nan\n",
      "Epoch 14/500\n",
      "104/104 [==============================] - 0s 2ms/step - loss: nan - y1_output_loss: nan - y2_output_loss: nan - y1_output_root_mean_squared_error: nan - y2_output_root_mean_squared_error: nan - val_loss: nan - val_y1_output_loss: nan - val_y2_output_loss: nan - val_y1_output_root_mean_squared_error: nan - val_y2_output_root_mean_squared_error: nan\n",
      "Epoch 15/500\n",
      "104/104 [==============================] - 0s 2ms/step - loss: nan - y1_output_loss: nan - y2_output_loss: nan - y1_output_root_mean_squared_error: nan - y2_output_root_mean_squared_error: nan - val_loss: nan - val_y1_output_loss: nan - val_y2_output_loss: nan - val_y1_output_root_mean_squared_error: nan - val_y2_output_root_mean_squared_error: nan\n",
      "Epoch 16/500\n",
      "104/104 [==============================] - 0s 2ms/step - loss: nan - y1_output_loss: nan - y2_output_loss: nan - y1_output_root_mean_squared_error: nan - y2_output_root_mean_squared_error: nan - val_loss: nan - val_y1_output_loss: nan - val_y2_output_loss: nan - val_y1_output_root_mean_squared_error: nan - val_y2_output_root_mean_squared_error: nan\n",
      "Epoch 17/500\n",
      "104/104 [==============================] - 0s 2ms/step - loss: nan - y1_output_loss: nan - y2_output_loss: nan - y1_output_root_mean_squared_error: nan - y2_output_root_mean_squared_error: nan - val_loss: nan - val_y1_output_loss: nan - val_y2_output_loss: nan - val_y1_output_root_mean_squared_error: nan - val_y2_output_root_mean_squared_error: nan\n",
      "Epoch 18/500\n",
      "104/104 [==============================] - 0s 2ms/step - loss: nan - y1_output_loss: nan - y2_output_loss: nan - y1_output_root_mean_squared_error: nan - y2_output_root_mean_squared_error: nan - val_loss: nan - val_y1_output_loss: nan - val_y2_output_loss: nan - val_y1_output_root_mean_squared_error: nan - val_y2_output_root_mean_squared_error: nan\n",
      "Epoch 19/500\n",
      "104/104 [==============================] - 0s 2ms/step - loss: nan - y1_output_loss: nan - y2_output_loss: nan - y1_output_root_mean_squared_error: nan - y2_output_root_mean_squared_error: nan - val_loss: nan - val_y1_output_loss: nan - val_y2_output_loss: nan - val_y1_output_root_mean_squared_error: nan - val_y2_output_root_mean_squared_error: nan\n",
      "Epoch 20/500\n",
      "104/104 [==============================] - 0s 2ms/step - loss: nan - y1_output_loss: nan - y2_output_loss: nan - y1_output_root_mean_squared_error: nan - y2_output_root_mean_squared_error: nan - val_loss: nan - val_y1_output_loss: nan - val_y2_output_loss: nan - val_y1_output_root_mean_squared_error: nan - val_y2_output_root_mean_squared_error: nan\n",
      "Epoch 21/500\n",
      "104/104 [==============================] - 0s 2ms/step - loss: nan - y1_output_loss: nan - y2_output_loss: nan - y1_output_root_mean_squared_error: nan - y2_output_root_mean_squared_error: nan - val_loss: nan - val_y1_output_loss: nan - val_y2_output_loss: nan - val_y1_output_root_mean_squared_error: nan - val_y2_output_root_mean_squared_error: nan\n",
      "Epoch 22/500\n",
      "104/104 [==============================] - 1s 5ms/step - loss: nan - y1_output_loss: nan - y2_output_loss: nan - y1_output_root_mean_squared_error: nan - y2_output_root_mean_squared_error: nan - val_loss: nan - val_y1_output_loss: nan - val_y2_output_loss: nan - val_y1_output_root_mean_squared_error: nan - val_y2_output_root_mean_squared_error: nan\n",
      "Epoch 23/500\n"
     ]
    },
    {
     "name": "stdout",
     "output_type": "stream",
     "text": [
      "104/104 [==============================] - 0s 3ms/step - loss: nan - y1_output_loss: nan - y2_output_loss: nan - y1_output_root_mean_squared_error: nan - y2_output_root_mean_squared_error: nan - val_loss: nan - val_y1_output_loss: nan - val_y2_output_loss: nan - val_y1_output_root_mean_squared_error: nan - val_y2_output_root_mean_squared_error: nan\n",
      "Epoch 24/500\n",
      "104/104 [==============================] - 0s 2ms/step - loss: nan - y1_output_loss: nan - y2_output_loss: nan - y1_output_root_mean_squared_error: nan - y2_output_root_mean_squared_error: nan - val_loss: nan - val_y1_output_loss: nan - val_y2_output_loss: nan - val_y1_output_root_mean_squared_error: nan - val_y2_output_root_mean_squared_error: nan\n",
      "Epoch 25/500\n",
      "104/104 [==============================] - 0s 2ms/step - loss: nan - y1_output_loss: nan - y2_output_loss: nan - y1_output_root_mean_squared_error: nan - y2_output_root_mean_squared_error: nan - val_loss: nan - val_y1_output_loss: nan - val_y2_output_loss: nan - val_y1_output_root_mean_squared_error: nan - val_y2_output_root_mean_squared_error: nan\n",
      "Epoch 26/500\n",
      "104/104 [==============================] - 0s 2ms/step - loss: nan - y1_output_loss: nan - y2_output_loss: nan - y1_output_root_mean_squared_error: nan - y2_output_root_mean_squared_error: nan - val_loss: nan - val_y1_output_loss: nan - val_y2_output_loss: nan - val_y1_output_root_mean_squared_error: nan - val_y2_output_root_mean_squared_error: nan\n",
      "Epoch 27/500\n",
      "104/104 [==============================] - 0s 2ms/step - loss: nan - y1_output_loss: nan - y2_output_loss: nan - y1_output_root_mean_squared_error: nan - y2_output_root_mean_squared_error: nan - val_loss: nan - val_y1_output_loss: nan - val_y2_output_loss: nan - val_y1_output_root_mean_squared_error: nan - val_y2_output_root_mean_squared_error: nan\n",
      "Epoch 28/500\n",
      "104/104 [==============================] - 0s 2ms/step - loss: nan - y1_output_loss: nan - y2_output_loss: nan - y1_output_root_mean_squared_error: nan - y2_output_root_mean_squared_error: nan - val_loss: nan - val_y1_output_loss: nan - val_y2_output_loss: nan - val_y1_output_root_mean_squared_error: nan - val_y2_output_root_mean_squared_error: nan\n",
      "Epoch 29/500\n",
      "104/104 [==============================] - 0s 2ms/step - loss: nan - y1_output_loss: nan - y2_output_loss: nan - y1_output_root_mean_squared_error: nan - y2_output_root_mean_squared_error: nan - val_loss: nan - val_y1_output_loss: nan - val_y2_output_loss: nan - val_y1_output_root_mean_squared_error: nan - val_y2_output_root_mean_squared_error: nan\n",
      "Epoch 30/500\n",
      "104/104 [==============================] - 0s 2ms/step - loss: nan - y1_output_loss: nan - y2_output_loss: nan - y1_output_root_mean_squared_error: nan - y2_output_root_mean_squared_error: nan - val_loss: nan - val_y1_output_loss: nan - val_y2_output_loss: nan - val_y1_output_root_mean_squared_error: nan - val_y2_output_root_mean_squared_error: nan\n",
      "Epoch 31/500\n",
      "104/104 [==============================] - 0s 2ms/step - loss: nan - y1_output_loss: nan - y2_output_loss: nan - y1_output_root_mean_squared_error: nan - y2_output_root_mean_squared_error: nan - val_loss: nan - val_y1_output_loss: nan - val_y2_output_loss: nan - val_y1_output_root_mean_squared_error: nan - val_y2_output_root_mean_squared_error: nan\n",
      "Epoch 32/500\n",
      "104/104 [==============================] - 0s 2ms/step - loss: nan - y1_output_loss: nan - y2_output_loss: nan - y1_output_root_mean_squared_error: nan - y2_output_root_mean_squared_error: nan - val_loss: nan - val_y1_output_loss: nan - val_y2_output_loss: nan - val_y1_output_root_mean_squared_error: nan - val_y2_output_root_mean_squared_error: nan\n",
      "Epoch 33/500\n",
      "104/104 [==============================] - 0s 2ms/step - loss: nan - y1_output_loss: nan - y2_output_loss: nan - y1_output_root_mean_squared_error: nan - y2_output_root_mean_squared_error: nan - val_loss: nan - val_y1_output_loss: nan - val_y2_output_loss: nan - val_y1_output_root_mean_squared_error: nan - val_y2_output_root_mean_squared_error: nan\n",
      "Epoch 34/500\n",
      "104/104 [==============================] - 0s 2ms/step - loss: nan - y1_output_loss: nan - y2_output_loss: nan - y1_output_root_mean_squared_error: nan - y2_output_root_mean_squared_error: nan - val_loss: nan - val_y1_output_loss: nan - val_y2_output_loss: nan - val_y1_output_root_mean_squared_error: nan - val_y2_output_root_mean_squared_error: nan\n",
      "Epoch 35/500\n",
      "104/104 [==============================] - 0s 2ms/step - loss: nan - y1_output_loss: nan - y2_output_loss: nan - y1_output_root_mean_squared_error: nan - y2_output_root_mean_squared_error: nan - val_loss: nan - val_y1_output_loss: nan - val_y2_output_loss: nan - val_y1_output_root_mean_squared_error: nan - val_y2_output_root_mean_squared_error: nan\n",
      "Epoch 36/500\n",
      "104/104 [==============================] - 0s 2ms/step - loss: nan - y1_output_loss: nan - y2_output_loss: nan - y1_output_root_mean_squared_error: nan - y2_output_root_mean_squared_error: nan - val_loss: nan - val_y1_output_loss: nan - val_y2_output_loss: nan - val_y1_output_root_mean_squared_error: nan - val_y2_output_root_mean_squared_error: nan\n",
      "Epoch 37/500\n",
      "104/104 [==============================] - 0s 2ms/step - loss: nan - y1_output_loss: nan - y2_output_loss: nan - y1_output_root_mean_squared_error: nan - y2_output_root_mean_squared_error: nan - val_loss: nan - val_y1_output_loss: nan - val_y2_output_loss: nan - val_y1_output_root_mean_squared_error: nan - val_y2_output_root_mean_squared_error: nan\n",
      "Epoch 38/500\n",
      "104/104 [==============================] - 0s 2ms/step - loss: nan - y1_output_loss: nan - y2_output_loss: nan - y1_output_root_mean_squared_error: nan - y2_output_root_mean_squared_error: nan - val_loss: nan - val_y1_output_loss: nan - val_y2_output_loss: nan - val_y1_output_root_mean_squared_error: nan - val_y2_output_root_mean_squared_error: nan\n",
      "Epoch 39/500\n",
      "104/104 [==============================] - 0s 2ms/step - loss: nan - y1_output_loss: nan - y2_output_loss: nan - y1_output_root_mean_squared_error: nan - y2_output_root_mean_squared_error: nan - val_loss: nan - val_y1_output_loss: nan - val_y2_output_loss: nan - val_y1_output_root_mean_squared_error: nan - val_y2_output_root_mean_squared_error: nan\n",
      "Epoch 40/500\n",
      "104/104 [==============================] - 0s 2ms/step - loss: nan - y1_output_loss: nan - y2_output_loss: nan - y1_output_root_mean_squared_error: nan - y2_output_root_mean_squared_error: nan - val_loss: nan - val_y1_output_loss: nan - val_y2_output_loss: nan - val_y1_output_root_mean_squared_error: nan - val_y2_output_root_mean_squared_error: nan\n",
      "Epoch 41/500\n",
      "104/104 [==============================] - 0s 2ms/step - loss: nan - y1_output_loss: nan - y2_output_loss: nan - y1_output_root_mean_squared_error: nan - y2_output_root_mean_squared_error: nan - val_loss: nan - val_y1_output_loss: nan - val_y2_output_loss: nan - val_y1_output_root_mean_squared_error: nan - val_y2_output_root_mean_squared_error: nan\n",
      "Epoch 42/500\n",
      "104/104 [==============================] - 0s 2ms/step - loss: nan - y1_output_loss: nan - y2_output_loss: nan - y1_output_root_mean_squared_error: nan - y2_output_root_mean_squared_error: nan - val_loss: nan - val_y1_output_loss: nan - val_y2_output_loss: nan - val_y1_output_root_mean_squared_error: nan - val_y2_output_root_mean_squared_error: nan\n",
      "Epoch 43/500\n",
      "104/104 [==============================] - 0s 2ms/step - loss: nan - y1_output_loss: nan - y2_output_loss: nan - y1_output_root_mean_squared_error: nan - y2_output_root_mean_squared_error: nan - val_loss: nan - val_y1_output_loss: nan - val_y2_output_loss: nan - val_y1_output_root_mean_squared_error: nan - val_y2_output_root_mean_squared_error: nan\n",
      "Epoch 44/500\n",
      "104/104 [==============================] - 0s 2ms/step - loss: nan - y1_output_loss: nan - y2_output_loss: nan - y1_output_root_mean_squared_error: nan - y2_output_root_mean_squared_error: nan - val_loss: nan - val_y1_output_loss: nan - val_y2_output_loss: nan - val_y1_output_root_mean_squared_error: nan - val_y2_output_root_mean_squared_error: nan\n",
      "Epoch 45/500\n"
     ]
    },
    {
     "name": "stdout",
     "output_type": "stream",
     "text": [
      "104/104 [==============================] - 0s 2ms/step - loss: nan - y1_output_loss: nan - y2_output_loss: nan - y1_output_root_mean_squared_error: nan - y2_output_root_mean_squared_error: nan - val_loss: nan - val_y1_output_loss: nan - val_y2_output_loss: nan - val_y1_output_root_mean_squared_error: nan - val_y2_output_root_mean_squared_error: nan\n",
      "Epoch 46/500\n",
      "104/104 [==============================] - 0s 2ms/step - loss: nan - y1_output_loss: nan - y2_output_loss: nan - y1_output_root_mean_squared_error: nan - y2_output_root_mean_squared_error: nan - val_loss: nan - val_y1_output_loss: nan - val_y2_output_loss: nan - val_y1_output_root_mean_squared_error: nan - val_y2_output_root_mean_squared_error: nan\n",
      "Epoch 47/500\n",
      "104/104 [==============================] - 0s 2ms/step - loss: nan - y1_output_loss: nan - y2_output_loss: nan - y1_output_root_mean_squared_error: nan - y2_output_root_mean_squared_error: nan - val_loss: nan - val_y1_output_loss: nan - val_y2_output_loss: nan - val_y1_output_root_mean_squared_error: nan - val_y2_output_root_mean_squared_error: nan\n",
      "Epoch 48/500\n",
      "104/104 [==============================] - 0s 2ms/step - loss: nan - y1_output_loss: nan - y2_output_loss: nan - y1_output_root_mean_squared_error: nan - y2_output_root_mean_squared_error: nan - val_loss: nan - val_y1_output_loss: nan - val_y2_output_loss: nan - val_y1_output_root_mean_squared_error: nan - val_y2_output_root_mean_squared_error: nan\n",
      "Epoch 49/500\n",
      "104/104 [==============================] - 0s 2ms/step - loss: nan - y1_output_loss: nan - y2_output_loss: nan - y1_output_root_mean_squared_error: nan - y2_output_root_mean_squared_error: nan - val_loss: nan - val_y1_output_loss: nan - val_y2_output_loss: nan - val_y1_output_root_mean_squared_error: nan - val_y2_output_root_mean_squared_error: nan\n",
      "Epoch 50/500\n",
      "104/104 [==============================] - 0s 2ms/step - loss: nan - y1_output_loss: nan - y2_output_loss: nan - y1_output_root_mean_squared_error: nan - y2_output_root_mean_squared_error: nan - val_loss: nan - val_y1_output_loss: nan - val_y2_output_loss: nan - val_y1_output_root_mean_squared_error: nan - val_y2_output_root_mean_squared_error: nan\n",
      "Epoch 51/500\n",
      "104/104 [==============================] - 0s 2ms/step - loss: nan - y1_output_loss: nan - y2_output_loss: nan - y1_output_root_mean_squared_error: nan - y2_output_root_mean_squared_error: nan - val_loss: nan - val_y1_output_loss: nan - val_y2_output_loss: nan - val_y1_output_root_mean_squared_error: nan - val_y2_output_root_mean_squared_error: nan\n",
      "Epoch 52/500\n",
      "104/104 [==============================] - 0s 2ms/step - loss: nan - y1_output_loss: nan - y2_output_loss: nan - y1_output_root_mean_squared_error: nan - y2_output_root_mean_squared_error: nan - val_loss: nan - val_y1_output_loss: nan - val_y2_output_loss: nan - val_y1_output_root_mean_squared_error: nan - val_y2_output_root_mean_squared_error: nan\n",
      "Epoch 53/500\n",
      "104/104 [==============================] - 0s 2ms/step - loss: nan - y1_output_loss: nan - y2_output_loss: nan - y1_output_root_mean_squared_error: nan - y2_output_root_mean_squared_error: nan - val_loss: nan - val_y1_output_loss: nan - val_y2_output_loss: nan - val_y1_output_root_mean_squared_error: nan - val_y2_output_root_mean_squared_error: nan\n",
      "Epoch 54/500\n",
      "104/104 [==============================] - 1s 5ms/step - loss: nan - y1_output_loss: nan - y2_output_loss: nan - y1_output_root_mean_squared_error: nan - y2_output_root_mean_squared_error: nan - val_loss: nan - val_y1_output_loss: nan - val_y2_output_loss: nan - val_y1_output_root_mean_squared_error: nan - val_y2_output_root_mean_squared_error: nan\n",
      "Epoch 55/500\n",
      "104/104 [==============================] - 0s 4ms/step - loss: nan - y1_output_loss: nan - y2_output_loss: nan - y1_output_root_mean_squared_error: nan - y2_output_root_mean_squared_error: nan - val_loss: nan - val_y1_output_loss: nan - val_y2_output_loss: nan - val_y1_output_root_mean_squared_error: nan - val_y2_output_root_mean_squared_error: nan\n",
      "Epoch 56/500\n",
      "104/104 [==============================] - 0s 2ms/step - loss: nan - y1_output_loss: nan - y2_output_loss: nan - y1_output_root_mean_squared_error: nan - y2_output_root_mean_squared_error: nan - val_loss: nan - val_y1_output_loss: nan - val_y2_output_loss: nan - val_y1_output_root_mean_squared_error: nan - val_y2_output_root_mean_squared_error: nan\n",
      "Epoch 57/500\n",
      "104/104 [==============================] - 0s 2ms/step - loss: nan - y1_output_loss: nan - y2_output_loss: nan - y1_output_root_mean_squared_error: nan - y2_output_root_mean_squared_error: nan - val_loss: nan - val_y1_output_loss: nan - val_y2_output_loss: nan - val_y1_output_root_mean_squared_error: nan - val_y2_output_root_mean_squared_error: nan\n",
      "Epoch 58/500\n",
      "104/104 [==============================] - 0s 2ms/step - loss: nan - y1_output_loss: nan - y2_output_loss: nan - y1_output_root_mean_squared_error: nan - y2_output_root_mean_squared_error: nan - val_loss: nan - val_y1_output_loss: nan - val_y2_output_loss: nan - val_y1_output_root_mean_squared_error: nan - val_y2_output_root_mean_squared_error: nan\n",
      "Epoch 59/500\n",
      "104/104 [==============================] - 0s 2ms/step - loss: nan - y1_output_loss: nan - y2_output_loss: nan - y1_output_root_mean_squared_error: nan - y2_output_root_mean_squared_error: nan - val_loss: nan - val_y1_output_loss: nan - val_y2_output_loss: nan - val_y1_output_root_mean_squared_error: nan - val_y2_output_root_mean_squared_error: nan\n",
      "Epoch 60/500\n",
      "104/104 [==============================] - 0s 2ms/step - loss: nan - y1_output_loss: nan - y2_output_loss: nan - y1_output_root_mean_squared_error: nan - y2_output_root_mean_squared_error: nan - val_loss: nan - val_y1_output_loss: nan - val_y2_output_loss: nan - val_y1_output_root_mean_squared_error: nan - val_y2_output_root_mean_squared_error: nan\n",
      "Epoch 61/500\n",
      "104/104 [==============================] - 0s 2ms/step - loss: nan - y1_output_loss: nan - y2_output_loss: nan - y1_output_root_mean_squared_error: nan - y2_output_root_mean_squared_error: nan - val_loss: nan - val_y1_output_loss: nan - val_y2_output_loss: nan - val_y1_output_root_mean_squared_error: nan - val_y2_output_root_mean_squared_error: nan\n",
      "Epoch 62/500\n",
      "104/104 [==============================] - 0s 2ms/step - loss: nan - y1_output_loss: nan - y2_output_loss: nan - y1_output_root_mean_squared_error: nan - y2_output_root_mean_squared_error: nan - val_loss: nan - val_y1_output_loss: nan - val_y2_output_loss: nan - val_y1_output_root_mean_squared_error: nan - val_y2_output_root_mean_squared_error: nan\n",
      "Epoch 63/500\n",
      "104/104 [==============================] - 0s 2ms/step - loss: nan - y1_output_loss: nan - y2_output_loss: nan - y1_output_root_mean_squared_error: nan - y2_output_root_mean_squared_error: nan - val_loss: nan - val_y1_output_loss: nan - val_y2_output_loss: nan - val_y1_output_root_mean_squared_error: nan - val_y2_output_root_mean_squared_error: nan\n",
      "Epoch 64/500\n",
      "104/104 [==============================] - 0s 2ms/step - loss: nan - y1_output_loss: nan - y2_output_loss: nan - y1_output_root_mean_squared_error: nan - y2_output_root_mean_squared_error: nan - val_loss: nan - val_y1_output_loss: nan - val_y2_output_loss: nan - val_y1_output_root_mean_squared_error: nan - val_y2_output_root_mean_squared_error: nan\n",
      "Epoch 65/500\n",
      "104/104 [==============================] - 0s 2ms/step - loss: nan - y1_output_loss: nan - y2_output_loss: nan - y1_output_root_mean_squared_error: nan - y2_output_root_mean_squared_error: nan - val_loss: nan - val_y1_output_loss: nan - val_y2_output_loss: nan - val_y1_output_root_mean_squared_error: nan - val_y2_output_root_mean_squared_error: nan\n",
      "Epoch 66/500\n",
      "104/104 [==============================] - 0s 2ms/step - loss: nan - y1_output_loss: nan - y2_output_loss: nan - y1_output_root_mean_squared_error: nan - y2_output_root_mean_squared_error: nan - val_loss: nan - val_y1_output_loss: nan - val_y2_output_loss: nan - val_y1_output_root_mean_squared_error: nan - val_y2_output_root_mean_squared_error: nan\n",
      "Epoch 67/500\n"
     ]
    },
    {
     "name": "stdout",
     "output_type": "stream",
     "text": [
      "104/104 [==============================] - 0s 2ms/step - loss: nan - y1_output_loss: nan - y2_output_loss: nan - y1_output_root_mean_squared_error: nan - y2_output_root_mean_squared_error: nan - val_loss: nan - val_y1_output_loss: nan - val_y2_output_loss: nan - val_y1_output_root_mean_squared_error: nan - val_y2_output_root_mean_squared_error: nan\n",
      "Epoch 68/500\n",
      "104/104 [==============================] - 0s 2ms/step - loss: nan - y1_output_loss: nan - y2_output_loss: nan - y1_output_root_mean_squared_error: nan - y2_output_root_mean_squared_error: nan - val_loss: nan - val_y1_output_loss: nan - val_y2_output_loss: nan - val_y1_output_root_mean_squared_error: nan - val_y2_output_root_mean_squared_error: nan\n",
      "Epoch 69/500\n",
      "104/104 [==============================] - 0s 2ms/step - loss: nan - y1_output_loss: nan - y2_output_loss: nan - y1_output_root_mean_squared_error: nan - y2_output_root_mean_squared_error: nan - val_loss: nan - val_y1_output_loss: nan - val_y2_output_loss: nan - val_y1_output_root_mean_squared_error: nan - val_y2_output_root_mean_squared_error: nan\n",
      "Epoch 70/500\n",
      "104/104 [==============================] - 0s 2ms/step - loss: nan - y1_output_loss: nan - y2_output_loss: nan - y1_output_root_mean_squared_error: nan - y2_output_root_mean_squared_error: nan - val_loss: nan - val_y1_output_loss: nan - val_y2_output_loss: nan - val_y1_output_root_mean_squared_error: nan - val_y2_output_root_mean_squared_error: nan\n",
      "Epoch 71/500\n",
      "104/104 [==============================] - 0s 2ms/step - loss: nan - y1_output_loss: nan - y2_output_loss: nan - y1_output_root_mean_squared_error: nan - y2_output_root_mean_squared_error: nan - val_loss: nan - val_y1_output_loss: nan - val_y2_output_loss: nan - val_y1_output_root_mean_squared_error: nan - val_y2_output_root_mean_squared_error: nan\n",
      "Epoch 72/500\n",
      "104/104 [==============================] - 0s 2ms/step - loss: nan - y1_output_loss: nan - y2_output_loss: nan - y1_output_root_mean_squared_error: nan - y2_output_root_mean_squared_error: nan - val_loss: nan - val_y1_output_loss: nan - val_y2_output_loss: nan - val_y1_output_root_mean_squared_error: nan - val_y2_output_root_mean_squared_error: nan\n",
      "Epoch 73/500\n",
      "104/104 [==============================] - 0s 2ms/step - loss: nan - y1_output_loss: nan - y2_output_loss: nan - y1_output_root_mean_squared_error: nan - y2_output_root_mean_squared_error: nan - val_loss: nan - val_y1_output_loss: nan - val_y2_output_loss: nan - val_y1_output_root_mean_squared_error: nan - val_y2_output_root_mean_squared_error: nan\n",
      "Epoch 74/500\n",
      "104/104 [==============================] - 0s 2ms/step - loss: nan - y1_output_loss: nan - y2_output_loss: nan - y1_output_root_mean_squared_error: nan - y2_output_root_mean_squared_error: nan - val_loss: nan - val_y1_output_loss: nan - val_y2_output_loss: nan - val_y1_output_root_mean_squared_error: nan - val_y2_output_root_mean_squared_error: nan\n",
      "Epoch 75/500\n",
      "104/104 [==============================] - 0s 2ms/step - loss: nan - y1_output_loss: nan - y2_output_loss: nan - y1_output_root_mean_squared_error: nan - y2_output_root_mean_squared_error: nan - val_loss: nan - val_y1_output_loss: nan - val_y2_output_loss: nan - val_y1_output_root_mean_squared_error: nan - val_y2_output_root_mean_squared_error: nan\n",
      "Epoch 76/500\n",
      "104/104 [==============================] - 0s 2ms/step - loss: nan - y1_output_loss: nan - y2_output_loss: nan - y1_output_root_mean_squared_error: nan - y2_output_root_mean_squared_error: nan - val_loss: nan - val_y1_output_loss: nan - val_y2_output_loss: nan - val_y1_output_root_mean_squared_error: nan - val_y2_output_root_mean_squared_error: nan\n",
      "Epoch 77/500\n",
      "104/104 [==============================] - 0s 2ms/step - loss: nan - y1_output_loss: nan - y2_output_loss: nan - y1_output_root_mean_squared_error: nan - y2_output_root_mean_squared_error: nan - val_loss: nan - val_y1_output_loss: nan - val_y2_output_loss: nan - val_y1_output_root_mean_squared_error: nan - val_y2_output_root_mean_squared_error: nan\n",
      "Epoch 78/500\n",
      "104/104 [==============================] - 0s 2ms/step - loss: nan - y1_output_loss: nan - y2_output_loss: nan - y1_output_root_mean_squared_error: nan - y2_output_root_mean_squared_error: nan - val_loss: nan - val_y1_output_loss: nan - val_y2_output_loss: nan - val_y1_output_root_mean_squared_error: nan - val_y2_output_root_mean_squared_error: nan\n",
      "Epoch 79/500\n",
      "104/104 [==============================] - 0s 2ms/step - loss: nan - y1_output_loss: nan - y2_output_loss: nan - y1_output_root_mean_squared_error: nan - y2_output_root_mean_squared_error: nan - val_loss: nan - val_y1_output_loss: nan - val_y2_output_loss: nan - val_y1_output_root_mean_squared_error: nan - val_y2_output_root_mean_squared_error: nan\n",
      "Epoch 80/500\n",
      "104/104 [==============================] - 0s 2ms/step - loss: nan - y1_output_loss: nan - y2_output_loss: nan - y1_output_root_mean_squared_error: nan - y2_output_root_mean_squared_error: nan - val_loss: nan - val_y1_output_loss: nan - val_y2_output_loss: nan - val_y1_output_root_mean_squared_error: nan - val_y2_output_root_mean_squared_error: nan\n",
      "Epoch 81/500\n",
      "104/104 [==============================] - 0s 2ms/step - loss: nan - y1_output_loss: nan - y2_output_loss: nan - y1_output_root_mean_squared_error: nan - y2_output_root_mean_squared_error: nan - val_loss: nan - val_y1_output_loss: nan - val_y2_output_loss: nan - val_y1_output_root_mean_squared_error: nan - val_y2_output_root_mean_squared_error: nan\n",
      "Epoch 82/500\n",
      "104/104 [==============================] - 0s 2ms/step - loss: nan - y1_output_loss: nan - y2_output_loss: nan - y1_output_root_mean_squared_error: nan - y2_output_root_mean_squared_error: nan - val_loss: nan - val_y1_output_loss: nan - val_y2_output_loss: nan - val_y1_output_root_mean_squared_error: nan - val_y2_output_root_mean_squared_error: nan\n",
      "Epoch 83/500\n",
      "104/104 [==============================] - 0s 2ms/step - loss: nan - y1_output_loss: nan - y2_output_loss: nan - y1_output_root_mean_squared_error: nan - y2_output_root_mean_squared_error: nan - val_loss: nan - val_y1_output_loss: nan - val_y2_output_loss: nan - val_y1_output_root_mean_squared_error: nan - val_y2_output_root_mean_squared_error: nan\n",
      "Epoch 84/500\n",
      "104/104 [==============================] - 0s 2ms/step - loss: nan - y1_output_loss: nan - y2_output_loss: nan - y1_output_root_mean_squared_error: nan - y2_output_root_mean_squared_error: nan - val_loss: nan - val_y1_output_loss: nan - val_y2_output_loss: nan - val_y1_output_root_mean_squared_error: nan - val_y2_output_root_mean_squared_error: nan\n",
      "Epoch 85/500\n",
      "104/104 [==============================] - 0s 2ms/step - loss: nan - y1_output_loss: nan - y2_output_loss: nan - y1_output_root_mean_squared_error: nan - y2_output_root_mean_squared_error: nan - val_loss: nan - val_y1_output_loss: nan - val_y2_output_loss: nan - val_y1_output_root_mean_squared_error: nan - val_y2_output_root_mean_squared_error: nan\n",
      "Epoch 86/500\n",
      "104/104 [==============================] - 0s 2ms/step - loss: nan - y1_output_loss: nan - y2_output_loss: nan - y1_output_root_mean_squared_error: nan - y2_output_root_mean_squared_error: nan - val_loss: nan - val_y1_output_loss: nan - val_y2_output_loss: nan - val_y1_output_root_mean_squared_error: nan - val_y2_output_root_mean_squared_error: nan\n",
      "Epoch 87/500\n",
      "104/104 [==============================] - 0s 2ms/step - loss: nan - y1_output_loss: nan - y2_output_loss: nan - y1_output_root_mean_squared_error: nan - y2_output_root_mean_squared_error: nan - val_loss: nan - val_y1_output_loss: nan - val_y2_output_loss: nan - val_y1_output_root_mean_squared_error: nan - val_y2_output_root_mean_squared_error: nan\n",
      "Epoch 88/500\n",
      "104/104 [==============================] - 0s 2ms/step - loss: nan - y1_output_loss: nan - y2_output_loss: nan - y1_output_root_mean_squared_error: nan - y2_output_root_mean_squared_error: nan - val_loss: nan - val_y1_output_loss: nan - val_y2_output_loss: nan - val_y1_output_root_mean_squared_error: nan - val_y2_output_root_mean_squared_error: nan\n",
      "Epoch 89/500\n"
     ]
    },
    {
     "name": "stdout",
     "output_type": "stream",
     "text": [
      "104/104 [==============================] - 0s 2ms/step - loss: nan - y1_output_loss: nan - y2_output_loss: nan - y1_output_root_mean_squared_error: nan - y2_output_root_mean_squared_error: nan - val_loss: nan - val_y1_output_loss: nan - val_y2_output_loss: nan - val_y1_output_root_mean_squared_error: nan - val_y2_output_root_mean_squared_error: nan\n",
      "Epoch 90/500\n",
      "104/104 [==============================] - 0s 2ms/step - loss: nan - y1_output_loss: nan - y2_output_loss: nan - y1_output_root_mean_squared_error: nan - y2_output_root_mean_squared_error: nan - val_loss: nan - val_y1_output_loss: nan - val_y2_output_loss: nan - val_y1_output_root_mean_squared_error: nan - val_y2_output_root_mean_squared_error: nan\n",
      "Epoch 91/500\n",
      "104/104 [==============================] - 0s 2ms/step - loss: nan - y1_output_loss: nan - y2_output_loss: nan - y1_output_root_mean_squared_error: nan - y2_output_root_mean_squared_error: nan - val_loss: nan - val_y1_output_loss: nan - val_y2_output_loss: nan - val_y1_output_root_mean_squared_error: nan - val_y2_output_root_mean_squared_error: nan\n",
      "Epoch 92/500\n",
      "104/104 [==============================] - 0s 2ms/step - loss: nan - y1_output_loss: nan - y2_output_loss: nan - y1_output_root_mean_squared_error: nan - y2_output_root_mean_squared_error: nan - val_loss: nan - val_y1_output_loss: nan - val_y2_output_loss: nan - val_y1_output_root_mean_squared_error: nan - val_y2_output_root_mean_squared_error: nan\n",
      "Epoch 93/500\n",
      "104/104 [==============================] - 0s 2ms/step - loss: nan - y1_output_loss: nan - y2_output_loss: nan - y1_output_root_mean_squared_error: nan - y2_output_root_mean_squared_error: nan - val_loss: nan - val_y1_output_loss: nan - val_y2_output_loss: nan - val_y1_output_root_mean_squared_error: nan - val_y2_output_root_mean_squared_error: nan\n",
      "Epoch 94/500\n",
      "104/104 [==============================] - 0s 2ms/step - loss: nan - y1_output_loss: nan - y2_output_loss: nan - y1_output_root_mean_squared_error: nan - y2_output_root_mean_squared_error: nan - val_loss: nan - val_y1_output_loss: nan - val_y2_output_loss: nan - val_y1_output_root_mean_squared_error: nan - val_y2_output_root_mean_squared_error: nan\n",
      "Epoch 95/500\n",
      "104/104 [==============================] - 0s 2ms/step - loss: nan - y1_output_loss: nan - y2_output_loss: nan - y1_output_root_mean_squared_error: nan - y2_output_root_mean_squared_error: nan - val_loss: nan - val_y1_output_loss: nan - val_y2_output_loss: nan - val_y1_output_root_mean_squared_error: nan - val_y2_output_root_mean_squared_error: nan\n",
      "Epoch 96/500\n",
      "104/104 [==============================] - 0s 2ms/step - loss: nan - y1_output_loss: nan - y2_output_loss: nan - y1_output_root_mean_squared_error: nan - y2_output_root_mean_squared_error: nan - val_loss: nan - val_y1_output_loss: nan - val_y2_output_loss: nan - val_y1_output_root_mean_squared_error: nan - val_y2_output_root_mean_squared_error: nan\n",
      "Epoch 97/500\n",
      "104/104 [==============================] - 0s 2ms/step - loss: nan - y1_output_loss: nan - y2_output_loss: nan - y1_output_root_mean_squared_error: nan - y2_output_root_mean_squared_error: nan - val_loss: nan - val_y1_output_loss: nan - val_y2_output_loss: nan - val_y1_output_root_mean_squared_error: nan - val_y2_output_root_mean_squared_error: nan\n",
      "Epoch 98/500\n",
      "104/104 [==============================] - 0s 2ms/step - loss: nan - y1_output_loss: nan - y2_output_loss: nan - y1_output_root_mean_squared_error: nan - y2_output_root_mean_squared_error: nan - val_loss: nan - val_y1_output_loss: nan - val_y2_output_loss: nan - val_y1_output_root_mean_squared_error: nan - val_y2_output_root_mean_squared_error: nan\n",
      "Epoch 99/500\n",
      "104/104 [==============================] - 0s 2ms/step - loss: nan - y1_output_loss: nan - y2_output_loss: nan - y1_output_root_mean_squared_error: nan - y2_output_root_mean_squared_error: nan - val_loss: nan - val_y1_output_loss: nan - val_y2_output_loss: nan - val_y1_output_root_mean_squared_error: nan - val_y2_output_root_mean_squared_error: nan\n",
      "Epoch 100/500\n",
      "104/104 [==============================] - 0s 4ms/step - loss: nan - y1_output_loss: nan - y2_output_loss: nan - y1_output_root_mean_squared_error: nan - y2_output_root_mean_squared_error: nan - val_loss: nan - val_y1_output_loss: nan - val_y2_output_loss: nan - val_y1_output_root_mean_squared_error: nan - val_y2_output_root_mean_squared_error: nan\n",
      "Epoch 101/500\n",
      "104/104 [==============================] - 0s 2ms/step - loss: nan - y1_output_loss: nan - y2_output_loss: nan - y1_output_root_mean_squared_error: nan - y2_output_root_mean_squared_error: nan - val_loss: nan - val_y1_output_loss: nan - val_y2_output_loss: nan - val_y1_output_root_mean_squared_error: nan - val_y2_output_root_mean_squared_error: nan\n",
      "Epoch 102/500\n",
      "104/104 [==============================] - 0s 2ms/step - loss: nan - y1_output_loss: nan - y2_output_loss: nan - y1_output_root_mean_squared_error: nan - y2_output_root_mean_squared_error: nan - val_loss: nan - val_y1_output_loss: nan - val_y2_output_loss: nan - val_y1_output_root_mean_squared_error: nan - val_y2_output_root_mean_squared_error: nan\n",
      "Epoch 103/500\n",
      "104/104 [==============================] - 0s 2ms/step - loss: nan - y1_output_loss: nan - y2_output_loss: nan - y1_output_root_mean_squared_error: nan - y2_output_root_mean_squared_error: nan - val_loss: nan - val_y1_output_loss: nan - val_y2_output_loss: nan - val_y1_output_root_mean_squared_error: nan - val_y2_output_root_mean_squared_error: nan\n",
      "Epoch 104/500\n",
      "104/104 [==============================] - 0s 2ms/step - loss: nan - y1_output_loss: nan - y2_output_loss: nan - y1_output_root_mean_squared_error: nan - y2_output_root_mean_squared_error: nan - val_loss: nan - val_y1_output_loss: nan - val_y2_output_loss: nan - val_y1_output_root_mean_squared_error: nan - val_y2_output_root_mean_squared_error: nan\n",
      "Epoch 105/500\n",
      "104/104 [==============================] - 0s 2ms/step - loss: nan - y1_output_loss: nan - y2_output_loss: nan - y1_output_root_mean_squared_error: nan - y2_output_root_mean_squared_error: nan - val_loss: nan - val_y1_output_loss: nan - val_y2_output_loss: nan - val_y1_output_root_mean_squared_error: nan - val_y2_output_root_mean_squared_error: nan\n",
      "Epoch 106/500\n",
      "104/104 [==============================] - 0s 2ms/step - loss: nan - y1_output_loss: nan - y2_output_loss: nan - y1_output_root_mean_squared_error: nan - y2_output_root_mean_squared_error: nan - val_loss: nan - val_y1_output_loss: nan - val_y2_output_loss: nan - val_y1_output_root_mean_squared_error: nan - val_y2_output_root_mean_squared_error: nan\n",
      "Epoch 107/500\n",
      "104/104 [==============================] - 0s 4ms/step - loss: nan - y1_output_loss: nan - y2_output_loss: nan - y1_output_root_mean_squared_error: nan - y2_output_root_mean_squared_error: nan - val_loss: nan - val_y1_output_loss: nan - val_y2_output_loss: nan - val_y1_output_root_mean_squared_error: nan - val_y2_output_root_mean_squared_error: nan\n",
      "Epoch 108/500\n",
      "104/104 [==============================] - 0s 2ms/step - loss: nan - y1_output_loss: nan - y2_output_loss: nan - y1_output_root_mean_squared_error: nan - y2_output_root_mean_squared_error: nan - val_loss: nan - val_y1_output_loss: nan - val_y2_output_loss: nan - val_y1_output_root_mean_squared_error: nan - val_y2_output_root_mean_squared_error: nan\n",
      "Epoch 109/500\n",
      "104/104 [==============================] - 0s 2ms/step - loss: nan - y1_output_loss: nan - y2_output_loss: nan - y1_output_root_mean_squared_error: nan - y2_output_root_mean_squared_error: nan - val_loss: nan - val_y1_output_loss: nan - val_y2_output_loss: nan - val_y1_output_root_mean_squared_error: nan - val_y2_output_root_mean_squared_error: nan\n",
      "Epoch 110/500\n",
      "104/104 [==============================] - 0s 2ms/step - loss: nan - y1_output_loss: nan - y2_output_loss: nan - y1_output_root_mean_squared_error: nan - y2_output_root_mean_squared_error: nan - val_loss: nan - val_y1_output_loss: nan - val_y2_output_loss: nan - val_y1_output_root_mean_squared_error: nan - val_y2_output_root_mean_squared_error: nan\n",
      "Epoch 111/500\n"
     ]
    },
    {
     "name": "stdout",
     "output_type": "stream",
     "text": [
      "104/104 [==============================] - 0s 2ms/step - loss: nan - y1_output_loss: nan - y2_output_loss: nan - y1_output_root_mean_squared_error: nan - y2_output_root_mean_squared_error: nan - val_loss: nan - val_y1_output_loss: nan - val_y2_output_loss: nan - val_y1_output_root_mean_squared_error: nan - val_y2_output_root_mean_squared_error: nan\n",
      "Epoch 112/500\n",
      "104/104 [==============================] - 0s 2ms/step - loss: nan - y1_output_loss: nan - y2_output_loss: nan - y1_output_root_mean_squared_error: nan - y2_output_root_mean_squared_error: nan - val_loss: nan - val_y1_output_loss: nan - val_y2_output_loss: nan - val_y1_output_root_mean_squared_error: nan - val_y2_output_root_mean_squared_error: nan\n",
      "Epoch 113/500\n",
      "104/104 [==============================] - 0s 2ms/step - loss: nan - y1_output_loss: nan - y2_output_loss: nan - y1_output_root_mean_squared_error: nan - y2_output_root_mean_squared_error: nan - val_loss: nan - val_y1_output_loss: nan - val_y2_output_loss: nan - val_y1_output_root_mean_squared_error: nan - val_y2_output_root_mean_squared_error: nan\n",
      "Epoch 114/500\n",
      "104/104 [==============================] - 0s 2ms/step - loss: nan - y1_output_loss: nan - y2_output_loss: nan - y1_output_root_mean_squared_error: nan - y2_output_root_mean_squared_error: nan - val_loss: nan - val_y1_output_loss: nan - val_y2_output_loss: nan - val_y1_output_root_mean_squared_error: nan - val_y2_output_root_mean_squared_error: nan\n",
      "Epoch 115/500\n",
      "104/104 [==============================] - 0s 2ms/step - loss: nan - y1_output_loss: nan - y2_output_loss: nan - y1_output_root_mean_squared_error: nan - y2_output_root_mean_squared_error: nan - val_loss: nan - val_y1_output_loss: nan - val_y2_output_loss: nan - val_y1_output_root_mean_squared_error: nan - val_y2_output_root_mean_squared_error: nan\n",
      "Epoch 116/500\n",
      "104/104 [==============================] - 0s 2ms/step - loss: nan - y1_output_loss: nan - y2_output_loss: nan - y1_output_root_mean_squared_error: nan - y2_output_root_mean_squared_error: nan - val_loss: nan - val_y1_output_loss: nan - val_y2_output_loss: nan - val_y1_output_root_mean_squared_error: nan - val_y2_output_root_mean_squared_error: nan\n",
      "Epoch 117/500\n",
      "104/104 [==============================] - 0s 2ms/step - loss: nan - y1_output_loss: nan - y2_output_loss: nan - y1_output_root_mean_squared_error: nan - y2_output_root_mean_squared_error: nan - val_loss: nan - val_y1_output_loss: nan - val_y2_output_loss: nan - val_y1_output_root_mean_squared_error: nan - val_y2_output_root_mean_squared_error: nan\n",
      "Epoch 118/500\n",
      "104/104 [==============================] - 0s 2ms/step - loss: nan - y1_output_loss: nan - y2_output_loss: nan - y1_output_root_mean_squared_error: nan - y2_output_root_mean_squared_error: nan - val_loss: nan - val_y1_output_loss: nan - val_y2_output_loss: nan - val_y1_output_root_mean_squared_error: nan - val_y2_output_root_mean_squared_error: nan\n",
      "Epoch 119/500\n",
      "104/104 [==============================] - 0s 2ms/step - loss: nan - y1_output_loss: nan - y2_output_loss: nan - y1_output_root_mean_squared_error: nan - y2_output_root_mean_squared_error: nan - val_loss: nan - val_y1_output_loss: nan - val_y2_output_loss: nan - val_y1_output_root_mean_squared_error: nan - val_y2_output_root_mean_squared_error: nan\n",
      "Epoch 120/500\n",
      "104/104 [==============================] - 0s 2ms/step - loss: nan - y1_output_loss: nan - y2_output_loss: nan - y1_output_root_mean_squared_error: nan - y2_output_root_mean_squared_error: nan - val_loss: nan - val_y1_output_loss: nan - val_y2_output_loss: nan - val_y1_output_root_mean_squared_error: nan - val_y2_output_root_mean_squared_error: nan\n",
      "Epoch 121/500\n",
      "104/104 [==============================] - 0s 2ms/step - loss: nan - y1_output_loss: nan - y2_output_loss: nan - y1_output_root_mean_squared_error: nan - y2_output_root_mean_squared_error: nan - val_loss: nan - val_y1_output_loss: nan - val_y2_output_loss: nan - val_y1_output_root_mean_squared_error: nan - val_y2_output_root_mean_squared_error: nan\n",
      "Epoch 122/500\n",
      "104/104 [==============================] - 0s 2ms/step - loss: nan - y1_output_loss: nan - y2_output_loss: nan - y1_output_root_mean_squared_error: nan - y2_output_root_mean_squared_error: nan - val_loss: nan - val_y1_output_loss: nan - val_y2_output_loss: nan - val_y1_output_root_mean_squared_error: nan - val_y2_output_root_mean_squared_error: nan\n",
      "Epoch 123/500\n",
      "104/104 [==============================] - 0s 2ms/step - loss: nan - y1_output_loss: nan - y2_output_loss: nan - y1_output_root_mean_squared_error: nan - y2_output_root_mean_squared_error: nan - val_loss: nan - val_y1_output_loss: nan - val_y2_output_loss: nan - val_y1_output_root_mean_squared_error: nan - val_y2_output_root_mean_squared_error: nan\n",
      "Epoch 124/500\n",
      "104/104 [==============================] - 0s 3ms/step - loss: nan - y1_output_loss: nan - y2_output_loss: nan - y1_output_root_mean_squared_error: nan - y2_output_root_mean_squared_error: nan - val_loss: nan - val_y1_output_loss: nan - val_y2_output_loss: nan - val_y1_output_root_mean_squared_error: nan - val_y2_output_root_mean_squared_error: nan\n",
      "Epoch 125/500\n",
      "104/104 [==============================] - 0s 2ms/step - loss: nan - y1_output_loss: nan - y2_output_loss: nan - y1_output_root_mean_squared_error: nan - y2_output_root_mean_squared_error: nan - val_loss: nan - val_y1_output_loss: nan - val_y2_output_loss: nan - val_y1_output_root_mean_squared_error: nan - val_y2_output_root_mean_squared_error: nan\n",
      "Epoch 126/500\n",
      "104/104 [==============================] - 0s 2ms/step - loss: nan - y1_output_loss: nan - y2_output_loss: nan - y1_output_root_mean_squared_error: nan - y2_output_root_mean_squared_error: nan - val_loss: nan - val_y1_output_loss: nan - val_y2_output_loss: nan - val_y1_output_root_mean_squared_error: nan - val_y2_output_root_mean_squared_error: nan\n",
      "Epoch 127/500\n",
      "104/104 [==============================] - 0s 2ms/step - loss: nan - y1_output_loss: nan - y2_output_loss: nan - y1_output_root_mean_squared_error: nan - y2_output_root_mean_squared_error: nan - val_loss: nan - val_y1_output_loss: nan - val_y2_output_loss: nan - val_y1_output_root_mean_squared_error: nan - val_y2_output_root_mean_squared_error: nan\n",
      "Epoch 128/500\n",
      "104/104 [==============================] - 0s 2ms/step - loss: nan - y1_output_loss: nan - y2_output_loss: nan - y1_output_root_mean_squared_error: nan - y2_output_root_mean_squared_error: nan - val_loss: nan - val_y1_output_loss: nan - val_y2_output_loss: nan - val_y1_output_root_mean_squared_error: nan - val_y2_output_root_mean_squared_error: nan\n",
      "Epoch 129/500\n",
      "104/104 [==============================] - 0s 2ms/step - loss: nan - y1_output_loss: nan - y2_output_loss: nan - y1_output_root_mean_squared_error: nan - y2_output_root_mean_squared_error: nan - val_loss: nan - val_y1_output_loss: nan - val_y2_output_loss: nan - val_y1_output_root_mean_squared_error: nan - val_y2_output_root_mean_squared_error: nan\n",
      "Epoch 130/500\n",
      "104/104 [==============================] - 0s 2ms/step - loss: nan - y1_output_loss: nan - y2_output_loss: nan - y1_output_root_mean_squared_error: nan - y2_output_root_mean_squared_error: nan - val_loss: nan - val_y1_output_loss: nan - val_y2_output_loss: nan - val_y1_output_root_mean_squared_error: nan - val_y2_output_root_mean_squared_error: nan\n",
      "Epoch 131/500\n",
      "104/104 [==============================] - 0s 2ms/step - loss: nan - y1_output_loss: nan - y2_output_loss: nan - y1_output_root_mean_squared_error: nan - y2_output_root_mean_squared_error: nan - val_loss: nan - val_y1_output_loss: nan - val_y2_output_loss: nan - val_y1_output_root_mean_squared_error: nan - val_y2_output_root_mean_squared_error: nan\n",
      "Epoch 132/500\n",
      "104/104 [==============================] - 0s 2ms/step - loss: nan - y1_output_loss: nan - y2_output_loss: nan - y1_output_root_mean_squared_error: nan - y2_output_root_mean_squared_error: nan - val_loss: nan - val_y1_output_loss: nan - val_y2_output_loss: nan - val_y1_output_root_mean_squared_error: nan - val_y2_output_root_mean_squared_error: nan\n",
      "Epoch 133/500\n"
     ]
    },
    {
     "name": "stdout",
     "output_type": "stream",
     "text": [
      "104/104 [==============================] - 0s 2ms/step - loss: nan - y1_output_loss: nan - y2_output_loss: nan - y1_output_root_mean_squared_error: nan - y2_output_root_mean_squared_error: nan - val_loss: nan - val_y1_output_loss: nan - val_y2_output_loss: nan - val_y1_output_root_mean_squared_error: nan - val_y2_output_root_mean_squared_error: nan\n",
      "Epoch 134/500\n",
      "104/104 [==============================] - 0s 2ms/step - loss: nan - y1_output_loss: nan - y2_output_loss: nan - y1_output_root_mean_squared_error: nan - y2_output_root_mean_squared_error: nan - val_loss: nan - val_y1_output_loss: nan - val_y2_output_loss: nan - val_y1_output_root_mean_squared_error: nan - val_y2_output_root_mean_squared_error: nan\n",
      "Epoch 135/500\n",
      "104/104 [==============================] - 0s 2ms/step - loss: nan - y1_output_loss: nan - y2_output_loss: nan - y1_output_root_mean_squared_error: nan - y2_output_root_mean_squared_error: nan - val_loss: nan - val_y1_output_loss: nan - val_y2_output_loss: nan - val_y1_output_root_mean_squared_error: nan - val_y2_output_root_mean_squared_error: nan\n",
      "Epoch 136/500\n",
      "104/104 [==============================] - 0s 4ms/step - loss: nan - y1_output_loss: nan - y2_output_loss: nan - y1_output_root_mean_squared_error: nan - y2_output_root_mean_squared_error: nan - val_loss: nan - val_y1_output_loss: nan - val_y2_output_loss: nan - val_y1_output_root_mean_squared_error: nan - val_y2_output_root_mean_squared_error: nan\n",
      "Epoch 137/500\n",
      "104/104 [==============================] - 0s 2ms/step - loss: nan - y1_output_loss: nan - y2_output_loss: nan - y1_output_root_mean_squared_error: nan - y2_output_root_mean_squared_error: nan - val_loss: nan - val_y1_output_loss: nan - val_y2_output_loss: nan - val_y1_output_root_mean_squared_error: nan - val_y2_output_root_mean_squared_error: nan\n",
      "Epoch 138/500\n",
      "104/104 [==============================] - 0s 2ms/step - loss: nan - y1_output_loss: nan - y2_output_loss: nan - y1_output_root_mean_squared_error: nan - y2_output_root_mean_squared_error: nan - val_loss: nan - val_y1_output_loss: nan - val_y2_output_loss: nan - val_y1_output_root_mean_squared_error: nan - val_y2_output_root_mean_squared_error: nan\n",
      "Epoch 139/500\n",
      "104/104 [==============================] - 0s 2ms/step - loss: nan - y1_output_loss: nan - y2_output_loss: nan - y1_output_root_mean_squared_error: nan - y2_output_root_mean_squared_error: nan - val_loss: nan - val_y1_output_loss: nan - val_y2_output_loss: nan - val_y1_output_root_mean_squared_error: nan - val_y2_output_root_mean_squared_error: nan\n",
      "Epoch 140/500\n",
      "104/104 [==============================] - 0s 2ms/step - loss: nan - y1_output_loss: nan - y2_output_loss: nan - y1_output_root_mean_squared_error: nan - y2_output_root_mean_squared_error: nan - val_loss: nan - val_y1_output_loss: nan - val_y2_output_loss: nan - val_y1_output_root_mean_squared_error: nan - val_y2_output_root_mean_squared_error: nan\n",
      "Epoch 141/500\n",
      "104/104 [==============================] - 0s 2ms/step - loss: nan - y1_output_loss: nan - y2_output_loss: nan - y1_output_root_mean_squared_error: nan - y2_output_root_mean_squared_error: nan - val_loss: nan - val_y1_output_loss: nan - val_y2_output_loss: nan - val_y1_output_root_mean_squared_error: nan - val_y2_output_root_mean_squared_error: nan\n",
      "Epoch 142/500\n",
      "104/104 [==============================] - 0s 2ms/step - loss: nan - y1_output_loss: nan - y2_output_loss: nan - y1_output_root_mean_squared_error: nan - y2_output_root_mean_squared_error: nan - val_loss: nan - val_y1_output_loss: nan - val_y2_output_loss: nan - val_y1_output_root_mean_squared_error: nan - val_y2_output_root_mean_squared_error: nan\n",
      "Epoch 143/500\n",
      "104/104 [==============================] - 0s 2ms/step - loss: nan - y1_output_loss: nan - y2_output_loss: nan - y1_output_root_mean_squared_error: nan - y2_output_root_mean_squared_error: nan - val_loss: nan - val_y1_output_loss: nan - val_y2_output_loss: nan - val_y1_output_root_mean_squared_error: nan - val_y2_output_root_mean_squared_error: nan\n",
      "Epoch 144/500\n",
      "104/104 [==============================] - 0s 2ms/step - loss: nan - y1_output_loss: nan - y2_output_loss: nan - y1_output_root_mean_squared_error: nan - y2_output_root_mean_squared_error: nan - val_loss: nan - val_y1_output_loss: nan - val_y2_output_loss: nan - val_y1_output_root_mean_squared_error: nan - val_y2_output_root_mean_squared_error: nan\n",
      "Epoch 145/500\n",
      "104/104 [==============================] - 0s 2ms/step - loss: nan - y1_output_loss: nan - y2_output_loss: nan - y1_output_root_mean_squared_error: nan - y2_output_root_mean_squared_error: nan - val_loss: nan - val_y1_output_loss: nan - val_y2_output_loss: nan - val_y1_output_root_mean_squared_error: nan - val_y2_output_root_mean_squared_error: nan\n",
      "Epoch 146/500\n",
      "104/104 [==============================] - 0s 2ms/step - loss: nan - y1_output_loss: nan - y2_output_loss: nan - y1_output_root_mean_squared_error: nan - y2_output_root_mean_squared_error: nan - val_loss: nan - val_y1_output_loss: nan - val_y2_output_loss: nan - val_y1_output_root_mean_squared_error: nan - val_y2_output_root_mean_squared_error: nan\n",
      "Epoch 147/500\n",
      "104/104 [==============================] - 0s 2ms/step - loss: nan - y1_output_loss: nan - y2_output_loss: nan - y1_output_root_mean_squared_error: nan - y2_output_root_mean_squared_error: nan - val_loss: nan - val_y1_output_loss: nan - val_y2_output_loss: nan - val_y1_output_root_mean_squared_error: nan - val_y2_output_root_mean_squared_error: nan\n",
      "Epoch 148/500\n",
      "104/104 [==============================] - 0s 2ms/step - loss: nan - y1_output_loss: nan - y2_output_loss: nan - y1_output_root_mean_squared_error: nan - y2_output_root_mean_squared_error: nan - val_loss: nan - val_y1_output_loss: nan - val_y2_output_loss: nan - val_y1_output_root_mean_squared_error: nan - val_y2_output_root_mean_squared_error: nan\n",
      "Epoch 149/500\n",
      "104/104 [==============================] - 0s 2ms/step - loss: nan - y1_output_loss: nan - y2_output_loss: nan - y1_output_root_mean_squared_error: nan - y2_output_root_mean_squared_error: nan - val_loss: nan - val_y1_output_loss: nan - val_y2_output_loss: nan - val_y1_output_root_mean_squared_error: nan - val_y2_output_root_mean_squared_error: nan\n",
      "Epoch 150/500\n",
      "104/104 [==============================] - 0s 2ms/step - loss: nan - y1_output_loss: nan - y2_output_loss: nan - y1_output_root_mean_squared_error: nan - y2_output_root_mean_squared_error: nan - val_loss: nan - val_y1_output_loss: nan - val_y2_output_loss: nan - val_y1_output_root_mean_squared_error: nan - val_y2_output_root_mean_squared_error: nan\n",
      "Epoch 151/500\n",
      "104/104 [==============================] - 0s 2ms/step - loss: nan - y1_output_loss: nan - y2_output_loss: nan - y1_output_root_mean_squared_error: nan - y2_output_root_mean_squared_error: nan - val_loss: nan - val_y1_output_loss: nan - val_y2_output_loss: nan - val_y1_output_root_mean_squared_error: nan - val_y2_output_root_mean_squared_error: nan\n",
      "Epoch 152/500\n",
      "104/104 [==============================] - 0s 2ms/step - loss: nan - y1_output_loss: nan - y2_output_loss: nan - y1_output_root_mean_squared_error: nan - y2_output_root_mean_squared_error: nan - val_loss: nan - val_y1_output_loss: nan - val_y2_output_loss: nan - val_y1_output_root_mean_squared_error: nan - val_y2_output_root_mean_squared_error: nan\n",
      "Epoch 153/500\n",
      "104/104 [==============================] - 0s 2ms/step - loss: nan - y1_output_loss: nan - y2_output_loss: nan - y1_output_root_mean_squared_error: nan - y2_output_root_mean_squared_error: nan - val_loss: nan - val_y1_output_loss: nan - val_y2_output_loss: nan - val_y1_output_root_mean_squared_error: nan - val_y2_output_root_mean_squared_error: nan\n",
      "Epoch 154/500\n",
      "104/104 [==============================] - 0s 2ms/step - loss: nan - y1_output_loss: nan - y2_output_loss: nan - y1_output_root_mean_squared_error: nan - y2_output_root_mean_squared_error: nan - val_loss: nan - val_y1_output_loss: nan - val_y2_output_loss: nan - val_y1_output_root_mean_squared_error: nan - val_y2_output_root_mean_squared_error: nan\n",
      "Epoch 155/500\n"
     ]
    },
    {
     "name": "stdout",
     "output_type": "stream",
     "text": [
      "104/104 [==============================] - 0s 2ms/step - loss: nan - y1_output_loss: nan - y2_output_loss: nan - y1_output_root_mean_squared_error: nan - y2_output_root_mean_squared_error: nan - val_loss: nan - val_y1_output_loss: nan - val_y2_output_loss: nan - val_y1_output_root_mean_squared_error: nan - val_y2_output_root_mean_squared_error: nan\n",
      "Epoch 156/500\n",
      "104/104 [==============================] - 0s 2ms/step - loss: nan - y1_output_loss: nan - y2_output_loss: nan - y1_output_root_mean_squared_error: nan - y2_output_root_mean_squared_error: nan - val_loss: nan - val_y1_output_loss: nan - val_y2_output_loss: nan - val_y1_output_root_mean_squared_error: nan - val_y2_output_root_mean_squared_error: nan\n",
      "Epoch 157/500\n",
      "104/104 [==============================] - 0s 2ms/step - loss: nan - y1_output_loss: nan - y2_output_loss: nan - y1_output_root_mean_squared_error: nan - y2_output_root_mean_squared_error: nan - val_loss: nan - val_y1_output_loss: nan - val_y2_output_loss: nan - val_y1_output_root_mean_squared_error: nan - val_y2_output_root_mean_squared_error: nan\n",
      "Epoch 158/500\n",
      "104/104 [==============================] - 0s 2ms/step - loss: nan - y1_output_loss: nan - y2_output_loss: nan - y1_output_root_mean_squared_error: nan - y2_output_root_mean_squared_error: nan - val_loss: nan - val_y1_output_loss: nan - val_y2_output_loss: nan - val_y1_output_root_mean_squared_error: nan - val_y2_output_root_mean_squared_error: nan\n",
      "Epoch 159/500\n",
      "104/104 [==============================] - 0s 4ms/step - loss: nan - y1_output_loss: nan - y2_output_loss: nan - y1_output_root_mean_squared_error: nan - y2_output_root_mean_squared_error: nan - val_loss: nan - val_y1_output_loss: nan - val_y2_output_loss: nan - val_y1_output_root_mean_squared_error: nan - val_y2_output_root_mean_squared_error: nan\n",
      "Epoch 160/500\n",
      "104/104 [==============================] - 0s 2ms/step - loss: nan - y1_output_loss: nan - y2_output_loss: nan - y1_output_root_mean_squared_error: nan - y2_output_root_mean_squared_error: nan - val_loss: nan - val_y1_output_loss: nan - val_y2_output_loss: nan - val_y1_output_root_mean_squared_error: nan - val_y2_output_root_mean_squared_error: nan\n",
      "Epoch 161/500\n",
      "104/104 [==============================] - 0s 2ms/step - loss: nan - y1_output_loss: nan - y2_output_loss: nan - y1_output_root_mean_squared_error: nan - y2_output_root_mean_squared_error: nan - val_loss: nan - val_y1_output_loss: nan - val_y2_output_loss: nan - val_y1_output_root_mean_squared_error: nan - val_y2_output_root_mean_squared_error: nan\n",
      "Epoch 162/500\n",
      "104/104 [==============================] - 0s 2ms/step - loss: nan - y1_output_loss: nan - y2_output_loss: nan - y1_output_root_mean_squared_error: nan - y2_output_root_mean_squared_error: nan - val_loss: nan - val_y1_output_loss: nan - val_y2_output_loss: nan - val_y1_output_root_mean_squared_error: nan - val_y2_output_root_mean_squared_error: nan\n",
      "Epoch 163/500\n",
      "104/104 [==============================] - 0s 2ms/step - loss: nan - y1_output_loss: nan - y2_output_loss: nan - y1_output_root_mean_squared_error: nan - y2_output_root_mean_squared_error: nan - val_loss: nan - val_y1_output_loss: nan - val_y2_output_loss: nan - val_y1_output_root_mean_squared_error: nan - val_y2_output_root_mean_squared_error: nan\n",
      "Epoch 164/500\n",
      "104/104 [==============================] - 0s 2ms/step - loss: nan - y1_output_loss: nan - y2_output_loss: nan - y1_output_root_mean_squared_error: nan - y2_output_root_mean_squared_error: nan - val_loss: nan - val_y1_output_loss: nan - val_y2_output_loss: nan - val_y1_output_root_mean_squared_error: nan - val_y2_output_root_mean_squared_error: nan\n",
      "Epoch 165/500\n",
      "104/104 [==============================] - 0s 2ms/step - loss: nan - y1_output_loss: nan - y2_output_loss: nan - y1_output_root_mean_squared_error: nan - y2_output_root_mean_squared_error: nan - val_loss: nan - val_y1_output_loss: nan - val_y2_output_loss: nan - val_y1_output_root_mean_squared_error: nan - val_y2_output_root_mean_squared_error: nan\n",
      "Epoch 166/500\n",
      "104/104 [==============================] - 0s 2ms/step - loss: nan - y1_output_loss: nan - y2_output_loss: nan - y1_output_root_mean_squared_error: nan - y2_output_root_mean_squared_error: nan - val_loss: nan - val_y1_output_loss: nan - val_y2_output_loss: nan - val_y1_output_root_mean_squared_error: nan - val_y2_output_root_mean_squared_error: nan\n",
      "Epoch 167/500\n",
      "104/104 [==============================] - 0s 3ms/step - loss: nan - y1_output_loss: nan - y2_output_loss: nan - y1_output_root_mean_squared_error: nan - y2_output_root_mean_squared_error: nan - val_loss: nan - val_y1_output_loss: nan - val_y2_output_loss: nan - val_y1_output_root_mean_squared_error: nan - val_y2_output_root_mean_squared_error: nan\n",
      "Epoch 168/500\n",
      "104/104 [==============================] - 0s 3ms/step - loss: nan - y1_output_loss: nan - y2_output_loss: nan - y1_output_root_mean_squared_error: nan - y2_output_root_mean_squared_error: nan - val_loss: nan - val_y1_output_loss: nan - val_y2_output_loss: nan - val_y1_output_root_mean_squared_error: nan - val_y2_output_root_mean_squared_error: nan\n",
      "Epoch 169/500\n",
      "104/104 [==============================] - 0s 2ms/step - loss: nan - y1_output_loss: nan - y2_output_loss: nan - y1_output_root_mean_squared_error: nan - y2_output_root_mean_squared_error: nan - val_loss: nan - val_y1_output_loss: nan - val_y2_output_loss: nan - val_y1_output_root_mean_squared_error: nan - val_y2_output_root_mean_squared_error: nan\n",
      "Epoch 170/500\n",
      "104/104 [==============================] - 0s 3ms/step - loss: nan - y1_output_loss: nan - y2_output_loss: nan - y1_output_root_mean_squared_error: nan - y2_output_root_mean_squared_error: nan - val_loss: nan - val_y1_output_loss: nan - val_y2_output_loss: nan - val_y1_output_root_mean_squared_error: nan - val_y2_output_root_mean_squared_error: nan\n",
      "Epoch 171/500\n",
      "104/104 [==============================] - 0s 3ms/step - loss: nan - y1_output_loss: nan - y2_output_loss: nan - y1_output_root_mean_squared_error: nan - y2_output_root_mean_squared_error: nan - val_loss: nan - val_y1_output_loss: nan - val_y2_output_loss: nan - val_y1_output_root_mean_squared_error: nan - val_y2_output_root_mean_squared_error: nan\n",
      "Epoch 172/500\n",
      "104/104 [==============================] - 0s 2ms/step - loss: nan - y1_output_loss: nan - y2_output_loss: nan - y1_output_root_mean_squared_error: nan - y2_output_root_mean_squared_error: nan - val_loss: nan - val_y1_output_loss: nan - val_y2_output_loss: nan - val_y1_output_root_mean_squared_error: nan - val_y2_output_root_mean_squared_error: nan\n",
      "Epoch 173/500\n",
      "104/104 [==============================] - 0s 2ms/step - loss: nan - y1_output_loss: nan - y2_output_loss: nan - y1_output_root_mean_squared_error: nan - y2_output_root_mean_squared_error: nan - val_loss: nan - val_y1_output_loss: nan - val_y2_output_loss: nan - val_y1_output_root_mean_squared_error: nan - val_y2_output_root_mean_squared_error: nan\n",
      "Epoch 174/500\n",
      "104/104 [==============================] - 0s 2ms/step - loss: nan - y1_output_loss: nan - y2_output_loss: nan - y1_output_root_mean_squared_error: nan - y2_output_root_mean_squared_error: nan - val_loss: nan - val_y1_output_loss: nan - val_y2_output_loss: nan - val_y1_output_root_mean_squared_error: nan - val_y2_output_root_mean_squared_error: nan\n",
      "Epoch 175/500\n",
      "104/104 [==============================] - 0s 2ms/step - loss: nan - y1_output_loss: nan - y2_output_loss: nan - y1_output_root_mean_squared_error: nan - y2_output_root_mean_squared_error: nan - val_loss: nan - val_y1_output_loss: nan - val_y2_output_loss: nan - val_y1_output_root_mean_squared_error: nan - val_y2_output_root_mean_squared_error: nan\n",
      "Epoch 176/500\n",
      "104/104 [==============================] - 0s 2ms/step - loss: nan - y1_output_loss: nan - y2_output_loss: nan - y1_output_root_mean_squared_error: nan - y2_output_root_mean_squared_error: nan - val_loss: nan - val_y1_output_loss: nan - val_y2_output_loss: nan - val_y1_output_root_mean_squared_error: nan - val_y2_output_root_mean_squared_error: nan\n",
      "Epoch 177/500\n"
     ]
    },
    {
     "name": "stdout",
     "output_type": "stream",
     "text": [
      "104/104 [==============================] - 0s 2ms/step - loss: nan - y1_output_loss: nan - y2_output_loss: nan - y1_output_root_mean_squared_error: nan - y2_output_root_mean_squared_error: nan - val_loss: nan - val_y1_output_loss: nan - val_y2_output_loss: nan - val_y1_output_root_mean_squared_error: nan - val_y2_output_root_mean_squared_error: nan\n",
      "Epoch 178/500\n",
      "104/104 [==============================] - 0s 2ms/step - loss: nan - y1_output_loss: nan - y2_output_loss: nan - y1_output_root_mean_squared_error: nan - y2_output_root_mean_squared_error: nan - val_loss: nan - val_y1_output_loss: nan - val_y2_output_loss: nan - val_y1_output_root_mean_squared_error: nan - val_y2_output_root_mean_squared_error: nan\n",
      "Epoch 179/500\n",
      "104/104 [==============================] - 0s 2ms/step - loss: nan - y1_output_loss: nan - y2_output_loss: nan - y1_output_root_mean_squared_error: nan - y2_output_root_mean_squared_error: nan - val_loss: nan - val_y1_output_loss: nan - val_y2_output_loss: nan - val_y1_output_root_mean_squared_error: nan - val_y2_output_root_mean_squared_error: nan\n",
      "Epoch 180/500\n",
      "104/104 [==============================] - 0s 2ms/step - loss: nan - y1_output_loss: nan - y2_output_loss: nan - y1_output_root_mean_squared_error: nan - y2_output_root_mean_squared_error: nan - val_loss: nan - val_y1_output_loss: nan - val_y2_output_loss: nan - val_y1_output_root_mean_squared_error: nan - val_y2_output_root_mean_squared_error: nan\n",
      "Epoch 181/500\n",
      "104/104 [==============================] - 0s 2ms/step - loss: nan - y1_output_loss: nan - y2_output_loss: nan - y1_output_root_mean_squared_error: nan - y2_output_root_mean_squared_error: nan - val_loss: nan - val_y1_output_loss: nan - val_y2_output_loss: nan - val_y1_output_root_mean_squared_error: nan - val_y2_output_root_mean_squared_error: nan\n",
      "Epoch 182/500\n",
      "104/104 [==============================] - 0s 2ms/step - loss: nan - y1_output_loss: nan - y2_output_loss: nan - y1_output_root_mean_squared_error: nan - y2_output_root_mean_squared_error: nan - val_loss: nan - val_y1_output_loss: nan - val_y2_output_loss: nan - val_y1_output_root_mean_squared_error: nan - val_y2_output_root_mean_squared_error: nan\n",
      "Epoch 183/500\n",
      "104/104 [==============================] - 0s 2ms/step - loss: nan - y1_output_loss: nan - y2_output_loss: nan - y1_output_root_mean_squared_error: nan - y2_output_root_mean_squared_error: nan - val_loss: nan - val_y1_output_loss: nan - val_y2_output_loss: nan - val_y1_output_root_mean_squared_error: nan - val_y2_output_root_mean_squared_error: nan\n",
      "Epoch 184/500\n",
      "104/104 [==============================] - 0s 2ms/step - loss: nan - y1_output_loss: nan - y2_output_loss: nan - y1_output_root_mean_squared_error: nan - y2_output_root_mean_squared_error: nan - val_loss: nan - val_y1_output_loss: nan - val_y2_output_loss: nan - val_y1_output_root_mean_squared_error: nan - val_y2_output_root_mean_squared_error: nan\n",
      "Epoch 185/500\n",
      "104/104 [==============================] - 0s 2ms/step - loss: nan - y1_output_loss: nan - y2_output_loss: nan - y1_output_root_mean_squared_error: nan - y2_output_root_mean_squared_error: nan - val_loss: nan - val_y1_output_loss: nan - val_y2_output_loss: nan - val_y1_output_root_mean_squared_error: nan - val_y2_output_root_mean_squared_error: nan\n",
      "Epoch 186/500\n",
      "104/104 [==============================] - 0s 2ms/step - loss: nan - y1_output_loss: nan - y2_output_loss: nan - y1_output_root_mean_squared_error: nan - y2_output_root_mean_squared_error: nan - val_loss: nan - val_y1_output_loss: nan - val_y2_output_loss: nan - val_y1_output_root_mean_squared_error: nan - val_y2_output_root_mean_squared_error: nan\n",
      "Epoch 187/500\n",
      "104/104 [==============================] - 0s 2ms/step - loss: nan - y1_output_loss: nan - y2_output_loss: nan - y1_output_root_mean_squared_error: nan - y2_output_root_mean_squared_error: nan - val_loss: nan - val_y1_output_loss: nan - val_y2_output_loss: nan - val_y1_output_root_mean_squared_error: nan - val_y2_output_root_mean_squared_error: nan\n",
      "Epoch 188/500\n",
      "104/104 [==============================] - 0s 2ms/step - loss: nan - y1_output_loss: nan - y2_output_loss: nan - y1_output_root_mean_squared_error: nan - y2_output_root_mean_squared_error: nan - val_loss: nan - val_y1_output_loss: nan - val_y2_output_loss: nan - val_y1_output_root_mean_squared_error: nan - val_y2_output_root_mean_squared_error: nan\n",
      "Epoch 189/500\n",
      "104/104 [==============================] - 0s 2ms/step - loss: nan - y1_output_loss: nan - y2_output_loss: nan - y1_output_root_mean_squared_error: nan - y2_output_root_mean_squared_error: nan - val_loss: nan - val_y1_output_loss: nan - val_y2_output_loss: nan - val_y1_output_root_mean_squared_error: nan - val_y2_output_root_mean_squared_error: nan\n",
      "Epoch 190/500\n",
      "104/104 [==============================] - 0s 2ms/step - loss: nan - y1_output_loss: nan - y2_output_loss: nan - y1_output_root_mean_squared_error: nan - y2_output_root_mean_squared_error: nan - val_loss: nan - val_y1_output_loss: nan - val_y2_output_loss: nan - val_y1_output_root_mean_squared_error: nan - val_y2_output_root_mean_squared_error: nan\n",
      "Epoch 191/500\n",
      "104/104 [==============================] - 0s 2ms/step - loss: nan - y1_output_loss: nan - y2_output_loss: nan - y1_output_root_mean_squared_error: nan - y2_output_root_mean_squared_error: nan - val_loss: nan - val_y1_output_loss: nan - val_y2_output_loss: nan - val_y1_output_root_mean_squared_error: nan - val_y2_output_root_mean_squared_error: nan\n",
      "Epoch 192/500\n",
      "104/104 [==============================] - 0s 2ms/step - loss: nan - y1_output_loss: nan - y2_output_loss: nan - y1_output_root_mean_squared_error: nan - y2_output_root_mean_squared_error: nan - val_loss: nan - val_y1_output_loss: nan - val_y2_output_loss: nan - val_y1_output_root_mean_squared_error: nan - val_y2_output_root_mean_squared_error: nan\n",
      "Epoch 193/500\n",
      "104/104 [==============================] - 0s 2ms/step - loss: nan - y1_output_loss: nan - y2_output_loss: nan - y1_output_root_mean_squared_error: nan - y2_output_root_mean_squared_error: nan - val_loss: nan - val_y1_output_loss: nan - val_y2_output_loss: nan - val_y1_output_root_mean_squared_error: nan - val_y2_output_root_mean_squared_error: nan\n",
      "Epoch 194/500\n",
      "104/104 [==============================] - 0s 2ms/step - loss: nan - y1_output_loss: nan - y2_output_loss: nan - y1_output_root_mean_squared_error: nan - y2_output_root_mean_squared_error: nan - val_loss: nan - val_y1_output_loss: nan - val_y2_output_loss: nan - val_y1_output_root_mean_squared_error: nan - val_y2_output_root_mean_squared_error: nan\n",
      "Epoch 195/500\n",
      "104/104 [==============================] - 0s 2ms/step - loss: nan - y1_output_loss: nan - y2_output_loss: nan - y1_output_root_mean_squared_error: nan - y2_output_root_mean_squared_error: nan - val_loss: nan - val_y1_output_loss: nan - val_y2_output_loss: nan - val_y1_output_root_mean_squared_error: nan - val_y2_output_root_mean_squared_error: nan\n",
      "Epoch 196/500\n",
      "104/104 [==============================] - 0s 2ms/step - loss: nan - y1_output_loss: nan - y2_output_loss: nan - y1_output_root_mean_squared_error: nan - y2_output_root_mean_squared_error: nan - val_loss: nan - val_y1_output_loss: nan - val_y2_output_loss: nan - val_y1_output_root_mean_squared_error: nan - val_y2_output_root_mean_squared_error: nan\n",
      "Epoch 197/500\n",
      "104/104 [==============================] - 0s 2ms/step - loss: nan - y1_output_loss: nan - y2_output_loss: nan - y1_output_root_mean_squared_error: nan - y2_output_root_mean_squared_error: nan - val_loss: nan - val_y1_output_loss: nan - val_y2_output_loss: nan - val_y1_output_root_mean_squared_error: nan - val_y2_output_root_mean_squared_error: nan\n",
      "Epoch 198/500\n",
      "104/104 [==============================] - 0s 2ms/step - loss: nan - y1_output_loss: nan - y2_output_loss: nan - y1_output_root_mean_squared_error: nan - y2_output_root_mean_squared_error: nan - val_loss: nan - val_y1_output_loss: nan - val_y2_output_loss: nan - val_y1_output_root_mean_squared_error: nan - val_y2_output_root_mean_squared_error: nan\n",
      "Epoch 199/500\n"
     ]
    },
    {
     "name": "stdout",
     "output_type": "stream",
     "text": [
      "104/104 [==============================] - 0s 2ms/step - loss: nan - y1_output_loss: nan - y2_output_loss: nan - y1_output_root_mean_squared_error: nan - y2_output_root_mean_squared_error: nan - val_loss: nan - val_y1_output_loss: nan - val_y2_output_loss: nan - val_y1_output_root_mean_squared_error: nan - val_y2_output_root_mean_squared_error: nan\n",
      "Epoch 200/500\n",
      "104/104 [==============================] - 0s 2ms/step - loss: nan - y1_output_loss: nan - y2_output_loss: nan - y1_output_root_mean_squared_error: nan - y2_output_root_mean_squared_error: nan - val_loss: nan - val_y1_output_loss: nan - val_y2_output_loss: nan - val_y1_output_root_mean_squared_error: nan - val_y2_output_root_mean_squared_error: nan\n",
      "Epoch 201/500\n",
      "104/104 [==============================] - 0s 2ms/step - loss: nan - y1_output_loss: nan - y2_output_loss: nan - y1_output_root_mean_squared_error: nan - y2_output_root_mean_squared_error: nan - val_loss: nan - val_y1_output_loss: nan - val_y2_output_loss: nan - val_y1_output_root_mean_squared_error: nan - val_y2_output_root_mean_squared_error: nan\n",
      "Epoch 202/500\n",
      "104/104 [==============================] - 0s 2ms/step - loss: nan - y1_output_loss: nan - y2_output_loss: nan - y1_output_root_mean_squared_error: nan - y2_output_root_mean_squared_error: nan - val_loss: nan - val_y1_output_loss: nan - val_y2_output_loss: nan - val_y1_output_root_mean_squared_error: nan - val_y2_output_root_mean_squared_error: nan\n",
      "Epoch 203/500\n",
      "104/104 [==============================] - 0s 2ms/step - loss: nan - y1_output_loss: nan - y2_output_loss: nan - y1_output_root_mean_squared_error: nan - y2_output_root_mean_squared_error: nan - val_loss: nan - val_y1_output_loss: nan - val_y2_output_loss: nan - val_y1_output_root_mean_squared_error: nan - val_y2_output_root_mean_squared_error: nan\n",
      "Epoch 204/500\n",
      "104/104 [==============================] - 0s 2ms/step - loss: nan - y1_output_loss: nan - y2_output_loss: nan - y1_output_root_mean_squared_error: nan - y2_output_root_mean_squared_error: nan - val_loss: nan - val_y1_output_loss: nan - val_y2_output_loss: nan - val_y1_output_root_mean_squared_error: nan - val_y2_output_root_mean_squared_error: nan\n",
      "Epoch 205/500\n",
      "104/104 [==============================] - 0s 2ms/step - loss: nan - y1_output_loss: nan - y2_output_loss: nan - y1_output_root_mean_squared_error: nan - y2_output_root_mean_squared_error: nan - val_loss: nan - val_y1_output_loss: nan - val_y2_output_loss: nan - val_y1_output_root_mean_squared_error: nan - val_y2_output_root_mean_squared_error: nan\n",
      "Epoch 206/500\n",
      "104/104 [==============================] - 0s 2ms/step - loss: nan - y1_output_loss: nan - y2_output_loss: nan - y1_output_root_mean_squared_error: nan - y2_output_root_mean_squared_error: nan - val_loss: nan - val_y1_output_loss: nan - val_y2_output_loss: nan - val_y1_output_root_mean_squared_error: nan - val_y2_output_root_mean_squared_error: nan\n",
      "Epoch 207/500\n",
      "104/104 [==============================] - 0s 2ms/step - loss: nan - y1_output_loss: nan - y2_output_loss: nan - y1_output_root_mean_squared_error: nan - y2_output_root_mean_squared_error: nan - val_loss: nan - val_y1_output_loss: nan - val_y2_output_loss: nan - val_y1_output_root_mean_squared_error: nan - val_y2_output_root_mean_squared_error: nan\n",
      "Epoch 208/500\n",
      "104/104 [==============================] - 0s 2ms/step - loss: nan - y1_output_loss: nan - y2_output_loss: nan - y1_output_root_mean_squared_error: nan - y2_output_root_mean_squared_error: nan - val_loss: nan - val_y1_output_loss: nan - val_y2_output_loss: nan - val_y1_output_root_mean_squared_error: nan - val_y2_output_root_mean_squared_error: nan\n",
      "Epoch 209/500\n",
      "104/104 [==============================] - 0s 2ms/step - loss: nan - y1_output_loss: nan - y2_output_loss: nan - y1_output_root_mean_squared_error: nan - y2_output_root_mean_squared_error: nan - val_loss: nan - val_y1_output_loss: nan - val_y2_output_loss: nan - val_y1_output_root_mean_squared_error: nan - val_y2_output_root_mean_squared_error: nan\n",
      "Epoch 210/500\n",
      "104/104 [==============================] - 0s 2ms/step - loss: nan - y1_output_loss: nan - y2_output_loss: nan - y1_output_root_mean_squared_error: nan - y2_output_root_mean_squared_error: nan - val_loss: nan - val_y1_output_loss: nan - val_y2_output_loss: nan - val_y1_output_root_mean_squared_error: nan - val_y2_output_root_mean_squared_error: nan\n",
      "Epoch 211/500\n",
      "104/104 [==============================] - 0s 2ms/step - loss: nan - y1_output_loss: nan - y2_output_loss: nan - y1_output_root_mean_squared_error: nan - y2_output_root_mean_squared_error: nan - val_loss: nan - val_y1_output_loss: nan - val_y2_output_loss: nan - val_y1_output_root_mean_squared_error: nan - val_y2_output_root_mean_squared_error: nan\n",
      "Epoch 212/500\n",
      "104/104 [==============================] - 0s 2ms/step - loss: nan - y1_output_loss: nan - y2_output_loss: nan - y1_output_root_mean_squared_error: nan - y2_output_root_mean_squared_error: nan - val_loss: nan - val_y1_output_loss: nan - val_y2_output_loss: nan - val_y1_output_root_mean_squared_error: nan - val_y2_output_root_mean_squared_error: nan\n",
      "Epoch 213/500\n",
      "104/104 [==============================] - 0s 2ms/step - loss: nan - y1_output_loss: nan - y2_output_loss: nan - y1_output_root_mean_squared_error: nan - y2_output_root_mean_squared_error: nan - val_loss: nan - val_y1_output_loss: nan - val_y2_output_loss: nan - val_y1_output_root_mean_squared_error: nan - val_y2_output_root_mean_squared_error: nan\n",
      "Epoch 214/500\n",
      "104/104 [==============================] - 0s 3ms/step - loss: nan - y1_output_loss: nan - y2_output_loss: nan - y1_output_root_mean_squared_error: nan - y2_output_root_mean_squared_error: nan - val_loss: nan - val_y1_output_loss: nan - val_y2_output_loss: nan - val_y1_output_root_mean_squared_error: nan - val_y2_output_root_mean_squared_error: nan\n",
      "Epoch 215/500\n",
      "104/104 [==============================] - 0s 3ms/step - loss: nan - y1_output_loss: nan - y2_output_loss: nan - y1_output_root_mean_squared_error: nan - y2_output_root_mean_squared_error: nan - val_loss: nan - val_y1_output_loss: nan - val_y2_output_loss: nan - val_y1_output_root_mean_squared_error: nan - val_y2_output_root_mean_squared_error: nan\n",
      "Epoch 216/500\n",
      "104/104 [==============================] - 0s 2ms/step - loss: nan - y1_output_loss: nan - y2_output_loss: nan - y1_output_root_mean_squared_error: nan - y2_output_root_mean_squared_error: nan - val_loss: nan - val_y1_output_loss: nan - val_y2_output_loss: nan - val_y1_output_root_mean_squared_error: nan - val_y2_output_root_mean_squared_error: nan\n",
      "Epoch 217/500\n",
      "104/104 [==============================] - 0s 2ms/step - loss: nan - y1_output_loss: nan - y2_output_loss: nan - y1_output_root_mean_squared_error: nan - y2_output_root_mean_squared_error: nan - val_loss: nan - val_y1_output_loss: nan - val_y2_output_loss: nan - val_y1_output_root_mean_squared_error: nan - val_y2_output_root_mean_squared_error: nan\n",
      "Epoch 218/500\n",
      "104/104 [==============================] - 0s 2ms/step - loss: nan - y1_output_loss: nan - y2_output_loss: nan - y1_output_root_mean_squared_error: nan - y2_output_root_mean_squared_error: nan - val_loss: nan - val_y1_output_loss: nan - val_y2_output_loss: nan - val_y1_output_root_mean_squared_error: nan - val_y2_output_root_mean_squared_error: nan\n",
      "Epoch 219/500\n",
      "104/104 [==============================] - 0s 2ms/step - loss: nan - y1_output_loss: nan - y2_output_loss: nan - y1_output_root_mean_squared_error: nan - y2_output_root_mean_squared_error: nan - val_loss: nan - val_y1_output_loss: nan - val_y2_output_loss: nan - val_y1_output_root_mean_squared_error: nan - val_y2_output_root_mean_squared_error: nan\n",
      "Epoch 220/500\n",
      "104/104 [==============================] - 0s 2ms/step - loss: nan - y1_output_loss: nan - y2_output_loss: nan - y1_output_root_mean_squared_error: nan - y2_output_root_mean_squared_error: nan - val_loss: nan - val_y1_output_loss: nan - val_y2_output_loss: nan - val_y1_output_root_mean_squared_error: nan - val_y2_output_root_mean_squared_error: nan\n",
      "Epoch 221/500\n"
     ]
    },
    {
     "name": "stdout",
     "output_type": "stream",
     "text": [
      "104/104 [==============================] - 0s 2ms/step - loss: nan - y1_output_loss: nan - y2_output_loss: nan - y1_output_root_mean_squared_error: nan - y2_output_root_mean_squared_error: nan - val_loss: nan - val_y1_output_loss: nan - val_y2_output_loss: nan - val_y1_output_root_mean_squared_error: nan - val_y2_output_root_mean_squared_error: nan\n",
      "Epoch 222/500\n",
      "104/104 [==============================] - 0s 2ms/step - loss: nan - y1_output_loss: nan - y2_output_loss: nan - y1_output_root_mean_squared_error: nan - y2_output_root_mean_squared_error: nan - val_loss: nan - val_y1_output_loss: nan - val_y2_output_loss: nan - val_y1_output_root_mean_squared_error: nan - val_y2_output_root_mean_squared_error: nan\n",
      "Epoch 223/500\n",
      "104/104 [==============================] - 0s 2ms/step - loss: nan - y1_output_loss: nan - y2_output_loss: nan - y1_output_root_mean_squared_error: nan - y2_output_root_mean_squared_error: nan - val_loss: nan - val_y1_output_loss: nan - val_y2_output_loss: nan - val_y1_output_root_mean_squared_error: nan - val_y2_output_root_mean_squared_error: nan\n",
      "Epoch 224/500\n",
      "104/104 [==============================] - 0s 2ms/step - loss: nan - y1_output_loss: nan - y2_output_loss: nan - y1_output_root_mean_squared_error: nan - y2_output_root_mean_squared_error: nan - val_loss: nan - val_y1_output_loss: nan - val_y2_output_loss: nan - val_y1_output_root_mean_squared_error: nan - val_y2_output_root_mean_squared_error: nan\n",
      "Epoch 225/500\n",
      "104/104 [==============================] - 0s 2ms/step - loss: nan - y1_output_loss: nan - y2_output_loss: nan - y1_output_root_mean_squared_error: nan - y2_output_root_mean_squared_error: nan - val_loss: nan - val_y1_output_loss: nan - val_y2_output_loss: nan - val_y1_output_root_mean_squared_error: nan - val_y2_output_root_mean_squared_error: nan\n",
      "Epoch 226/500\n",
      "104/104 [==============================] - 0s 4ms/step - loss: nan - y1_output_loss: nan - y2_output_loss: nan - y1_output_root_mean_squared_error: nan - y2_output_root_mean_squared_error: nan - val_loss: nan - val_y1_output_loss: nan - val_y2_output_loss: nan - val_y1_output_root_mean_squared_error: nan - val_y2_output_root_mean_squared_error: nan\n",
      "Epoch 227/500\n",
      "104/104 [==============================] - 0s 3ms/step - loss: nan - y1_output_loss: nan - y2_output_loss: nan - y1_output_root_mean_squared_error: nan - y2_output_root_mean_squared_error: nan - val_loss: nan - val_y1_output_loss: nan - val_y2_output_loss: nan - val_y1_output_root_mean_squared_error: nan - val_y2_output_root_mean_squared_error: nan\n",
      "Epoch 228/500\n",
      "104/104 [==============================] - 0s 2ms/step - loss: nan - y1_output_loss: nan - y2_output_loss: nan - y1_output_root_mean_squared_error: nan - y2_output_root_mean_squared_error: nan - val_loss: nan - val_y1_output_loss: nan - val_y2_output_loss: nan - val_y1_output_root_mean_squared_error: nan - val_y2_output_root_mean_squared_error: nan\n",
      "Epoch 229/500\n",
      "104/104 [==============================] - 0s 2ms/step - loss: nan - y1_output_loss: nan - y2_output_loss: nan - y1_output_root_mean_squared_error: nan - y2_output_root_mean_squared_error: nan - val_loss: nan - val_y1_output_loss: nan - val_y2_output_loss: nan - val_y1_output_root_mean_squared_error: nan - val_y2_output_root_mean_squared_error: nan\n",
      "Epoch 230/500\n",
      "104/104 [==============================] - 0s 2ms/step - loss: nan - y1_output_loss: nan - y2_output_loss: nan - y1_output_root_mean_squared_error: nan - y2_output_root_mean_squared_error: nan - val_loss: nan - val_y1_output_loss: nan - val_y2_output_loss: nan - val_y1_output_root_mean_squared_error: nan - val_y2_output_root_mean_squared_error: nan\n",
      "Epoch 231/500\n",
      "104/104 [==============================] - 0s 2ms/step - loss: nan - y1_output_loss: nan - y2_output_loss: nan - y1_output_root_mean_squared_error: nan - y2_output_root_mean_squared_error: nan - val_loss: nan - val_y1_output_loss: nan - val_y2_output_loss: nan - val_y1_output_root_mean_squared_error: nan - val_y2_output_root_mean_squared_error: nan\n",
      "Epoch 232/500\n",
      "104/104 [==============================] - 0s 2ms/step - loss: nan - y1_output_loss: nan - y2_output_loss: nan - y1_output_root_mean_squared_error: nan - y2_output_root_mean_squared_error: nan - val_loss: nan - val_y1_output_loss: nan - val_y2_output_loss: nan - val_y1_output_root_mean_squared_error: nan - val_y2_output_root_mean_squared_error: nan\n",
      "Epoch 233/500\n",
      "104/104 [==============================] - 0s 2ms/step - loss: nan - y1_output_loss: nan - y2_output_loss: nan - y1_output_root_mean_squared_error: nan - y2_output_root_mean_squared_error: nan - val_loss: nan - val_y1_output_loss: nan - val_y2_output_loss: nan - val_y1_output_root_mean_squared_error: nan - val_y2_output_root_mean_squared_error: nan\n",
      "Epoch 234/500\n",
      "104/104 [==============================] - 0s 2ms/step - loss: nan - y1_output_loss: nan - y2_output_loss: nan - y1_output_root_mean_squared_error: nan - y2_output_root_mean_squared_error: nan - val_loss: nan - val_y1_output_loss: nan - val_y2_output_loss: nan - val_y1_output_root_mean_squared_error: nan - val_y2_output_root_mean_squared_error: nan\n",
      "Epoch 235/500\n",
      "104/104 [==============================] - 0s 2ms/step - loss: nan - y1_output_loss: nan - y2_output_loss: nan - y1_output_root_mean_squared_error: nan - y2_output_root_mean_squared_error: nan - val_loss: nan - val_y1_output_loss: nan - val_y2_output_loss: nan - val_y1_output_root_mean_squared_error: nan - val_y2_output_root_mean_squared_error: nan\n",
      "Epoch 236/500\n",
      "104/104 [==============================] - 0s 2ms/step - loss: nan - y1_output_loss: nan - y2_output_loss: nan - y1_output_root_mean_squared_error: nan - y2_output_root_mean_squared_error: nan - val_loss: nan - val_y1_output_loss: nan - val_y2_output_loss: nan - val_y1_output_root_mean_squared_error: nan - val_y2_output_root_mean_squared_error: nan\n",
      "Epoch 237/500\n",
      "104/104 [==============================] - 0s 2ms/step - loss: nan - y1_output_loss: nan - y2_output_loss: nan - y1_output_root_mean_squared_error: nan - y2_output_root_mean_squared_error: nan - val_loss: nan - val_y1_output_loss: nan - val_y2_output_loss: nan - val_y1_output_root_mean_squared_error: nan - val_y2_output_root_mean_squared_error: nan\n",
      "Epoch 238/500\n",
      "104/104 [==============================] - 0s 2ms/step - loss: nan - y1_output_loss: nan - y2_output_loss: nan - y1_output_root_mean_squared_error: nan - y2_output_root_mean_squared_error: nan - val_loss: nan - val_y1_output_loss: nan - val_y2_output_loss: nan - val_y1_output_root_mean_squared_error: nan - val_y2_output_root_mean_squared_error: nan\n",
      "Epoch 239/500\n",
      "104/104 [==============================] - 0s 2ms/step - loss: nan - y1_output_loss: nan - y2_output_loss: nan - y1_output_root_mean_squared_error: nan - y2_output_root_mean_squared_error: nan - val_loss: nan - val_y1_output_loss: nan - val_y2_output_loss: nan - val_y1_output_root_mean_squared_error: nan - val_y2_output_root_mean_squared_error: nan\n",
      "Epoch 240/500\n",
      "104/104 [==============================] - 0s 2ms/step - loss: nan - y1_output_loss: nan - y2_output_loss: nan - y1_output_root_mean_squared_error: nan - y2_output_root_mean_squared_error: nan - val_loss: nan - val_y1_output_loss: nan - val_y2_output_loss: nan - val_y1_output_root_mean_squared_error: nan - val_y2_output_root_mean_squared_error: nan\n",
      "Epoch 241/500\n",
      "104/104 [==============================] - 0s 2ms/step - loss: nan - y1_output_loss: nan - y2_output_loss: nan - y1_output_root_mean_squared_error: nan - y2_output_root_mean_squared_error: nan - val_loss: nan - val_y1_output_loss: nan - val_y2_output_loss: nan - val_y1_output_root_mean_squared_error: nan - val_y2_output_root_mean_squared_error: nan\n",
      "Epoch 242/500\n",
      "104/104 [==============================] - 0s 2ms/step - loss: nan - y1_output_loss: nan - y2_output_loss: nan - y1_output_root_mean_squared_error: nan - y2_output_root_mean_squared_error: nan - val_loss: nan - val_y1_output_loss: nan - val_y2_output_loss: nan - val_y1_output_root_mean_squared_error: nan - val_y2_output_root_mean_squared_error: nan\n",
      "Epoch 243/500\n"
     ]
    },
    {
     "name": "stdout",
     "output_type": "stream",
     "text": [
      "104/104 [==============================] - 0s 2ms/step - loss: nan - y1_output_loss: nan - y2_output_loss: nan - y1_output_root_mean_squared_error: nan - y2_output_root_mean_squared_error: nan - val_loss: nan - val_y1_output_loss: nan - val_y2_output_loss: nan - val_y1_output_root_mean_squared_error: nan - val_y2_output_root_mean_squared_error: nan\n",
      "Epoch 244/500\n",
      "104/104 [==============================] - 0s 2ms/step - loss: nan - y1_output_loss: nan - y2_output_loss: nan - y1_output_root_mean_squared_error: nan - y2_output_root_mean_squared_error: nan - val_loss: nan - val_y1_output_loss: nan - val_y2_output_loss: nan - val_y1_output_root_mean_squared_error: nan - val_y2_output_root_mean_squared_error: nan\n",
      "Epoch 245/500\n",
      "104/104 [==============================] - 0s 2ms/step - loss: nan - y1_output_loss: nan - y2_output_loss: nan - y1_output_root_mean_squared_error: nan - y2_output_root_mean_squared_error: nan - val_loss: nan - val_y1_output_loss: nan - val_y2_output_loss: nan - val_y1_output_root_mean_squared_error: nan - val_y2_output_root_mean_squared_error: nan\n",
      "Epoch 246/500\n",
      "104/104 [==============================] - 0s 2ms/step - loss: nan - y1_output_loss: nan - y2_output_loss: nan - y1_output_root_mean_squared_error: nan - y2_output_root_mean_squared_error: nan - val_loss: nan - val_y1_output_loss: nan - val_y2_output_loss: nan - val_y1_output_root_mean_squared_error: nan - val_y2_output_root_mean_squared_error: nan\n",
      "Epoch 247/500\n",
      "104/104 [==============================] - 0s 2ms/step - loss: nan - y1_output_loss: nan - y2_output_loss: nan - y1_output_root_mean_squared_error: nan - y2_output_root_mean_squared_error: nan - val_loss: nan - val_y1_output_loss: nan - val_y2_output_loss: nan - val_y1_output_root_mean_squared_error: nan - val_y2_output_root_mean_squared_error: nan\n",
      "Epoch 248/500\n",
      "104/104 [==============================] - 0s 2ms/step - loss: nan - y1_output_loss: nan - y2_output_loss: nan - y1_output_root_mean_squared_error: nan - y2_output_root_mean_squared_error: nan - val_loss: nan - val_y1_output_loss: nan - val_y2_output_loss: nan - val_y1_output_root_mean_squared_error: nan - val_y2_output_root_mean_squared_error: nan\n",
      "Epoch 249/500\n",
      "104/104 [==============================] - 0s 2ms/step - loss: nan - y1_output_loss: nan - y2_output_loss: nan - y1_output_root_mean_squared_error: nan - y2_output_root_mean_squared_error: nan - val_loss: nan - val_y1_output_loss: nan - val_y2_output_loss: nan - val_y1_output_root_mean_squared_error: nan - val_y2_output_root_mean_squared_error: nan\n",
      "Epoch 250/500\n",
      "104/104 [==============================] - 0s 2ms/step - loss: nan - y1_output_loss: nan - y2_output_loss: nan - y1_output_root_mean_squared_error: nan - y2_output_root_mean_squared_error: nan - val_loss: nan - val_y1_output_loss: nan - val_y2_output_loss: nan - val_y1_output_root_mean_squared_error: nan - val_y2_output_root_mean_squared_error: nan\n",
      "Epoch 251/500\n",
      "104/104 [==============================] - 0s 2ms/step - loss: nan - y1_output_loss: nan - y2_output_loss: nan - y1_output_root_mean_squared_error: nan - y2_output_root_mean_squared_error: nan - val_loss: nan - val_y1_output_loss: nan - val_y2_output_loss: nan - val_y1_output_root_mean_squared_error: nan - val_y2_output_root_mean_squared_error: nan\n",
      "Epoch 252/500\n",
      "104/104 [==============================] - 0s 2ms/step - loss: nan - y1_output_loss: nan - y2_output_loss: nan - y1_output_root_mean_squared_error: nan - y2_output_root_mean_squared_error: nan - val_loss: nan - val_y1_output_loss: nan - val_y2_output_loss: nan - val_y1_output_root_mean_squared_error: nan - val_y2_output_root_mean_squared_error: nan\n",
      "Epoch 253/500\n",
      "104/104 [==============================] - 0s 2ms/step - loss: nan - y1_output_loss: nan - y2_output_loss: nan - y1_output_root_mean_squared_error: nan - y2_output_root_mean_squared_error: nan - val_loss: nan - val_y1_output_loss: nan - val_y2_output_loss: nan - val_y1_output_root_mean_squared_error: nan - val_y2_output_root_mean_squared_error: nan\n",
      "Epoch 254/500\n",
      "104/104 [==============================] - 0s 2ms/step - loss: nan - y1_output_loss: nan - y2_output_loss: nan - y1_output_root_mean_squared_error: nan - y2_output_root_mean_squared_error: nan - val_loss: nan - val_y1_output_loss: nan - val_y2_output_loss: nan - val_y1_output_root_mean_squared_error: nan - val_y2_output_root_mean_squared_error: nan\n",
      "Epoch 255/500\n",
      "104/104 [==============================] - 0s 2ms/step - loss: nan - y1_output_loss: nan - y2_output_loss: nan - y1_output_root_mean_squared_error: nan - y2_output_root_mean_squared_error: nan - val_loss: nan - val_y1_output_loss: nan - val_y2_output_loss: nan - val_y1_output_root_mean_squared_error: nan - val_y2_output_root_mean_squared_error: nan\n",
      "Epoch 256/500\n",
      " 36/104 [=========>....................] - ETA: 0s - loss: nan - y1_output_loss: nan - y2_output_loss: nan - y1_output_root_mean_squared_error: nan - y2_output_root_mean_squared_error: nan"
     ]
    },
    {
     "ename": "KeyboardInterrupt",
     "evalue": "",
     "output_type": "error",
     "traceback": [
      "\u001b[1;31m---------------------------------------------------------------------------\u001b[0m",
      "\u001b[1;31mKeyboardInterrupt\u001b[0m                         Traceback (most recent call last)",
      "\u001b[1;32m<ipython-input-9-834dcbdd1057>\u001b[0m in \u001b[0;36m<module>\u001b[1;34m\u001b[0m\n\u001b[0;32m      1\u001b[0m \u001b[1;31m# Train the model for 500 epochs\u001b[0m\u001b[1;33m\u001b[0m\u001b[1;33m\u001b[0m\u001b[1;33m\u001b[0m\u001b[0m\n\u001b[1;32m----> 2\u001b[1;33m history = model.fit(norm_train_X, train_Y,\n\u001b[0m\u001b[0;32m      3\u001b[0m                     epochs=500, batch_size=10, validation_data=(norm_test_X, test_Y))\n",
      "\u001b[1;32mc:\\users\\alysson\\appdata\\local\\programs\\python\\python38\\lib\\site-packages\\tensorflow\\python\\keras\\engine\\training.py\u001b[0m in \u001b[0;36mfit\u001b[1;34m(self, x, y, batch_size, epochs, verbose, callbacks, validation_split, validation_data, shuffle, class_weight, sample_weight, initial_epoch, steps_per_epoch, validation_steps, validation_batch_size, validation_freq, max_queue_size, workers, use_multiprocessing)\u001b[0m\n\u001b[0;32m   1098\u001b[0m                 _r=1):\n\u001b[0;32m   1099\u001b[0m               \u001b[0mcallbacks\u001b[0m\u001b[1;33m.\u001b[0m\u001b[0mon_train_batch_begin\u001b[0m\u001b[1;33m(\u001b[0m\u001b[0mstep\u001b[0m\u001b[1;33m)\u001b[0m\u001b[1;33m\u001b[0m\u001b[1;33m\u001b[0m\u001b[0m\n\u001b[1;32m-> 1100\u001b[1;33m               \u001b[0mtmp_logs\u001b[0m \u001b[1;33m=\u001b[0m \u001b[0mself\u001b[0m\u001b[1;33m.\u001b[0m\u001b[0mtrain_function\u001b[0m\u001b[1;33m(\u001b[0m\u001b[0miterator\u001b[0m\u001b[1;33m)\u001b[0m\u001b[1;33m\u001b[0m\u001b[1;33m\u001b[0m\u001b[0m\n\u001b[0m\u001b[0;32m   1101\u001b[0m               \u001b[1;32mif\u001b[0m \u001b[0mdata_handler\u001b[0m\u001b[1;33m.\u001b[0m\u001b[0mshould_sync\u001b[0m\u001b[1;33m:\u001b[0m\u001b[1;33m\u001b[0m\u001b[1;33m\u001b[0m\u001b[0m\n\u001b[0;32m   1102\u001b[0m                 \u001b[0mcontext\u001b[0m\u001b[1;33m.\u001b[0m\u001b[0masync_wait\u001b[0m\u001b[1;33m(\u001b[0m\u001b[1;33m)\u001b[0m\u001b[1;33m\u001b[0m\u001b[1;33m\u001b[0m\u001b[0m\n",
      "\u001b[1;32mc:\\users\\alysson\\appdata\\local\\programs\\python\\python38\\lib\\site-packages\\tensorflow\\python\\eager\\def_function.py\u001b[0m in \u001b[0;36m__call__\u001b[1;34m(self, *args, **kwds)\u001b[0m\n\u001b[0;32m    826\u001b[0m     \u001b[0mtracing_count\u001b[0m \u001b[1;33m=\u001b[0m \u001b[0mself\u001b[0m\u001b[1;33m.\u001b[0m\u001b[0mexperimental_get_tracing_count\u001b[0m\u001b[1;33m(\u001b[0m\u001b[1;33m)\u001b[0m\u001b[1;33m\u001b[0m\u001b[1;33m\u001b[0m\u001b[0m\n\u001b[0;32m    827\u001b[0m     \u001b[1;32mwith\u001b[0m \u001b[0mtrace\u001b[0m\u001b[1;33m.\u001b[0m\u001b[0mTrace\u001b[0m\u001b[1;33m(\u001b[0m\u001b[0mself\u001b[0m\u001b[1;33m.\u001b[0m\u001b[0m_name\u001b[0m\u001b[1;33m)\u001b[0m \u001b[1;32mas\u001b[0m \u001b[0mtm\u001b[0m\u001b[1;33m:\u001b[0m\u001b[1;33m\u001b[0m\u001b[1;33m\u001b[0m\u001b[0m\n\u001b[1;32m--> 828\u001b[1;33m       \u001b[0mresult\u001b[0m \u001b[1;33m=\u001b[0m \u001b[0mself\u001b[0m\u001b[1;33m.\u001b[0m\u001b[0m_call\u001b[0m\u001b[1;33m(\u001b[0m\u001b[1;33m*\u001b[0m\u001b[0margs\u001b[0m\u001b[1;33m,\u001b[0m \u001b[1;33m**\u001b[0m\u001b[0mkwds\u001b[0m\u001b[1;33m)\u001b[0m\u001b[1;33m\u001b[0m\u001b[1;33m\u001b[0m\u001b[0m\n\u001b[0m\u001b[0;32m    829\u001b[0m       \u001b[0mcompiler\u001b[0m \u001b[1;33m=\u001b[0m \u001b[1;34m\"xla\"\u001b[0m \u001b[1;32mif\u001b[0m \u001b[0mself\u001b[0m\u001b[1;33m.\u001b[0m\u001b[0m_experimental_compile\u001b[0m \u001b[1;32melse\u001b[0m \u001b[1;34m\"nonXla\"\u001b[0m\u001b[1;33m\u001b[0m\u001b[1;33m\u001b[0m\u001b[0m\n\u001b[0;32m    830\u001b[0m       \u001b[0mnew_tracing_count\u001b[0m \u001b[1;33m=\u001b[0m \u001b[0mself\u001b[0m\u001b[1;33m.\u001b[0m\u001b[0mexperimental_get_tracing_count\u001b[0m\u001b[1;33m(\u001b[0m\u001b[1;33m)\u001b[0m\u001b[1;33m\u001b[0m\u001b[1;33m\u001b[0m\u001b[0m\n",
      "\u001b[1;32mc:\\users\\alysson\\appdata\\local\\programs\\python\\python38\\lib\\site-packages\\tensorflow\\python\\eager\\def_function.py\u001b[0m in \u001b[0;36m_call\u001b[1;34m(self, *args, **kwds)\u001b[0m\n\u001b[0;32m    853\u001b[0m       \u001b[1;31m# In this case we have created variables on the first call, so we run the\u001b[0m\u001b[1;33m\u001b[0m\u001b[1;33m\u001b[0m\u001b[1;33m\u001b[0m\u001b[0m\n\u001b[0;32m    854\u001b[0m       \u001b[1;31m# defunned version which is guaranteed to never create variables.\u001b[0m\u001b[1;33m\u001b[0m\u001b[1;33m\u001b[0m\u001b[1;33m\u001b[0m\u001b[0m\n\u001b[1;32m--> 855\u001b[1;33m       \u001b[1;32mreturn\u001b[0m \u001b[0mself\u001b[0m\u001b[1;33m.\u001b[0m\u001b[0m_stateless_fn\u001b[0m\u001b[1;33m(\u001b[0m\u001b[1;33m*\u001b[0m\u001b[0margs\u001b[0m\u001b[1;33m,\u001b[0m \u001b[1;33m**\u001b[0m\u001b[0mkwds\u001b[0m\u001b[1;33m)\u001b[0m  \u001b[1;31m# pylint: disable=not-callable\u001b[0m\u001b[1;33m\u001b[0m\u001b[1;33m\u001b[0m\u001b[0m\n\u001b[0m\u001b[0;32m    856\u001b[0m     \u001b[1;32melif\u001b[0m \u001b[0mself\u001b[0m\u001b[1;33m.\u001b[0m\u001b[0m_stateful_fn\u001b[0m \u001b[1;32mis\u001b[0m \u001b[1;32mnot\u001b[0m \u001b[1;32mNone\u001b[0m\u001b[1;33m:\u001b[0m\u001b[1;33m\u001b[0m\u001b[1;33m\u001b[0m\u001b[0m\n\u001b[0;32m    857\u001b[0m       \u001b[1;31m# Release the lock early so that multiple threads can perform the call\u001b[0m\u001b[1;33m\u001b[0m\u001b[1;33m\u001b[0m\u001b[1;33m\u001b[0m\u001b[0m\n",
      "\u001b[1;32mc:\\users\\alysson\\appdata\\local\\programs\\python\\python38\\lib\\site-packages\\tensorflow\\python\\eager\\function.py\u001b[0m in \u001b[0;36m__call__\u001b[1;34m(self, *args, **kwargs)\u001b[0m\n\u001b[0;32m   2940\u001b[0m       (graph_function,\n\u001b[0;32m   2941\u001b[0m        filtered_flat_args) = self._maybe_define_function(args, kwargs)\n\u001b[1;32m-> 2942\u001b[1;33m     return graph_function._call_flat(\n\u001b[0m\u001b[0;32m   2943\u001b[0m         filtered_flat_args, captured_inputs=graph_function.captured_inputs)  # pylint: disable=protected-access\n\u001b[0;32m   2944\u001b[0m \u001b[1;33m\u001b[0m\u001b[0m\n",
      "\u001b[1;32mc:\\users\\alysson\\appdata\\local\\programs\\python\\python38\\lib\\site-packages\\tensorflow\\python\\eager\\function.py\u001b[0m in \u001b[0;36m_call_flat\u001b[1;34m(self, args, captured_inputs, cancellation_manager)\u001b[0m\n\u001b[0;32m   1916\u001b[0m         and executing_eagerly):\n\u001b[0;32m   1917\u001b[0m       \u001b[1;31m# No tape is watching; skip to running the function.\u001b[0m\u001b[1;33m\u001b[0m\u001b[1;33m\u001b[0m\u001b[1;33m\u001b[0m\u001b[0m\n\u001b[1;32m-> 1918\u001b[1;33m       return self._build_call_outputs(self._inference_function.call(\n\u001b[0m\u001b[0;32m   1919\u001b[0m           ctx, args, cancellation_manager=cancellation_manager))\n\u001b[0;32m   1920\u001b[0m     forward_backward = self._select_forward_and_backward_functions(\n",
      "\u001b[1;32mc:\\users\\alysson\\appdata\\local\\programs\\python\\python38\\lib\\site-packages\\tensorflow\\python\\eager\\function.py\u001b[0m in \u001b[0;36mcall\u001b[1;34m(self, ctx, args, cancellation_manager)\u001b[0m\n\u001b[0;32m    553\u001b[0m       \u001b[1;32mwith\u001b[0m \u001b[0m_InterpolateFunctionError\u001b[0m\u001b[1;33m(\u001b[0m\u001b[0mself\u001b[0m\u001b[1;33m)\u001b[0m\u001b[1;33m:\u001b[0m\u001b[1;33m\u001b[0m\u001b[1;33m\u001b[0m\u001b[0m\n\u001b[0;32m    554\u001b[0m         \u001b[1;32mif\u001b[0m \u001b[0mcancellation_manager\u001b[0m \u001b[1;32mis\u001b[0m \u001b[1;32mNone\u001b[0m\u001b[1;33m:\u001b[0m\u001b[1;33m\u001b[0m\u001b[1;33m\u001b[0m\u001b[0m\n\u001b[1;32m--> 555\u001b[1;33m           outputs = execute.execute(\n\u001b[0m\u001b[0;32m    556\u001b[0m               \u001b[0mstr\u001b[0m\u001b[1;33m(\u001b[0m\u001b[0mself\u001b[0m\u001b[1;33m.\u001b[0m\u001b[0msignature\u001b[0m\u001b[1;33m.\u001b[0m\u001b[0mname\u001b[0m\u001b[1;33m)\u001b[0m\u001b[1;33m,\u001b[0m\u001b[1;33m\u001b[0m\u001b[1;33m\u001b[0m\u001b[0m\n\u001b[0;32m    557\u001b[0m               \u001b[0mnum_outputs\u001b[0m\u001b[1;33m=\u001b[0m\u001b[0mself\u001b[0m\u001b[1;33m.\u001b[0m\u001b[0m_num_outputs\u001b[0m\u001b[1;33m,\u001b[0m\u001b[1;33m\u001b[0m\u001b[1;33m\u001b[0m\u001b[0m\n",
      "\u001b[1;32mc:\\users\\alysson\\appdata\\local\\programs\\python\\python38\\lib\\site-packages\\tensorflow\\python\\eager\\execute.py\u001b[0m in \u001b[0;36mquick_execute\u001b[1;34m(op_name, num_outputs, inputs, attrs, ctx, name)\u001b[0m\n\u001b[0;32m     57\u001b[0m   \u001b[1;32mtry\u001b[0m\u001b[1;33m:\u001b[0m\u001b[1;33m\u001b[0m\u001b[1;33m\u001b[0m\u001b[0m\n\u001b[0;32m     58\u001b[0m     \u001b[0mctx\u001b[0m\u001b[1;33m.\u001b[0m\u001b[0mensure_initialized\u001b[0m\u001b[1;33m(\u001b[0m\u001b[1;33m)\u001b[0m\u001b[1;33m\u001b[0m\u001b[1;33m\u001b[0m\u001b[0m\n\u001b[1;32m---> 59\u001b[1;33m     tensors = pywrap_tfe.TFE_Py_Execute(ctx._handle, device_name, op_name,\n\u001b[0m\u001b[0;32m     60\u001b[0m                                         inputs, attrs, num_outputs)\n\u001b[0;32m     61\u001b[0m   \u001b[1;32mexcept\u001b[0m \u001b[0mcore\u001b[0m\u001b[1;33m.\u001b[0m\u001b[0m_NotOkStatusException\u001b[0m \u001b[1;32mas\u001b[0m \u001b[0me\u001b[0m\u001b[1;33m:\u001b[0m\u001b[1;33m\u001b[0m\u001b[1;33m\u001b[0m\u001b[0m\n",
      "\u001b[1;31mKeyboardInterrupt\u001b[0m: "
     ]
    }
   ],
   "source": [
    "# Train the model for 500 epochs\n",
    "history = model.fit(norm_train_X, train_Y,\n",
    "                    epochs=500, batch_size=10, validation_data=(norm_test_X, test_Y))"
   ]
  },
  {
   "cell_type": "markdown",
   "metadata": {
    "id": "vnAP4ShWKzgx"
   },
   "source": [
    "### Evaluate the model and plot metrics\n",
    "***"
   ]
  },
  {
   "cell_type": "code",
   "execution_count": null,
   "metadata": {
    "colab": {
     "base_uri": "https://localhost:8080/"
    },
    "id": "kRK6de_QK5NF",
    "outputId": "9176b4e2-f87c-47ae-bcfd-e63f46d24ef2"
   },
   "outputs": [
    {
     "name": "stdout",
     "output_type": "stream",
     "text": [
      "5/5 [==============================] - 0s 4ms/step - loss: 0.6979 - y1_output_loss: 0.1812 - y2_output_loss: 0.5167 - y1_output_root_mean_squared_error: 0.4257 - y2_output_root_mean_squared_error: 0.7188\n"
     ]
    }
   ],
   "source": [
    "loss, y1_loss, y2_loss, y1_rmse, y2_rmse = model.evaluate(norm_test_X, test_Y)"
   ]
  },
  {
   "cell_type": "code",
   "execution_count": null,
   "metadata": {
    "colab": {
     "base_uri": "https://localhost:8080/"
    },
    "id": "ceUK8FFRLKqi",
    "outputId": "42ec6429-388d-4739-fdd7-984fa54943b7"
   },
   "outputs": [
    {
     "name": "stdout",
     "output_type": "stream",
     "text": [
      "loss: 0.6978529691696167\n",
      "y1_loss: 0.18118329346179962\n",
      "y2_loss: 0.516669750213623\n",
      "y1_rmse: 0.4256563186645508\n",
      "y2_rmse: 0.7187974452972412\n"
     ]
    }
   ],
   "source": [
    "print('loss: {}\\ny1_loss: {}\\ny2_loss: {}\\ny1_rmse: {}\\ny2_rmse: {}'.format(loss, y1_loss, y2_loss, y1_rmse, y2_rmse))"
   ]
  },
  {
   "cell_type": "code",
   "execution_count": null,
   "metadata": {
    "id": "mrkQjPMRLdpz"
   },
   "outputs": [],
   "source": [
    "y_pred = model.predict(norm_test_X)"
   ]
  },
  {
   "cell_type": "code",
   "execution_count": null,
   "metadata": {
    "colab": {
     "base_uri": "https://localhost:8080/",
     "height": 573
    },
    "id": "Xn_Jc_9_LkUe",
    "outputId": "da6710f1-a79d-4da2-f31a-c6644ff55da5"
   },
   "outputs": [
    {
     "data": {
      "image/png": "[encoded data removed]",
      "text/plain": [
       "<Figure size 432x288 with 1 Axes>"
      ]
     },
     "metadata": {
      "needs_background": "light",
      "tags": []
     },
     "output_type": "display_data"
    },
    {
     "data": {
      "image/png": "[encoded data removed]",
      "text/plain": [
       "<Figure size 432x288 with 1 Axes>"
      ]
     },
     "metadata": {
      "needs_background": "light",
      "tags": []
     },
     "output_type": "display_data"
    }
   ],
   "source": [
    "plot_diff(test_Y[0], y_pred[0], title='Y1')\n",
    "plot_diff(test_Y[1], y_pred[1], title='Y2')"
   ]
  },
  {
   "cell_type": "code",
   "execution_count": null,
   "metadata": {
    "colab": {
     "base_uri": "https://localhost:8080/",
     "height": 545
    },
    "id": "eniuKvQlMTVg",
    "outputId": "e07d2dc7-9725-493f-85ab-2afa024c2376"
   },
   "outputs": [
    {
     "data": {
      "image/png": "[encoded data removed]",
      "text/plain": [
       "<Figure size 432x288 with 1 Axes>"
      ]
     },
     "metadata": {
      "needs_background": "light",
      "tags": []
     },
     "output_type": "display_data"
    },
    {
     "data": {
      "image/png": "[encoded data removed]",
      "text/plain": [
       "<Figure size 432x288 with 1 Axes>"
      ]
     },
     "metadata": {
      "needs_background": "light",
      "tags": []
     },
     "output_type": "display_data"
    }
   ],
   "source": [
    "plot_metrics(metric_name='y1_output_root_mean_squared_error', title='Y1 RMSE', ylim=6)\n",
    "plot_metrics(metric_name='y2_output_root_mean_squared_error', title='Y2 RMSE', ylim=7)"
   ]
  }
 ],
 "metadata": {
  "colab": {
   "name": "c1w1lab2.ipynb",
   "provenance": []
  },
  "kernelspec": {
   "display_name": "Python 3",
   "language": "python",
   "name": "python3"
  },
  "language_info": {
   "codemirror_mode": {
    "name": "ipython",
    "version": 3
   },
   "file_extension": ".py",
   "mimetype": "text/x-python",
   "name": "python",
   "nbconvert_exporter": "python",
   "pygments_lexer": "ipython3",
   "version": "3.8.10"
  }
 },
 "nbformat": 4,
 "nbformat_minor": 1
}
