{
  "nbformat": 4,
  "nbformat_minor": 0,
  "metadata": {
    "colab": {
      "name": "w2-lab2.ipynb",
      "provenance": []
    },
    "kernelspec": {
      "name": "python3",
      "display_name": "Python 3"
    },
    "language_info": {
      "name": "python"
    }
  },
  "cells": [
    {
      "cell_type": "markdown",
      "metadata": {
        "id": "drzyX8pOt0mQ"
      },
      "source": [
        "### Custom Loss Hyperparameters and Classes\n",
        "***\n",
        "In this lab, we'll extend our previous Huber loss function and show how you can include hyperparameters in defining loss functions. We'll also look at how to implement a custom loss an object by inheriting the [Loss](https://www.tensorflow.org/api_docs/python/tf/keras/losses/Loss) class."
      ]
    },
    {
      "cell_type": "markdown",
      "metadata": {
        "id": "tE4NCSYYuenG"
      },
      "source": [
        "### Imports\n",
        "***"
      ]
    },
    {
      "cell_type": "code",
      "metadata": {
        "id": "KOIzrcGxtyIR"
      },
      "source": [
        "try:\n",
        "  %tensorflow_version 2.x\n",
        "except Exception:\n",
        "  pass\n",
        "\n",
        "import tensorflow as tf\n",
        "import numpy as np\n",
        "from tensorflow import keras"
      ],
      "execution_count": 1,
      "outputs": []
    },
    {
      "cell_type": "markdown",
      "metadata": {
        "id": "ka4wCaZ7vo3q"
      },
      "source": [
        "### Dataset\n",
        "***\n",
        "As before, this model will be trained on the xs and ys below the relationship is $y=2x-1$. Thus, later, when we test x=10, whichever version of the model gets the closest answer to 19 will be deemed more accurate."
      ]
    },
    {
      "cell_type": "code",
      "metadata": {
        "id": "ZllsXwZMvIuC"
      },
      "source": [
        "xs = np.array([-1.0, 0.0, 1.0, 2.0, 3.0, 4.0], dtype=float)\n",
        "ys = np.array([-3.0, -1.0, 1.0, 3.0, 5.0, 7.0], dtype=float)"
      ],
      "execution_count": 2,
      "outputs": []
    },
    {
      "cell_type": "markdown",
      "metadata": {
        "id": "m2H9rFWIusiv"
      },
      "source": [
        "### Custom loss with hyperparameter\n",
        "***\n",
        "The loss argument in `model.compile()` only accepts functions that accepts two parameters: the ground truth (y_true) and the model predictions (y_pred). If we want to include a hyperparameter that we can tune, then we can define a wrapper function that accepts this hyperparameter."
      ]
    },
    {
      "cell_type": "code",
      "metadata": {
        "id": "XTrM20JcwASd"
      },
      "source": [
        "def my_huber_loss_with_threshold(threshold):\n",
        "\n",
        "  def my_huber_loss(y_true, y_pred):\n",
        "\n",
        "    error = y_true - y_pred\n",
        "    is_small_error = tf.abs(error) <= threshold\n",
        "    small_error_loss = tf.square(error) / 2\n",
        "    big_error_loss = threshold * (tf.abs(error) - (0.5 * threshold))\n",
        "\n",
        "    return tf.where(is_small_error, small_error_loss, big_error_loss)\n",
        "  \n",
        "  return my_huber_loss"
      ],
      "execution_count": 11,
      "outputs": []
    },
    {
      "cell_type": "markdown",
      "metadata": {
        "id": "1aHjHAeewvD_"
      },
      "source": [
        "We can now specify the loss as the wrapper function above. Notice that we can now set the threshold value. Try varying this value and see the results you get."
      ]
    },
    {
      "cell_type": "code",
      "metadata": {
        "colab": {
          "base_uri": "https://localhost:8080/"
        },
        "id": "5W0iD2TswuPd",
        "outputId": "fa24999e-7da4-448b-e61f-5e22a4cd31a2"
      },
      "source": [
        "model = tf.keras.Sequential([keras.layers.Dense(units=1, input_shape=[1])])\n",
        "model.compile(optimizer='sgd', loss=my_huber_loss_with_threshold(threshold=1.12))\n",
        "model.fit(xs, ys, epochs=500, verbose=0)\n",
        "print(model.predict([10.0]))"
      ],
      "execution_count": 18,
      "outputs": [
        {
          "output_type": "stream",
          "text": [
            "[[18.628107]]\n"
          ],
          "name": "stdout"
        }
      ]
    },
    {
      "cell_type": "markdown",
      "metadata": {
        "id": "9JoLpBAlx8kH"
      },
      "source": [
        "### Implement custom loss as a class\n",
        "***\n",
        "We can also implement our custom loss as a class. It inherits form the Keras Loss class and the syntax and required methods are shown below."
      ]
    },
    {
      "cell_type": "code",
      "metadata": {
        "id": "5cQyCbOtyLue"
      },
      "source": [
        "from tensorflow.keras.losses import Loss\n",
        "\n",
        "class myHuberLoss(Loss):\n",
        "\n",
        "  threshold = 1\n",
        "\n",
        "  def __init__(self, threshold):\n",
        "    super().__init__()\n",
        "    self.threshold = threshold\n",
        "\n",
        "  def call(self, y_true, y_pred):\n",
        "    error = y_true - y_pred\n",
        "    is_small_error = tf.abs(error) <= self.threshold\n",
        "    small_error_loss = tf.square(error) / 2\n",
        "    big_error_loss = self.threshold * (tf.abs(error) - (0.5 * self.threshold))\n",
        "\n",
        "    return tf.where(is_small_error, small_error_loss, big_error_loss)"
      ],
      "execution_count": 19,
      "outputs": []
    },
    {
      "cell_type": "markdown",
      "metadata": {
        "id": "EWZp6IaAy7NC"
      },
      "source": [
        "You can specify the loss by instanting an object from your custom loss class"
      ]
    },
    {
      "cell_type": "code",
      "metadata": {
        "colab": {
          "base_uri": "https://localhost:8080/"
        },
        "id": "woIqRsuny6Ug",
        "outputId": "29bcb9ea-9189-49de-acfa-38f3ad3bd897"
      },
      "source": [
        "model = tf.keras.Sequential([keras.layers.Dense(units=1, input_shape=[1])])\n",
        "model.compile(optimizer='sgd', loss=myHuberLoss(threshold=1.12))\n",
        "model.fit(xs, ys, epochs=500, verbose=0)\n",
        "print(model.predict([10.0]))"
      ],
      "execution_count": 21,
      "outputs": [
        {
          "output_type": "stream",
          "text": [
            "[[18.82737]]\n"
          ],
          "name": "stdout"
        }
      ]
    }
  ]
}